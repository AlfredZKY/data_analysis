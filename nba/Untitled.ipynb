{
 "cells": [
  {
   "cell_type": "code",
   "execution_count": 2,
   "metadata": {
    "ExecuteTime": {
     "end_time": "2019-11-17T05:59:50.609125Z",
     "start_time": "2019-11-17T05:59:50.342881Z"
    }
   },
   "outputs": [],
   "source": [
    "import pandas as pd\n",
    "import matplotlib.pyplot as plt\n",
    "import numpy as np"
   ]
  },
  {
   "cell_type": "markdown",
   "metadata": {},
   "source": [
    "# 读取球队统计数据"
   ]
  },
  {
   "cell_type": "code",
   "execution_count": 7,
   "metadata": {
    "ExecuteTime": {
     "end_time": "2019-11-17T06:02:59.079696Z",
     "start_time": "2019-11-17T06:02:59.069686Z"
    }
   },
   "outputs": [],
   "source": [
    "team_stats_df = pd.read_csv('./data/team.csv')"
   ]
  },
  {
   "cell_type": "code",
   "execution_count": 8,
   "metadata": {
    "ExecuteTime": {
     "end_time": "2019-11-17T06:03:00.877343Z",
     "start_time": "2019-11-17T06:03:00.845315Z"
    },
    "collapsed": true
   },
   "outputs": [
    {
     "data": {
      "text/html": [
       "<div>\n",
       "<style scoped>\n",
       "    .dataframe tbody tr th:only-of-type {\n",
       "        vertical-align: middle;\n",
       "    }\n",
       "\n",
       "    .dataframe tbody tr th {\n",
       "        vertical-align: top;\n",
       "    }\n",
       "\n",
       "    .dataframe thead th {\n",
       "        text-align: right;\n",
       "    }\n",
       "</style>\n",
       "<table border=\"1\" class=\"dataframe\">\n",
       "  <thead>\n",
       "    <tr style=\"text-align: right;\">\n",
       "      <th></th>\n",
       "      <th>Rk</th>\n",
       "      <th>Team</th>\n",
       "      <th>G</th>\n",
       "      <th>MP</th>\n",
       "      <th>FG</th>\n",
       "      <th>FGA</th>\n",
       "      <th>FG%</th>\n",
       "      <th>3P</th>\n",
       "      <th>3PA</th>\n",
       "      <th>3P%</th>\n",
       "      <th>...</th>\n",
       "      <th>FT%</th>\n",
       "      <th>ORB</th>\n",
       "      <th>DRB</th>\n",
       "      <th>TRB</th>\n",
       "      <th>AST</th>\n",
       "      <th>STL</th>\n",
       "      <th>BLK</th>\n",
       "      <th>TOV</th>\n",
       "      <th>PF</th>\n",
       "      <th>PTS</th>\n",
       "    </tr>\n",
       "  </thead>\n",
       "  <tbody>\n",
       "    <tr>\n",
       "      <td>0</td>\n",
       "      <td>1</td>\n",
       "      <td>Toronto Raptors</td>\n",
       "      <td>24</td>\n",
       "      <td>242.1</td>\n",
       "      <td>37.7</td>\n",
       "      <td>84.8</td>\n",
       "      <td>0.444</td>\n",
       "      <td>11.9</td>\n",
       "      <td>34.5</td>\n",
       "      <td>0.346</td>\n",
       "      <td>...</td>\n",
       "      <td>0.830</td>\n",
       "      <td>8.3</td>\n",
       "      <td>34.0</td>\n",
       "      <td>42.3</td>\n",
       "      <td>22.5</td>\n",
       "      <td>8.0</td>\n",
       "      <td>4.6</td>\n",
       "      <td>12.0</td>\n",
       "      <td>22.6</td>\n",
       "      <td>106.6</td>\n",
       "    </tr>\n",
       "    <tr>\n",
       "      <td>1</td>\n",
       "      <td>2</td>\n",
       "      <td>Golden State Warriors</td>\n",
       "      <td>22</td>\n",
       "      <td>242.3</td>\n",
       "      <td>41.1</td>\n",
       "      <td>86.1</td>\n",
       "      <td>0.477</td>\n",
       "      <td>12.2</td>\n",
       "      <td>32.7</td>\n",
       "      <td>0.372</td>\n",
       "      <td>...</td>\n",
       "      <td>0.813</td>\n",
       "      <td>10.1</td>\n",
       "      <td>33.2</td>\n",
       "      <td>43.3</td>\n",
       "      <td>28.4</td>\n",
       "      <td>7.4</td>\n",
       "      <td>5.7</td>\n",
       "      <td>14.9</td>\n",
       "      <td>23.2</td>\n",
       "      <td>114.1</td>\n",
       "    </tr>\n",
       "    <tr>\n",
       "      <td>2</td>\n",
       "      <td>3</td>\n",
       "      <td>Portland Trail Blazers</td>\n",
       "      <td>16</td>\n",
       "      <td>247.8</td>\n",
       "      <td>39.4</td>\n",
       "      <td>90.4</td>\n",
       "      <td>0.436</td>\n",
       "      <td>11.8</td>\n",
       "      <td>32.8</td>\n",
       "      <td>0.360</td>\n",
       "      <td>...</td>\n",
       "      <td>0.766</td>\n",
       "      <td>11.4</td>\n",
       "      <td>33.8</td>\n",
       "      <td>45.3</td>\n",
       "      <td>19.8</td>\n",
       "      <td>6.8</td>\n",
       "      <td>5.2</td>\n",
       "      <td>12.9</td>\n",
       "      <td>22.8</td>\n",
       "      <td>109.7</td>\n",
       "    </tr>\n",
       "    <tr>\n",
       "      <td>3</td>\n",
       "      <td>4</td>\n",
       "      <td>Milwaukee Bucks</td>\n",
       "      <td>15</td>\n",
       "      <td>243.3</td>\n",
       "      <td>39.8</td>\n",
       "      <td>88.4</td>\n",
       "      <td>0.450</td>\n",
       "      <td>12.8</td>\n",
       "      <td>38.1</td>\n",
       "      <td>0.336</td>\n",
       "      <td>...</td>\n",
       "      <td>0.729</td>\n",
       "      <td>10.1</td>\n",
       "      <td>41.8</td>\n",
       "      <td>51.9</td>\n",
       "      <td>25.0</td>\n",
       "      <td>6.7</td>\n",
       "      <td>6.4</td>\n",
       "      <td>12.9</td>\n",
       "      <td>21.8</td>\n",
       "      <td>112.8</td>\n",
       "    </tr>\n",
       "    <tr>\n",
       "      <td>4</td>\n",
       "      <td>5</td>\n",
       "      <td>Denver Nuggets</td>\n",
       "      <td>14</td>\n",
       "      <td>247.1</td>\n",
       "      <td>39.9</td>\n",
       "      <td>90.3</td>\n",
       "      <td>0.442</td>\n",
       "      <td>9.6</td>\n",
       "      <td>27.8</td>\n",
       "      <td>0.344</td>\n",
       "      <td>...</td>\n",
       "      <td>0.782</td>\n",
       "      <td>13.1</td>\n",
       "      <td>34.6</td>\n",
       "      <td>47.7</td>\n",
       "      <td>24.0</td>\n",
       "      <td>5.7</td>\n",
       "      <td>4.6</td>\n",
       "      <td>9.7</td>\n",
       "      <td>21.3</td>\n",
       "      <td>109.1</td>\n",
       "    </tr>\n",
       "  </tbody>\n",
       "</table>\n",
       "<p>5 rows × 25 columns</p>\n",
       "</div>"
      ],
      "text/plain": [
       "   Rk                    Team   G     MP    FG   FGA    FG%    3P   3PA  \\\n",
       "0   1         Toronto Raptors  24  242.1  37.7  84.8  0.444  11.9  34.5   \n",
       "1   2   Golden State Warriors  22  242.3  41.1  86.1  0.477  12.2  32.7   \n",
       "2   3  Portland Trail Blazers  16  247.8  39.4  90.4  0.436  11.8  32.8   \n",
       "3   4         Milwaukee Bucks  15  243.3  39.8  88.4  0.450  12.8  38.1   \n",
       "4   5          Denver Nuggets  14  247.1  39.9  90.3  0.442   9.6  27.8   \n",
       "\n",
       "     3P%  ...    FT%   ORB   DRB   TRB   AST  STL  BLK   TOV    PF    PTS  \n",
       "0  0.346  ...  0.830   8.3  34.0  42.3  22.5  8.0  4.6  12.0  22.6  106.6  \n",
       "1  0.372  ...  0.813  10.1  33.2  43.3  28.4  7.4  5.7  14.9  23.2  114.1  \n",
       "2  0.360  ...  0.766  11.4  33.8  45.3  19.8  6.8  5.2  12.9  22.8  109.7  \n",
       "3  0.336  ...  0.729  10.1  41.8  51.9  25.0  6.7  6.4  12.9  21.8  112.8  \n",
       "4  0.344  ...  0.782  13.1  34.6  47.7  24.0  5.7  4.6   9.7  21.3  109.1  \n",
       "\n",
       "[5 rows x 25 columns]"
      ]
     },
     "execution_count": 8,
     "metadata": {},
     "output_type": "execute_result"
    }
   ],
   "source": [
    "team_stats_df.head()"
   ]
  },
  {
   "cell_type": "markdown",
   "metadata": {},
   "source": [
    "# 读取对手的数据"
   ]
  },
  {
   "cell_type": "code",
   "execution_count": 9,
   "metadata": {
    "ExecuteTime": {
     "end_time": "2019-11-17T06:03:17.499965Z",
     "start_time": "2019-11-17T06:03:17.490957Z"
    }
   },
   "outputs": [],
   "source": [
    "team_opp_stats_df = pd.read_csv('./data/peer.csv')"
   ]
  },
  {
   "cell_type": "code",
   "execution_count": 11,
   "metadata": {
    "ExecuteTime": {
     "end_time": "2019-11-17T06:05:20.480574Z",
     "start_time": "2019-11-17T06:05:20.476571Z"
    }
   },
   "outputs": [],
   "source": [
    "team_opp_stats_df.columns = ['RK','Team','G'] + \\\n",
    "['opp' + x for x in team_opp_stats_df.columns[3:]]"
   ]
  },
  {
   "cell_type": "code",
   "execution_count": 12,
   "metadata": {
    "ExecuteTime": {
     "end_time": "2019-11-17T06:07:33.924832Z",
     "start_time": "2019-11-17T06:07:33.914821Z"
    }
   },
   "outputs": [],
   "source": [
    "mergedf = pd.merge(team_stats_df,team_opp_stats_df,on=['Team'])"
   ]
  },
  {
   "cell_type": "code",
   "execution_count": 14,
   "metadata": {
    "ExecuteTime": {
     "end_time": "2019-11-17T06:08:11.160425Z",
     "start_time": "2019-11-17T06:08:11.126391Z"
    }
   },
   "outputs": [
    {
     "data": {
      "text/html": [
       "<div>\n",
       "<style scoped>\n",
       "    .dataframe tbody tr th:only-of-type {\n",
       "        vertical-align: middle;\n",
       "    }\n",
       "\n",
       "    .dataframe tbody tr th {\n",
       "        vertical-align: top;\n",
       "    }\n",
       "\n",
       "    .dataframe thead th {\n",
       "        text-align: right;\n",
       "    }\n",
       "</style>\n",
       "<table border=\"1\" class=\"dataframe\">\n",
       "  <thead>\n",
       "    <tr style=\"text-align: right;\">\n",
       "      <th></th>\n",
       "      <th>Rk</th>\n",
       "      <th>Team</th>\n",
       "      <th>G_x</th>\n",
       "      <th>MP</th>\n",
       "      <th>FG</th>\n",
       "      <th>FGA</th>\n",
       "      <th>FG%</th>\n",
       "      <th>3P</th>\n",
       "      <th>3PA</th>\n",
       "      <th>3P%</th>\n",
       "      <th>...</th>\n",
       "      <th>oppFT%</th>\n",
       "      <th>oppORB</th>\n",
       "      <th>oppDRB</th>\n",
       "      <th>oppTRB</th>\n",
       "      <th>oppAST</th>\n",
       "      <th>oppSTL</th>\n",
       "      <th>oppBLK</th>\n",
       "      <th>oppTOV</th>\n",
       "      <th>oppPF</th>\n",
       "      <th>oppPTS</th>\n",
       "    </tr>\n",
       "  </thead>\n",
       "  <tbody>\n",
       "    <tr>\n",
       "      <td>0</td>\n",
       "      <td>1</td>\n",
       "      <td>Toronto Raptors</td>\n",
       "      <td>24</td>\n",
       "      <td>242.1</td>\n",
       "      <td>37.7</td>\n",
       "      <td>84.8</td>\n",
       "      <td>0.444</td>\n",
       "      <td>11.9</td>\n",
       "      <td>34.5</td>\n",
       "      <td>0.346</td>\n",
       "      <td>...</td>\n",
       "      <td>0.775</td>\n",
       "      <td>9.8</td>\n",
       "      <td>35.5</td>\n",
       "      <td>45.3</td>\n",
       "      <td>23.6</td>\n",
       "      <td>6.5</td>\n",
       "      <td>5.0</td>\n",
       "      <td>15.4</td>\n",
       "      <td>21.8</td>\n",
       "      <td>101.1</td>\n",
       "    </tr>\n",
       "    <tr>\n",
       "      <td>1</td>\n",
       "      <td>2</td>\n",
       "      <td>Golden State Warriors</td>\n",
       "      <td>22</td>\n",
       "      <td>242.3</td>\n",
       "      <td>41.1</td>\n",
       "      <td>86.1</td>\n",
       "      <td>0.477</td>\n",
       "      <td>12.2</td>\n",
       "      <td>32.7</td>\n",
       "      <td>0.372</td>\n",
       "      <td>...</td>\n",
       "      <td>0.810</td>\n",
       "      <td>10.1</td>\n",
       "      <td>30.8</td>\n",
       "      <td>41.0</td>\n",
       "      <td>22.5</td>\n",
       "      <td>7.8</td>\n",
       "      <td>3.9</td>\n",
       "      <td>14.7</td>\n",
       "      <td>22.3</td>\n",
       "      <td>110.8</td>\n",
       "    </tr>\n",
       "    <tr>\n",
       "      <td>2</td>\n",
       "      <td>3</td>\n",
       "      <td>Portland Trail Blazers</td>\n",
       "      <td>16</td>\n",
       "      <td>247.8</td>\n",
       "      <td>39.4</td>\n",
       "      <td>90.4</td>\n",
       "      <td>0.436</td>\n",
       "      <td>11.8</td>\n",
       "      <td>32.8</td>\n",
       "      <td>0.360</td>\n",
       "      <td>...</td>\n",
       "      <td>0.796</td>\n",
       "      <td>12.9</td>\n",
       "      <td>35.4</td>\n",
       "      <td>48.3</td>\n",
       "      <td>24.0</td>\n",
       "      <td>7.3</td>\n",
       "      <td>5.9</td>\n",
       "      <td>12.9</td>\n",
       "      <td>22.8</td>\n",
       "      <td>111.1</td>\n",
       "    </tr>\n",
       "    <tr>\n",
       "      <td>3</td>\n",
       "      <td>4</td>\n",
       "      <td>Milwaukee Bucks</td>\n",
       "      <td>15</td>\n",
       "      <td>243.3</td>\n",
       "      <td>39.8</td>\n",
       "      <td>88.4</td>\n",
       "      <td>0.450</td>\n",
       "      <td>12.8</td>\n",
       "      <td>38.1</td>\n",
       "      <td>0.336</td>\n",
       "      <td>...</td>\n",
       "      <td>0.802</td>\n",
       "      <td>8.5</td>\n",
       "      <td>36.7</td>\n",
       "      <td>45.2</td>\n",
       "      <td>22.6</td>\n",
       "      <td>6.9</td>\n",
       "      <td>4.8</td>\n",
       "      <td>12.1</td>\n",
       "      <td>23.3</td>\n",
       "      <td>104.0</td>\n",
       "    </tr>\n",
       "    <tr>\n",
       "      <td>4</td>\n",
       "      <td>5</td>\n",
       "      <td>Denver Nuggets</td>\n",
       "      <td>14</td>\n",
       "      <td>247.1</td>\n",
       "      <td>39.9</td>\n",
       "      <td>90.3</td>\n",
       "      <td>0.442</td>\n",
       "      <td>9.6</td>\n",
       "      <td>27.8</td>\n",
       "      <td>0.344</td>\n",
       "      <td>...</td>\n",
       "      <td>0.759</td>\n",
       "      <td>11.6</td>\n",
       "      <td>34.8</td>\n",
       "      <td>46.4</td>\n",
       "      <td>20.0</td>\n",
       "      <td>5.3</td>\n",
       "      <td>4.8</td>\n",
       "      <td>9.6</td>\n",
       "      <td>21.9</td>\n",
       "      <td>107.3</td>\n",
       "    </tr>\n",
       "  </tbody>\n",
       "</table>\n",
       "<p>5 rows × 49 columns</p>\n",
       "</div>"
      ],
      "text/plain": [
       "   Rk                    Team  G_x     MP    FG   FGA    FG%    3P   3PA  \\\n",
       "0   1         Toronto Raptors   24  242.1  37.7  84.8  0.444  11.9  34.5   \n",
       "1   2   Golden State Warriors   22  242.3  41.1  86.1  0.477  12.2  32.7   \n",
       "2   3  Portland Trail Blazers   16  247.8  39.4  90.4  0.436  11.8  32.8   \n",
       "3   4         Milwaukee Bucks   15  243.3  39.8  88.4  0.450  12.8  38.1   \n",
       "4   5          Denver Nuggets   14  247.1  39.9  90.3  0.442   9.6  27.8   \n",
       "\n",
       "     3P%  ...  oppFT%  oppORB  oppDRB  oppTRB  oppAST  oppSTL  oppBLK  oppTOV  \\\n",
       "0  0.346  ...   0.775     9.8    35.5    45.3    23.6     6.5     5.0    15.4   \n",
       "1  0.372  ...   0.810    10.1    30.8    41.0    22.5     7.8     3.9    14.7   \n",
       "2  0.360  ...   0.796    12.9    35.4    48.3    24.0     7.3     5.9    12.9   \n",
       "3  0.336  ...   0.802     8.5    36.7    45.2    22.6     6.9     4.8    12.1   \n",
       "4  0.344  ...   0.759    11.6    34.8    46.4    20.0     5.3     4.8     9.6   \n",
       "\n",
       "   oppPF  oppPTS  \n",
       "0   21.8   101.1  \n",
       "1   22.3   110.8  \n",
       "2   22.8   111.1  \n",
       "3   23.3   104.0  \n",
       "4   21.9   107.3  \n",
       "\n",
       "[5 rows x 49 columns]"
      ]
     },
     "execution_count": 14,
     "metadata": {},
     "output_type": "execute_result"
    }
   ],
   "source": [
    "mergedf.head()"
   ]
  },
  {
   "cell_type": "markdown",
   "metadata": {},
   "source": [
    "# 柱状图分析球队均得失分"
   ]
  },
  {
   "cell_type": "code",
   "execution_count": 25,
   "metadata": {
    "ExecuteTime": {
     "end_time": "2019-11-17T06:19:07.761346Z",
     "start_time": "2019-11-17T06:19:07.544147Z"
    }
   },
   "outputs": [
    {
     "data": {
      "image/png": "[encoded data removed]",
      "text/plain": [
       "<Figure size 864x432 with 1 Axes>"
      ]
     },
     "metadata": {
      "needs_background": "light"
     },
     "output_type": "display_data"
    }
   ],
   "source": [
    "pts = np.array(mergedf[['PTS', 'oppPTS']].values.tolist())\n",
    "index = np.arange(pts.shape[0])\n",
    "plt.bar(index, pts[:, 0])\n",
    "team_name = [\n",
    "    'DEN', 'SA', 'GSW', 'PHI', 'LAC', 'BKN', 'POR', 'HOU', 'TOR', 'OKC', 'UTA',\n",
    "    'MIL', 'ORL', 'BOS', 'DET', 'IND'\n",
    "]\n",
    "plt.xlabel('Score')\n",
    "plt.xlabel('Team')\n",
    "plt.yticks(np.arange(80, 141, 10))\n",
    "plt.xticks(index, team_name)\n",
    "plt.ylim(80, 140)\n",
    "plt.rcParams['figure.figsize'] = (12.0, 6.0)\n",
    "plt.show()"
   ]
  },
  {
   "cell_type": "markdown",
   "metadata": {},
   "source": [
    "# 球队得失分"
   ]
  },
  {
   "cell_type": "code",
   "execution_count": 33,
   "metadata": {
    "ExecuteTime": {
     "end_time": "2019-11-17T06:29:05.213152Z",
     "start_time": "2019-11-17T06:29:04.904259Z"
    }
   },
   "outputs": [
    {
     "data": {
      "image/png": "[encoded data removed]",
      "text/plain": [
       "<Figure size 864x432 with 1 Axes>"
      ]
     },
     "metadata": {
      "needs_background": "light"
     },
     "output_type": "display_data"
    }
   ],
   "source": [
    "fig, ax = plt.subplots()\n",
    "bar_width = 0.35\n",
    "opacity = 0.4\n",
    "rects1 = ax.bar(index,\n",
    "                pts[:, 0],\n",
    "                bar_width,\n",
    "                alpha=opacity,\n",
    "                color='b',\n",
    "                label='OFFENSE')\n",
    "rects2 = ax.bar(index + bar_width,\n",
    "                pts[:, 1],\n",
    "                bar_width,\n",
    "                alpha=opacity,\n",
    "                color='r',\n",
    "                label='DEFENSE')\n",
    "\n",
    "ax.set_xlabel('Team')\n",
    "ax.set_ylabel('Score')\n",
    "ax.set_xticks(index + bar_width / 2)\n",
    "ax.set_yticks(np.arange(80, 141, 10))\n",
    "ax.set_ylim(80,140)\n",
    "ax.set_xticklabels(team_name)\n",
    "\n",
    "ax.legend()\n",
    "plt.show()"
   ]
  },
  {
   "cell_type": "markdown",
   "metadata": {
    "ExecuteTime": {
     "end_time": "2019-11-17T06:30:29.155846Z",
     "start_time": "2019-11-17T06:30:29.152881Z"
    }
   },
   "source": [
    "# 使用散点图分析球队均得失分"
   ]
  },
  {
   "cell_type": "code",
   "execution_count": 39,
   "metadata": {
    "ExecuteTime": {
     "end_time": "2019-11-17T06:34:01.688678Z",
     "start_time": "2019-11-17T06:34:01.447456Z"
    }
   },
   "outputs": [
    {
     "data": {
      "image/png": "[encoded data removed]",
      "text/plain": [
       "<Figure size 864x432 with 1 Axes>"
      ]
     },
     "metadata": {
      "needs_background": "light"
     },
     "output_type": "display_data"
    }
   ],
   "source": [
    "plt.scatter(pts[:,0],pts[:,1])\n",
    "plt.ylabel('Offense PTS')\n",
    "plt.xlabel('Defense PTS')\n",
    "for i in range(len(pts[:,0])):\n",
    "    plt.annotate(team_name[i],xy=(pts[i,0],pts[i,1]),xytext=(pts[i,0] + 0.1,pts[i,1]+0.1))\n",
    "    \n",
    "plt.show()"
   ]
  },
  {
   "cell_type": "code",
   "execution_count": null,
   "metadata": {},
   "outputs": [],
   "source": []
  }
 ],
 "metadata": {
  "kernelspec": {
   "display_name": "py3.6",
   "language": "python",
   "name": "py3.6"
  },
  "language_info": {
   "codemirror_mode": {
    "name": "ipython",
    "version": 3
   },
   "file_extension": ".py",
   "mimetype": "text/x-python",
   "name": "python",
   "nbconvert_exporter": "python",
   "pygments_lexer": "ipython3",
   "version": "3.6.2"
  },
  "toc": {
   "base_numbering": 1,
   "nav_menu": {},
   "number_sections": true,
   "sideBar": true,
   "skip_h1_title": false,
   "title_cell": "Table of Contents",
   "title_sidebar": "Contents",
   "toc_cell": false,
   "toc_position": {
    "height": "calc(100% - 180px)",
    "left": "10px",
    "top": "150px",
    "width": "165px"
   },
   "toc_section_display": true,
   "toc_window_display": false
  },
  "varInspector": {
   "cols": {
    "lenName": 16,
    "lenType": 16,
    "lenVar": 40
   },
   "kernels_config": {
    "python": {
     "delete_cmd_postfix": "",
     "delete_cmd_prefix": "del ",
     "library": "var_list.py",
     "varRefreshCmd": "print(var_dic_list())"
    },
    "r": {
     "delete_cmd_postfix": ") ",
     "delete_cmd_prefix": "rm(",
     "library": "var_list.r",
     "varRefreshCmd": "cat(var_dic_list()) "
    }
   },
   "types_to_exclude": [
    "module",
    "function",
    "builtin_function_or_method",
    "instance",
    "_Feature"
   ],
   "window_display": false
  }
 },
 "nbformat": 4,
 "nbformat_minor": 2
}
