{
  "nbformat": 4,
  "nbformat_minor": 0,
  "metadata": {
    "colab": {
      "name": "list_tuple.ipynb",
      "provenance": [],
      "collapsed_sections": [
        "DQyR54ijXYPj",
        "WIRkws5-XbVt",
        "F5QBvYTFZSun",
        "VrYYdkqJZnr_",
        "h9HjLbptaNbG",
        "QhpiXMiMajr8",
        "TkD9GF62bKpz"
      ],
      "authorship_tag": "ABX9TyOMcTSi51EV9t2e3pcLnD/Z",
      "include_colab_link": true
    },
    "kernelspec": {
      "name": "python3",
      "display_name": "Python 3"
    }
  },
  "cells": [
    {
      "cell_type": "markdown",
      "metadata": {
        "id": "view-in-github",
        "colab_type": "text"
      },
      "source": [
        "<a href=\"https://colab.research.google.com/github/AlfredZKY/dataanalysis/blob/master/list_tuple.ipynb\" target=\"_parent\"><img src=\"https://colab.research.google.com/assets/colab-badge.svg\" alt=\"Open In Colab\"/></a>"
      ]
    },
    {
      "cell_type": "markdown",
      "metadata": {
        "id": "DQyR54ijXYPj",
        "colab_type": "text"
      },
      "source": [
        "### 列表和元组都是可以放置任意类型数据的集合"
      ]
    },
    {
      "cell_type": "code",
      "metadata": {
        "id": "zb76GNpjXRLk",
        "colab_type": "code",
        "colab": {
          "base_uri": "https://localhost:8080/",
          "height": 35
        },
        "outputId": "1fe977a9-c383-4eb0-c21e-eeb26ddb7e1e"
      },
      "source": [
        "l = [1,2,3] #原组中可同时和含有int和string类型的元素\n",
        "l"
      ],
      "execution_count": 26,
      "outputs": [
        {
          "output_type": "execute_result",
          "data": {
            "text/plain": [
              "[1, 2, 3]"
            ]
          },
          "metadata": {
            "tags": []
          },
          "execution_count": 26
        }
      ]
    },
    {
      "cell_type": "code",
      "metadata": {
        "id": "F8qffjCCX6Yg",
        "colab_type": "code",
        "colab": {
          "base_uri": "https://localhost:8080/",
          "height": 35
        },
        "outputId": "04a6225a-caa3-4644-8df6-1ff3bcbe6c3b"
      },
      "source": [
        "tup = ('json',22) # 元组中可同时和含有int和string类型的元素\n",
        "tup"
      ],
      "execution_count": 3,
      "outputs": [
        {
          "output_type": "execute_result",
          "data": {
            "text/plain": [
              "('json', 22)"
            ]
          },
          "metadata": {
            "tags": []
          },
          "execution_count": 3
        }
      ]
    },
    {
      "cell_type": "code",
      "metadata": {
        "id": "R21G7TjxYTY8",
        "colab_type": "code",
        "colab": {}
      },
      "source": [
        ""
      ],
      "execution_count": 0,
      "outputs": []
    },
    {
      "cell_type": "markdown",
      "metadata": {
        "id": "WIRkws5-XbVt",
        "colab_type": "text"
      },
      "source": [
        "### 列表是动态的，长度大小不固定，可以随意地增加、删减或者改变元素(mutable)\n",
        "### 而元组是静态的，长度代大小固定，无法增加删减或者改变(immutable)"
      ]
    },
    {
      "cell_type": "code",
      "metadata": {
        "id": "PswFoQqIYvKY",
        "colab_type": "code",
        "colab": {}
      },
      "source": [
        "l[3] = 40 # 列表可以直接赋值"
      ],
      "execution_count": 0,
      "outputs": []
    },
    {
      "cell_type": "code",
      "metadata": {
        "id": "4ucoD6z-Y6ZS",
        "colab_type": "code",
        "colab": {}
      },
      "source": [
        "tup[1] = 222 # 原组不可改变"
      ],
      "execution_count": 0,
      "outputs": []
    },
    {
      "cell_type": "markdown",
      "metadata": {
        "id": "F5QBvYTFZSun",
        "colab_type": "text"
      },
      "source": [
        "### 如果想要更改原组，就只能重新开辟一块内存，创建新的元组"
      ]
    },
    {
      "cell_type": "code",
      "metadata": {
        "id": "a0uZuVRSZOdo",
        "colab_type": "code",
        "colab": {
          "base_uri": "https://localhost:8080/",
          "height": 35
        },
        "outputId": "5af1b18d-bb85-42f8-fe2f-d48000fa3dc3"
      },
      "source": [
        "new_tup = tup + (5,)\n",
        "new_tupm"
      ],
      "execution_count": 8,
      "outputs": [
        {
          "output_type": "execute_result",
          "data": {
            "text/plain": [
              "('json', 22, 5)"
            ]
          },
          "metadata": {
            "tags": []
          },
          "execution_count": 8
        }
      ]
    },
    {
      "cell_type": "code",
      "metadata": {
        "id": "n_bhRcKlZhrk",
        "colab_type": "code",
        "colab": {
          "base_uri": "https://localhost:8080/",
          "height": 35
        },
        "outputId": "2823d925-76c5-4e77-815c-d6857c4d6056"
      },
      "source": [
        "l.append(6)\n",
        "l"
      ],
      "execution_count": 9,
      "outputs": [
        {
          "output_type": "execute_result",
          "data": {
            "text/plain": [
              "[1, 2, 3, 40, 5, 6]"
            ]
          },
          "metadata": {
            "tags": []
          },
          "execution_count": 9
        }
      ]
    },
    {
      "cell_type": "markdown",
      "metadata": {
        "id": "VrYYdkqJZnr_",
        "colab_type": "text"
      },
      "source": [
        "### 和其他语言不同，python中的列表和元组都支持复数索引，-1代表最后一个元素，-2代表倒数第二个元素，以此类推"
      ]
    },
    {
      "cell_type": "code",
      "metadata": {
        "id": "ThQgXPISaF9B",
        "colab_type": "code",
        "colab": {
          "base_uri": "https://localhost:8080/",
          "height": 35
        },
        "outputId": "3e3705ca-920a-44c4-ef49-2736990f569e"
      },
      "source": [
        "l[-1]"
      ],
      "execution_count": 10,
      "outputs": [
        {
          "output_type": "execute_result",
          "data": {
            "text/plain": [
              "6"
            ]
          },
          "metadata": {
            "tags": []
          },
          "execution_count": 10
        }
      ]
    },
    {
      "cell_type": "code",
      "metadata": {
        "id": "Gh_p-VQFaJLQ",
        "colab_type": "code",
        "colab": {
          "base_uri": "https://localhost:8080/",
          "height": 35
        },
        "outputId": "610341c0-014c-4ec2-ec49-090943290f91"
      },
      "source": [
        "tup[-1]"
      ],
      "execution_count": 11,
      "outputs": [
        {
          "output_type": "execute_result",
          "data": {
            "text/plain": [
              "22"
            ]
          },
          "metadata": {
            "tags": []
          },
          "execution_count": 11
        }
      ]
    },
    {
      "cell_type": "markdown",
      "metadata": {
        "id": "h9HjLbptaNbG",
        "colab_type": "text"
      },
      "source": [
        "### 除了基本的初始化，索引外，列表和远祖都支持和切片操作"
      ]
    },
    {
      "cell_type": "code",
      "metadata": {
        "id": "wN7qyolraWUU",
        "colab_type": "code",
        "colab": {
          "base_uri": "https://localhost:8080/",
          "height": 35
        },
        "outputId": "a0edd301-5741-405e-fdf7-80ff500e0958"
      },
      "source": [
        "l[1:3]"
      ],
      "execution_count": 12,
      "outputs": [
        {
          "output_type": "execute_result",
          "data": {
            "text/plain": [
              "[2, 3]"
            ]
          },
          "metadata": {
            "tags": []
          },
          "execution_count": 12
        }
      ]
    },
    {
      "cell_type": "code",
      "metadata": {
        "id": "mLrwC0pIaZPl",
        "colab_type": "code",
        "colab": {
          "base_uri": "https://localhost:8080/",
          "height": 35
        },
        "outputId": "e0e4aec4-ace3-49fc-d50a-3046a87fe469"
      },
      "source": [
        "tup[1:3]"
      ],
      "execution_count": 14,
      "outputs": [
        {
          "output_type": "execute_result",
          "data": {
            "text/plain": [
              "(22,)"
            ]
          },
          "metadata": {
            "tags": []
          },
          "execution_count": 14
        }
      ]
    },
    {
      "cell_type": "markdown",
      "metadata": {
        "id": "QhpiXMiMajr8",
        "colab_type": "text"
      },
      "source": [
        "### 另外列表和元组都可以随意嵌套"
      ]
    },
    {
      "cell_type": "code",
      "metadata": {
        "id": "KK6JAAEtav4r",
        "colab_type": "code",
        "colab": {
          "base_uri": "https://localhost:8080/",
          "height": 35
        },
        "outputId": "254272c7-4066-4f69-ed93-b763ccda191f"
      },
      "source": [
        "l1 = [([1,2],[3,4])]\n",
        "l1"
      ],
      "execution_count": 17,
      "outputs": [
        {
          "output_type": "execute_result",
          "data": {
            "text/plain": [
              "[([1, 2], [3, 4])]"
            ]
          },
          "metadata": {
            "tags": []
          },
          "execution_count": 17
        }
      ]
    },
    {
      "cell_type": "code",
      "metadata": {
        "id": "gC08fOrOa_Bq",
        "colab_type": "code",
        "colab": {
          "base_uri": "https://localhost:8080/",
          "height": 35
        },
        "outputId": "c28ad43b-cdc7-49da-b008-cc5b13b24e53"
      },
      "source": [
        "tup1 = ([1,2,3])\n",
        "tup1"
      ],
      "execution_count": 18,
      "outputs": [
        {
          "output_type": "execute_result",
          "data": {
            "text/plain": [
              "[1, 2, 3]"
            ]
          },
          "metadata": {
            "tags": []
          },
          "execution_count": 18
        }
      ]
    },
    {
      "cell_type": "markdown",
      "metadata": {
        "id": "TkD9GF62bKpz",
        "colab_type": "text"
      },
      "source": [
        "### 列表和元组常用的内置函数"
      ]
    },
    {
      "cell_type": "code",
      "metadata": {
        "id": "Kgl_epsqbY06",
        "colab_type": "code",
        "colab": {
          "base_uri": "https://localhost:8080/",
          "height": 35
        },
        "outputId": "105d3f52-6e13-494c-8b8a-45e74b9a1567"
      },
      "source": [
        "l.count(3) # count(item)表示统计列表/元组中item出现的次数\n",
        "l.index(3) # index(item)表示返回列表/元组中item第一次出现的索引\n",
        "l.reverse() # list.reverse()和list.sort()分别表示原地倒转列表和排序(元组没有这两个函数)\n",
        "l\n",
        "l.sort()\n",
        "l"
      ],
      "execution_count": 24,
      "outputs": [
        {
          "output_type": "execute_result",
          "data": {
            "text/plain": [
              "[1, 2, 3, 5, 6, 40]"
            ]
          },
          "metadata": {
            "tags": []
          },
          "execution_count": 24
        }
      ]
    },
    {
      "cell_type": "markdown",
      "metadata": {
        "id": "5OuyjXJoc_SE",
        "colab_type": "text"
      },
      "source": [
        "### 列表和元组存储方式的差异\n",
        "#### 由于列表是动态的存储，所以它需要存储指针，来指向对应的元素，因此需要额外存储，这样才可以实时追踪列表空间的使用情况，当空间不足时，及时分配额外空间"
      ]
    },
    {
      "cell_type": "code",
      "metadata": {
        "id": "5YlsOduhdIFi",
        "colab_type": "code",
        "colab": {
          "base_uri": "https://localhost:8080/",
          "height": 35
        },
        "outputId": "ee7b59c6-58de-45f7-d11b-dc74a7c7b688"
      },
      "source": [
        "l.__sizeof__()"
      ],
      "execution_count": 27,
      "outputs": [
        {
          "output_type": "execute_result",
          "data": {
            "text/plain": [
              "64"
            ]
          },
          "metadata": {
            "tags": []
          },
          "execution_count": 27
        }
      ]
    },
    {
      "cell_type": "code",
      "metadata": {
        "id": "mfde7QyMdT-K",
        "colab_type": "code",
        "colab": {
          "base_uri": "https://localhost:8080/",
          "height": 35
        },
        "outputId": "b2fd716e-e2d4-4082-a3d8-9be148ba4af7"
      },
      "source": [
        "tup = (1,2,3)\n",
        "tup.__sizeof__()"
      ],
      "execution_count": 30,
      "outputs": [
        {
          "output_type": "execute_result",
          "data": {
            "text/plain": [
              "48"
            ]
          },
          "metadata": {
            "tags": []
          },
          "execution_count": 30
        }
      ]
    },
    {
      "cell_type": "code",
      "metadata": {
        "id": "mPN-Ac5efRkB",
        "colab_type": "code",
        "colab": {}
      },
      "source": [
        "l = []\n",
        "print(l.__sizeof__())\n",
        "l.append(1)\n",
        "print(l.__sizeof__())\n",
        "l.append(2)\n",
        "print(l.__sizeof__())\n",
        "l.append(3)\n",
        "print(l.__sizeof__())\n",
        "l.append(4)\n",
        "print(l.__sizeof__())\n",
        "l.append(5)   # 加入5以后，列表的空间不足，所以又额外分配了可以存储4个元素的空间\n",
        "print(l.__sizeof__())"
      ],
      "execution_count": 0,
      "outputs": []
    }
  ]
}