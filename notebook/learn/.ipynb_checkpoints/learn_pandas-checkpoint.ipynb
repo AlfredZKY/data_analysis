{
 "cells": [
  {
   "cell_type": "markdown",
   "metadata": {
    "ExecuteTime": {
     "end_time": "2019-07-26T14:12:14.977196Z",
     "start_time": "2019-07-26T14:12:14.974198Z"
    }
   },
   "source": [
    "# pandas中包括series,dataframe和panel"
   ]
  },
  {
   "cell_type": "code",
   "execution_count": 3,
   "metadata": {
    "ExecuteTime": {
     "end_time": "2019-07-26T14:12:46.020774Z",
     "start_time": "2019-07-26T14:12:44.532451Z"
    },
    "collapsed": true
   },
   "outputs": [],
   "source": [
    "import pandas as pd"
   ]
  },
  {
   "cell_type": "markdown",
   "metadata": {},
   "source": [
    "# 1.1umpy(np)和pandas(pd)每个维度下的数据结构可以看出、\n",
    "# pd多维数据表 = np多维数组 + 描述\n",
    "# 其中\n",
    "# series = 1darray + index\n",
    "# dataframe = 2darray + index + colums\n",
    "# panel = 3darray + index + columns + item"
   ]
  },
  {
   "cell_type": "markdown",
   "metadata": {
    "ExecuteTime": {
     "end_time": "2019-07-26T14:17:59.842057Z",
     "start_time": "2019-07-26T14:17:59.839058Z"
    }
   },
   "source": [
    "# 1.2数据表的创建\n",
    "# series:一维数据，类似python的list,最基本的数据结构\n",
    "# Dataframe:二维数据，dataframe时series的容器\n",
    "# panel:三维数据，panel时dataframe的容器"
   ]
  },
  {
   "cell_type": "markdown",
   "metadata": {},
   "source": [
    "# 1.2.1 按部就班法\n",
    "# list、numpy数组，字典"
   ]
  },
  {
   "cell_type": "code",
   "execution_count": 9,
   "metadata": {
    "ExecuteTime": {
     "end_time": "2019-07-26T14:24:28.414546Z",
     "start_time": "2019-07-26T14:24:28.408551Z"
    }
   },
   "outputs": [
    {
     "data": {
      "text/plain": [
       "array([27.  , 27.65, 27.7 , 28.  ])"
      ]
     },
     "execution_count": 9,
     "metadata": {},
     "output_type": "execute_result"
    }
   ],
   "source": [
    "s = pd.Series([27,27.65,27.70,28])\n",
    "s\n",
    "# 查看Series所有的内置函数\n",
    "# dir(s)\n",
    "s.index\n",
    "s.values"
   ]
  },
  {
   "cell_type": "markdown",
   "metadata": {},
   "source": [
    "# 1.2.1.1list"
   ]
  },
  {
   "cell_type": "code",
   "execution_count": 15,
   "metadata": {
    "ExecuteTime": {
     "end_time": "2019-07-26T14:28:18.068822Z",
     "start_time": "2019-07-26T14:28:18.060826Z"
    },
    "code_folding": [
     0
    ]
   },
   "outputs": [
    {
     "data": {
      "text/plain": [
       "2019-04-01    27.20\n",
       "2019-04-02    27.65\n",
       "2019-04-03    27.70\n",
       "2019-04-04    28.00\n",
       "Freq: D, Name: 海底捞股价, dtype: float64"
      ]
     },
     "execution_count": 15,
     "metadata": {},
     "output_type": "execute_result"
    }
   ],
   "source": [
    "# periods 代表的频率是天\n",
    "dates = pd.date_range('20190401',periods=4)\n",
    "s2 = pd.Series([27.2, 27.65, 27.70, 28],index=dates)\n",
    "s2.index\n",
    "s2.name = '海底捞股价'\n",
    "s2"
   ]
  },
  {
   "cell_type": "code",
   "execution_count": 16,
   "metadata": {
    "ExecuteTime": {
     "end_time": "2019-07-26T14:30:30.074226Z",
     "start_time": "2019-07-26T14:30:30.071228Z"
    },
    "code_folding": [
     0
    ],
    "collapsed": true
   },
   "outputs": [],
   "source": [
    "# Series内置函数用法\n",
    "# len:s里的元素个数\n",
    "# shape:s的形状，用元组表示\n",
    "# count:s里不含nan的元素个数\n",
    "# unique：返回s里不重复的元素\n",
    "# value_counts：统计s里非nan元素的出现次数\n"
   ]
  },
  {
   "cell_type": "markdown",
   "metadata": {},
   "source": [
    "# 1.2.1.2 numpy"
   ]
  },
  {
   "cell_type": "code",
   "execution_count": 21,
   "metadata": {
    "ExecuteTime": {
     "end_time": "2019-07-26T14:35:29.087974Z",
     "start_time": "2019-07-26T14:35:29.078980Z"
    }
   },
   "outputs": [
    {
     "name": "stdout",
     "output_type": "stream",
     "text": [
      "the length is  6\n",
      "the shape is  (6,)\n",
      "the count is  5\n",
      "the unique is  [27.2  27.65 27.7  28.     nan]\n",
      "the vale_counts is  28.00    2\n",
      "27.70    1\n",
      "27.65    1\n",
      "27.20    1\n",
      "dtype: int64\n"
     ]
    }
   ],
   "source": [
    "s = pd.Series(np.array([27.2, 27.65, 27.70, 28, 28, np.nan]))\n",
    "print('the length is ',len(s))\n",
    "print('the shape is ',s.shape)\n",
    "print('the count is ',s.count())\n",
    "print('the unique is ',s.unique())\n",
    "print('the vale_counts is ',s.value_counts())"
   ]
  },
  {
   "cell_type": "markdown",
   "metadata": {},
   "source": [
    "# 1.2.1.3 map"
   ]
  },
  {
   "cell_type": "code",
   "execution_count": 26,
   "metadata": {
    "ExecuteTime": {
     "end_time": "2019-07-26T14:37:33.067109Z",
     "start_time": "2019-07-26T14:37:33.059113Z"
    }
   },
   "outputs": [
    {
     "data": {
      "text/plain": [
       "股票代号\n",
       "BABA    187.07\n",
       "BIDU    184.77\n",
       "JD       30.79\n",
       "PDD      21.83\n",
       "Name: 中概股, dtype: float64"
      ]
     },
     "execution_count": 26,
     "metadata": {},
     "output_type": "execute_result"
    }
   ],
   "source": [
    "data_dict = { 'BABA': 187.07, 'PDD': 21.83, 'JD': 30.79, 'BIDU': 184.77 }\n",
    "s3 = pd.Series(data_dict,name='中概股')\n",
    "s3.index.name = '股票代号'\n",
    "s3"
   ]
  },
  {
   "cell_type": "markdown",
   "metadata": {
    "ExecuteTime": {
     "end_time": "2019-07-26T14:40:37.863061Z",
     "start_time": "2019-07-26T14:40:37.859064Z"
    },
    "code_folding": []
   },
   "source": [
    "# 1.3 创建dataframe "
   ]
  },
  {
   "cell_type": "code",
   "execution_count": 29,
   "metadata": {
    "ExecuteTime": {
     "end_time": "2019-07-26T14:41:02.971378Z",
     "start_time": "2019-07-26T14:41:02.967381Z"
    },
    "collapsed": true
   },
   "outputs": [],
   "source": [
    "# pd.DataFrame( x, index=id，columns=col )\n",
    "# x可以是 二维list，二维numpy数组。字典，另外一个dataframe。"
   ]
  },
  {
   "cell_type": "markdown",
   "metadata": {},
   "source": [
    "# 1.3.1 用列表或numpy数组创建"
   ]
  },
  {
   "cell_type": "code",
   "execution_count": 30,
   "metadata": {
    "ExecuteTime": {
     "end_time": "2019-07-26T14:42:13.087109Z",
     "start_time": "2019-07-26T14:42:13.071119Z"
    }
   },
   "outputs": [
    {
     "data": {
      "text/html": [
       "<div>\n",
       "<style scoped>\n",
       "    .dataframe tbody tr th:only-of-type {\n",
       "        vertical-align: middle;\n",
       "    }\n",
       "\n",
       "    .dataframe tbody tr th {\n",
       "        vertical-align: top;\n",
       "    }\n",
       "\n",
       "    .dataframe thead th {\n",
       "        text-align: right;\n",
       "    }\n",
       "</style>\n",
       "<table border=\"1\" class=\"dataframe\">\n",
       "  <thead>\n",
       "    <tr style=\"text-align: right;\">\n",
       "      <th></th>\n",
       "      <th>0</th>\n",
       "      <th>1</th>\n",
       "      <th>2</th>\n",
       "    </tr>\n",
       "  </thead>\n",
       "  <tbody>\n",
       "    <tr>\n",
       "      <th>0</th>\n",
       "      <td>1</td>\n",
       "      <td>2</td>\n",
       "      <td>3</td>\n",
       "    </tr>\n",
       "    <tr>\n",
       "      <th>1</th>\n",
       "      <td>4</td>\n",
       "      <td>5</td>\n",
       "      <td>6</td>\n",
       "    </tr>\n",
       "  </tbody>\n",
       "</table>\n",
       "</div>"
      ],
      "text/plain": [
       "   0  1  2\n",
       "0  1  2  3\n",
       "1  4  5  6"
      ]
     },
     "execution_count": 30,
     "metadata": {},
     "output_type": "execute_result"
    }
   ],
   "source": [
    "df1 = pd.DataFrame([[1,2,3],[4,5,6]])\n",
    "df1"
   ]
  },
  {
   "cell_type": "markdown",
   "metadata": {},
   "source": [
    "# 1.3.2用字典创建"
   ]
  },
  {
   "cell_type": "code",
   "execution_count": 34,
   "metadata": {
    "ExecuteTime": {
     "end_time": "2019-07-26T14:45:05.810577Z",
     "start_time": "2019-07-26T14:45:05.800584Z"
    }
   },
   "outputs": [
    {
     "data": {
      "text/plain": [
       "Index(['交易量', '价格', '行业', '雇员'], dtype='object')"
      ]
     },
     "execution_count": 34,
     "metadata": {},
     "output_type": "execute_result"
    }
   ],
   "source": [
    "symbol = ['BABA', 'JD', 'AAPL', 'MS', 'GS', 'WMT']\n",
    "data = {'行业': ['电商', '电商', '科技', '金融', '金融', '零售'],\n",
    "'价格': [176.92, 25.95, 172.97, 41.79, 196.00, 99.55],\n",
    "'交易量': [16175610, 27113291, 18913154, 10132145, 2626634, 8086946],\n",
    "'雇员': [101550, 175336, 100000, 60348, 36600, 2200000]}\n",
    "df2 = pd.DataFrame(data,index=symbol)\n",
    "df2.name = '美股'\n",
    "df2.index.name = '股票代号'\n",
    "df2\n",
    "df2.values\n",
    "df2.index\n",
    "df2.columns"
   ]
  },
  {
   "cell_type": "markdown",
   "metadata": {},
   "source": [
    "# 1.3.3 查看datafra"
   ]
  },
  {
   "cell_type": "code",
   "execution_count": 36,
   "metadata": {
    "ExecuteTime": {
     "end_time": "2019-07-26T14:46:32.080706Z",
     "start_time": "2019-07-26T14:46:32.067713Z"
    }
   },
   "outputs": [
    {
     "data": {
      "text/html": [
       "<div>\n",
       "<style scoped>\n",
       "    .dataframe tbody tr th:only-of-type {\n",
       "        vertical-align: middle;\n",
       "    }\n",
       "\n",
       "    .dataframe tbody tr th {\n",
       "        vertical-align: top;\n",
       "    }\n",
       "\n",
       "    .dataframe thead th {\n",
       "        text-align: right;\n",
       "    }\n",
       "</style>\n",
       "<table border=\"1\" class=\"dataframe\">\n",
       "  <thead>\n",
       "    <tr style=\"text-align: right;\">\n",
       "      <th></th>\n",
       "      <th>交易量</th>\n",
       "      <th>价格</th>\n",
       "      <th>行业</th>\n",
       "      <th>雇员</th>\n",
       "    </tr>\n",
       "    <tr>\n",
       "      <th>股票代号</th>\n",
       "      <th></th>\n",
       "      <th></th>\n",
       "      <th></th>\n",
       "      <th></th>\n",
       "    </tr>\n",
       "  </thead>\n",
       "  <tbody>\n",
       "    <tr>\n",
       "      <th>MS</th>\n",
       "      <td>10132145</td>\n",
       "      <td>41.79</td>\n",
       "      <td>金融</td>\n",
       "      <td>60348</td>\n",
       "    </tr>\n",
       "    <tr>\n",
       "      <th>GS</th>\n",
       "      <td>2626634</td>\n",
       "      <td>196.00</td>\n",
       "      <td>金融</td>\n",
       "      <td>36600</td>\n",
       "    </tr>\n",
       "    <tr>\n",
       "      <th>WMT</th>\n",
       "      <td>8086946</td>\n",
       "      <td>99.55</td>\n",
       "      <td>零售</td>\n",
       "      <td>2200000</td>\n",
       "    </tr>\n",
       "  </tbody>\n",
       "</table>\n",
       "</div>"
      ],
      "text/plain": [
       "           交易量      价格  行业       雇员\n",
       "股票代号                               \n",
       "MS    10132145   41.79  金融    60348\n",
       "GS     2626634  196.00  金融    36600\n",
       "WMT    8086946   99.55  零售  2200000"
      ]
     },
     "execution_count": 36,
     "metadata": {},
     "output_type": "execute_result"
    }
   ],
   "source": [
    "# 我们可以从头或从尾部查看 DataFrame 的 n 行，分别用 df2.head() 和df2.tail(n)，如果没有设定 n，默认值为 5 行。\n",
    "df2.head()\n",
    "df2.tail(3)"
   ]
  },
  {
   "cell_type": "markdown",
   "metadata": {},
   "source": [
    "# 1.3.4 统计dataf"
   ]
  },
  {
   "cell_type": "code",
   "execution_count": 37,
   "metadata": {
    "ExecuteTime": {
     "end_time": "2019-07-26T14:47:26.348827Z",
     "start_time": "2019-07-26T14:47:26.291861Z"
    }
   },
   "outputs": [
    {
     "data": {
      "text/html": [
       "<div>\n",
       "<style scoped>\n",
       "    .dataframe tbody tr th:only-of-type {\n",
       "        vertical-align: middle;\n",
       "    }\n",
       "\n",
       "    .dataframe tbody tr th {\n",
       "        vertical-align: top;\n",
       "    }\n",
       "\n",
       "    .dataframe thead th {\n",
       "        text-align: right;\n",
       "    }\n",
       "</style>\n",
       "<table border=\"1\" class=\"dataframe\">\n",
       "  <thead>\n",
       "    <tr style=\"text-align: right;\">\n",
       "      <th></th>\n",
       "      <th>交易量</th>\n",
       "      <th>价格</th>\n",
       "      <th>雇员</th>\n",
       "    </tr>\n",
       "  </thead>\n",
       "  <tbody>\n",
       "    <tr>\n",
       "      <th>count</th>\n",
       "      <td>6.000000e+00</td>\n",
       "      <td>6.000000</td>\n",
       "      <td>6.000000e+00</td>\n",
       "    </tr>\n",
       "    <tr>\n",
       "      <th>mean</th>\n",
       "      <td>1.384130e+07</td>\n",
       "      <td>118.863333</td>\n",
       "      <td>4.456390e+05</td>\n",
       "    </tr>\n",
       "    <tr>\n",
       "      <th>std</th>\n",
       "      <td>8.717312e+06</td>\n",
       "      <td>73.748714</td>\n",
       "      <td>8.607522e+05</td>\n",
       "    </tr>\n",
       "    <tr>\n",
       "      <th>min</th>\n",
       "      <td>2.626634e+06</td>\n",
       "      <td>25.950000</td>\n",
       "      <td>3.660000e+04</td>\n",
       "    </tr>\n",
       "    <tr>\n",
       "      <th>25%</th>\n",
       "      <td>8.598246e+06</td>\n",
       "      <td>56.230000</td>\n",
       "      <td>7.026100e+04</td>\n",
       "    </tr>\n",
       "    <tr>\n",
       "      <th>50%</th>\n",
       "      <td>1.315388e+07</td>\n",
       "      <td>136.260000</td>\n",
       "      <td>1.007750e+05</td>\n",
       "    </tr>\n",
       "    <tr>\n",
       "      <th>75%</th>\n",
       "      <td>1.822877e+07</td>\n",
       "      <td>175.932500</td>\n",
       "      <td>1.568895e+05</td>\n",
       "    </tr>\n",
       "    <tr>\n",
       "      <th>max</th>\n",
       "      <td>2.711329e+07</td>\n",
       "      <td>196.000000</td>\n",
       "      <td>2.200000e+06</td>\n",
       "    </tr>\n",
       "  </tbody>\n",
       "</table>\n",
       "</div>"
      ],
      "text/plain": [
       "                交易量          价格            雇员\n",
       "count  6.000000e+00    6.000000  6.000000e+00\n",
       "mean   1.384130e+07  118.863333  4.456390e+05\n",
       "std    8.717312e+06   73.748714  8.607522e+05\n",
       "min    2.626634e+06   25.950000  3.660000e+04\n",
       "25%    8.598246e+06   56.230000  7.026100e+04\n",
       "50%    1.315388e+07  136.260000  1.007750e+05\n",
       "75%    1.822877e+07  175.932500  1.568895e+05\n",
       "max    2.711329e+07  196.000000  2.200000e+06"
      ]
     },
     "execution_count": 37,
     "metadata": {},
     "output_type": "execute_result"
    }
   ],
   "source": [
    "# 我们用 df2.describe() 还可以看看 DataFrame 每栏的统计数据。\n",
    "# 函数 describe() 只对「数值型变量」有用 (没有对「字符型变量」行业栏做统计)。\n",
    "# 统计量分别包括个数、均值、标准差、最小值，25-50-75 百分数值，最大值。\n",
    "df2.describe()"
   ]
  },
  {
   "cell_type": "markdown",
   "metadata": {
    "ExecuteTime": {
     "end_time": "2019-07-26T14:48:45.219516Z",
     "start_time": "2019-07-26T14:48:45.216517Z"
    }
   },
   "source": [
    "# 1.3.5 升维 dataframe"
   ]
  },
  {
   "cell_type": "code",
   "execution_count": 40,
   "metadata": {
    "ExecuteTime": {
     "end_time": "2019-07-26T14:49:37.519362Z",
     "start_time": "2019-07-26T14:49:37.501372Z"
    }
   },
   "outputs": [
    {
     "data": {
      "text/html": [
       "<div>\n",
       "<style scoped>\n",
       "    .dataframe tbody tr th:only-of-type {\n",
       "        vertical-align: middle;\n",
       "    }\n",
       "\n",
       "    .dataframe tbody tr th {\n",
       "        vertical-align: top;\n",
       "    }\n",
       "\n",
       "    .dataframe thead th {\n",
       "        text-align: right;\n",
       "    }\n",
       "</style>\n",
       "<table border=\"1\" class=\"dataframe\">\n",
       "  <thead>\n",
       "    <tr style=\"text-align: right;\">\n",
       "      <th></th>\n",
       "      <th></th>\n",
       "      <th>交易量</th>\n",
       "      <th>价格</th>\n",
       "      <th>行业</th>\n",
       "      <th>雇员</th>\n",
       "    </tr>\n",
       "  </thead>\n",
       "  <tbody>\n",
       "    <tr>\n",
       "      <th rowspan=\"2\" valign=\"top\">中国公司</th>\n",
       "      <th>BABA</th>\n",
       "      <td>16175610</td>\n",
       "      <td>176.92</td>\n",
       "      <td>电商</td>\n",
       "      <td>101550</td>\n",
       "    </tr>\n",
       "    <tr>\n",
       "      <th>JD</th>\n",
       "      <td>27113291</td>\n",
       "      <td>25.95</td>\n",
       "      <td>电商</td>\n",
       "      <td>175336</td>\n",
       "    </tr>\n",
       "    <tr>\n",
       "      <th rowspan=\"4\" valign=\"top\">美国公司</th>\n",
       "      <th>AAPL</th>\n",
       "      <td>18913154</td>\n",
       "      <td>172.97</td>\n",
       "      <td>科技</td>\n",
       "      <td>100000</td>\n",
       "    </tr>\n",
       "    <tr>\n",
       "      <th>MS</th>\n",
       "      <td>10132145</td>\n",
       "      <td>41.79</td>\n",
       "      <td>金融</td>\n",
       "      <td>60348</td>\n",
       "    </tr>\n",
       "    <tr>\n",
       "      <th>GS</th>\n",
       "      <td>2626634</td>\n",
       "      <td>196.00</td>\n",
       "      <td>金融</td>\n",
       "      <td>36600</td>\n",
       "    </tr>\n",
       "    <tr>\n",
       "      <th>WMT</th>\n",
       "      <td>8086946</td>\n",
       "      <td>99.55</td>\n",
       "      <td>零售</td>\n",
       "      <td>2200000</td>\n",
       "    </tr>\n",
       "  </tbody>\n",
       "</table>\n",
       "</div>"
      ],
      "text/plain": [
       "                交易量      价格  行业       雇员\n",
       "中国公司 BABA  16175610  176.92  电商   101550\n",
       "     JD    27113291   25.95  电商   175336\n",
       "美国公司 AAPL  18913154  172.97  科技   100000\n",
       "     MS    10132145   41.79  金融    60348\n",
       "     GS     2626634  196.00  金融    36600\n",
       "     WMT    8086946   99.55  零售  2200000"
      ]
     },
     "execution_count": 40,
     "metadata": {},
     "output_type": "execute_result"
    }
   ],
   "source": [
    "# 我们用 MultiIndex.from_tuples() 还可以赋予 DataFrame 多层索引 (实际上增加了维度，多层索引的 DataFrame 实际上是三维数据)。\n",
    "df2.index = pd.MultiIndex.from_tuples( \n",
    "            [('中国公司','BABA'), ('中国公司','JD'), \n",
    "             ('美国公司','AAPL'), ('美国公司','MS'), \n",
    "             ('美国公司','GS'), ('美国公司','WMT')] )\n",
    "df2"
   ]
  },
  {
   "cell_type": "markdown",
   "metadata": {},
   "source": [
    "# 2 数据表的存载，用时再找。"
   ]
  },
  {
   "cell_type": "markdown",
   "metadata": {
    "ExecuteTime": {
     "end_time": "2019-07-26T14:52:49.996294Z",
     "start_time": "2019-07-26T14:52:49.992298Z"
    }
   },
   "source": [
    "# 3. 数据表的索引和切片"
   ]
  },
  {
   "cell_type": "code",
   "execution_count": 48,
   "metadata": {
    "ExecuteTime": {
     "end_time": "2019-07-26T14:58:20.480930Z",
     "start_time": "2019-07-26T14:58:20.463939Z"
    }
   },
   "outputs": [
    {
     "data": {
      "text/html": [
       "<div>\n",
       "<style scoped>\n",
       "    .dataframe tbody tr th:only-of-type {\n",
       "        vertical-align: middle;\n",
       "    }\n",
       "\n",
       "    .dataframe tbody tr th {\n",
       "        vertical-align: top;\n",
       "    }\n",
       "\n",
       "    .dataframe thead th {\n",
       "        text-align: right;\n",
       "    }\n",
       "</style>\n",
       "<table border=\"1\" class=\"dataframe\">\n",
       "  <thead>\n",
       "    <tr style=\"text-align: right;\">\n",
       "      <th></th>\n",
       "      <th>交易量</th>\n",
       "      <th>价格</th>\n",
       "      <th>行业</th>\n",
       "      <th>雇员</th>\n",
       "    </tr>\n",
       "    <tr>\n",
       "      <th>代号</th>\n",
       "      <th></th>\n",
       "      <th></th>\n",
       "      <th></th>\n",
       "      <th></th>\n",
       "    </tr>\n",
       "  </thead>\n",
       "  <tbody>\n",
       "    <tr>\n",
       "      <th>BABA</th>\n",
       "      <td>16175610</td>\n",
       "      <td>176.92</td>\n",
       "      <td>电商</td>\n",
       "      <td>101550</td>\n",
       "    </tr>\n",
       "    <tr>\n",
       "      <th>JD</th>\n",
       "      <td>27113291</td>\n",
       "      <td>25.95</td>\n",
       "      <td>电商</td>\n",
       "      <td>175336</td>\n",
       "    </tr>\n",
       "    <tr>\n",
       "      <th>AAPL</th>\n",
       "      <td>18913154</td>\n",
       "      <td>172.97</td>\n",
       "      <td>科技</td>\n",
       "      <td>100000</td>\n",
       "    </tr>\n",
       "    <tr>\n",
       "      <th>MS</th>\n",
       "      <td>10132145</td>\n",
       "      <td>41.79</td>\n",
       "      <td>金融</td>\n",
       "      <td>60348</td>\n",
       "    </tr>\n",
       "    <tr>\n",
       "      <th>GS</th>\n",
       "      <td>2626634</td>\n",
       "      <td>196.00</td>\n",
       "      <td>金融</td>\n",
       "      <td>36600</td>\n",
       "    </tr>\n",
       "    <tr>\n",
       "      <th>WMT</th>\n",
       "      <td>8086946</td>\n",
       "      <td>99.55</td>\n",
       "      <td>零售</td>\n",
       "      <td>2200000</td>\n",
       "    </tr>\n",
       "  </tbody>\n",
       "</table>\n",
       "</div>"
      ],
      "text/plain": [
       "           交易量      价格  行业       雇员\n",
       "代号                                 \n",
       "BABA  16175610  176.92  电商   101550\n",
       "JD    27113291   25.95  电商   175336\n",
       "AAPL  18913154  172.97  科技   100000\n",
       "MS    10132145   41.79  金融    60348\n",
       "GS     2626634  196.00  金融    36600\n",
       "WMT    8086946   99.55  零售  2200000"
      ]
     },
     "execution_count": 48,
     "metadata": {},
     "output_type": "execute_result"
    }
   ],
   "source": [
    "symbol = ['BABA', 'JD', 'AAPL', 'MS', 'GS', 'WMT']\n",
    "data = {'行业': ['电商', '电商', '科技', '金融', '金融', '零售'],\n",
    "'价格': [176.92, 25.95, 172.97, 41.79, 196.00, 99.55],\n",
    "'交易量': [16175610, 27113291, 18913154, 10132145, 2626634, 8086946],\n",
    "'雇员': [101550, 175336, 100000, 60348, 36600, 2200000]}\n",
    "df = pd.DataFrame( data, index=symbol )\n",
    "df.name='美股'\n",
    "df.index.name = '代号'\n",
    "df"
   ]
  },
  {
   "cell_type": "markdown",
   "metadata": {},
   "source": [
    "# 3.1 索引单元素"
   ]
  },
  {
   "cell_type": "code",
   "execution_count": 50,
   "metadata": {
    "ExecuteTime": {
     "end_time": "2019-07-26T14:59:23.763879Z",
     "start_time": "2019-07-26T14:59:23.758882Z"
    }
   },
   "outputs": [
    {
     "data": {
      "text/plain": [
       "172.97"
      ]
     },
     "execution_count": 50,
     "metadata": {},
     "output_type": "execute_result"
    }
   ],
   "source": [
    "# 基于标签的at\n",
    "# 基于位置的iat\n",
    "# 情况 1 - df.at['idx_i', 'attr_j']\n",
    "# 情况 2 - df.iat[i, j]\n",
    "df.at['AAPL','价格']\n",
    "df.iat[2,1]"
   ]
  },
  {
   "cell_type": "markdown",
   "metadata": {},
   "source": [
    "# 3.2 切片columns"
   ]
  },
  {
   "cell_type": "code",
   "execution_count": 56,
   "metadata": {
    "ExecuteTime": {
     "end_time": "2019-07-26T15:03:28.609393Z",
     "start_time": "2019-07-26T15:03:28.602398Z"
    }
   },
   "outputs": [
    {
     "data": {
      "text/plain": [
       "代号\n",
       "BABA    16175610\n",
       "JD      27113291\n",
       "AAPL    18913154\n",
       "MS      10132145\n",
       "GS       2626634\n",
       "WMT      8086946\n",
       "Name: 交易量, dtype: int64"
      ]
     },
     "execution_count": 56,
     "metadata": {},
     "output_type": "execute_result"
    }
   ],
   "source": [
    "# 用 . 来切片单列\n",
    "# 用 [] 来切片单列或多列\n",
    "# 基于标签的 loc\n",
    "# 基于位置的 iloc\n",
    "# 切片单个 columns 会返回一个 Series，有以下四种情况。情况 1 用点 .；情况 2 用中括号 []；情况 3 基于标签 loc，情况 4 基于位置 iloc。\n",
    "# 情况 1 - df.attr_i\n",
    "# 情况 2 - df['attr_i']\n",
    "# 情况 3 - df.loc[:, 'attr_i']\n",
    "# 情况 4 - df.iloc[:, i]\n",
    "df.价格\n",
    "df['价格']\n",
    "df.loc[:,'交易量']\n",
    "df.iloc[:,0]"
   ]
  },
  {
   "cell_type": "markdown",
   "metadata": {},
   "source": [
    "# 3.3 切片index"
   ]
  },
  {
   "cell_type": "code",
   "execution_count": 46,
   "metadata": {
    "ExecuteTime": {
     "end_time": "2019-07-26T14:56:21.730289Z",
     "start_time": "2019-07-26T14:56:21.726291Z"
    },
    "collapsed": true
   },
   "outputs": [],
   "source": [
    "# 用 [] 来切片单行或多行\n",
    "# 基于标签的 loc\n",
    "# 基于位置的 iloc\n"
   ]
  },
  {
   "cell_type": "markdown",
   "metadata": {},
   "source": [
    "# 3.4 切片index和columns"
   ]
  },
  {
   "cell_type": "code",
   "execution_count": 57,
   "metadata": {
    "ExecuteTime": {
     "end_time": "2019-07-26T15:05:42.345656Z",
     "start_time": "2019-07-26T15:05:42.341658Z"
    },
    "collapsed": true
   },
   "outputs": [],
   "source": [
    "# 基于标签的 loc\n",
    "# 基于位置的 iloc"
   ]
  },
  {
   "cell_type": "code",
   "execution_count": 58,
   "metadata": {
    "ExecuteTime": {
     "end_time": "2019-07-26T15:05:58.516591Z",
     "start_time": "2019-07-26T15:05:58.512593Z"
    },
    "collapsed": true
   },
   "outputs": [],
   "source": [
    "# 函数的调用"
   ]
  },
  {
   "cell_type": "code",
   "execution_count": 61,
   "metadata": {
    "ExecuteTime": {
     "end_time": "2019-07-26T15:08:36.950647Z",
     "start_time": "2019-07-26T15:08:36.933658Z"
    }
   },
   "outputs": [
    {
     "data": {
      "text/html": [
       "<div>\n",
       "<style scoped>\n",
       "    .dataframe tbody tr th:only-of-type {\n",
       "        vertical-align: middle;\n",
       "    }\n",
       "\n",
       "    .dataframe tbody tr th {\n",
       "        vertical-align: top;\n",
       "    }\n",
       "\n",
       "    .dataframe thead th {\n",
       "        text-align: right;\n",
       "    }\n",
       "</style>\n",
       "<table border=\"1\" class=\"dataframe\">\n",
       "  <thead>\n",
       "    <tr style=\"text-align: right;\">\n",
       "      <th></th>\n",
       "      <th>交易量</th>\n",
       "      <th>价格</th>\n",
       "      <th>行业</th>\n",
       "      <th>雇员</th>\n",
       "    </tr>\n",
       "    <tr>\n",
       "      <th>代号</th>\n",
       "      <th></th>\n",
       "      <th></th>\n",
       "      <th></th>\n",
       "      <th></th>\n",
       "    </tr>\n",
       "  </thead>\n",
       "  <tbody>\n",
       "    <tr>\n",
       "      <th>BABA</th>\n",
       "      <td>16175610</td>\n",
       "      <td>176.92</td>\n",
       "      <td>电商</td>\n",
       "      <td>101550</td>\n",
       "    </tr>\n",
       "    <tr>\n",
       "      <th>AAPL</th>\n",
       "      <td>18913154</td>\n",
       "      <td>172.97</td>\n",
       "      <td>科技</td>\n",
       "      <td>100000</td>\n",
       "    </tr>\n",
       "  </tbody>\n",
       "</table>\n",
       "</div>"
      ],
      "text/plain": [
       "           交易量      价格  行业      雇员\n",
       "代号                                \n",
       "BABA  16175610  176.92  电商  101550\n",
       "AAPL  18913154  172.97  科技  100000"
      ]
     },
     "execution_count": 61,
     "metadata": {},
     "output_type": "execute_result"
    }
   ],
   "source": [
    "df.loc[lambda x : x.交易量 > x.交易量.mean(),:]\n",
    "df.loc[lambda x : (x.交易量 > x.交易量.mean()) & (x.价格 > 100),:]"
   ]
  },
  {
   "cell_type": "markdown",
   "metadata": {},
   "source": [
    "# 3.5多层索引"
   ]
  },
  {
   "cell_type": "markdown",
   "metadata": {},
   "source": [
    "# 3.5.1 多层索引Series"
   ]
  },
  {
   "cell_type": "code",
   "execution_count": 64,
   "metadata": {
    "ExecuteTime": {
     "end_time": "2019-07-26T15:11:40.764014Z",
     "start_time": "2019-07-26T15:11:40.755019Z"
    }
   },
   "outputs": [
    {
     "data": {
      "text/plain": [
       "MultiIndex(levels=[['2019-04-01', '2019-04-02', '2019-04-03', '2019-04-04'], ['BABA', 'GS', 'JD']],\n",
       "           codes=[[0, 0, 0, 1, 1, 2, 2, 3, 3], [0, 2, 1, 0, 1, 0, 2, 2, 1]])"
      ]
     },
     "execution_count": 64,
     "metadata": {},
     "output_type": "execute_result"
    }
   ],
   "source": [
    "price = [190,32,196,192,200,189,31,30,199]\n",
    "dates = ['2019-04-01']*3 + ['2019-04-02']*2 +['2019-04-03']*2 + ['2019-04-04']*2\n",
    "codes = ['BABA','JD','GS','BABA','GS','BABA','JD','JD','GS']\n",
    "data = pd.Series( price,index=[ dates, codes ])\n",
    "data.index"
   ]
  },
  {
   "cell_type": "code",
   "execution_count": 68,
   "metadata": {
    "ExecuteTime": {
     "end_time": "2019-07-26T15:17:16.059676Z",
     "start_time": "2019-07-26T15:17:16.052681Z"
    }
   },
   "outputs": [
    {
     "data": {
      "text/plain": [
       "2019-04-01    196\n",
       "2019-04-02    200\n",
       "2019-04-04    199\n",
       "dtype: int64"
      ]
     },
     "execution_count": 68,
     "metadata": {},
     "output_type": "execute_result"
    }
   ],
   "source": [
    "data['2019-04-01']\n",
    "data.loc['2019-04-01':'2019-04-04']\n",
    "data.loc[:,'GS']"
   ]
  },
  {
   "cell_type": "markdown",
   "metadata": {},
   "source": [
    "# 3.5.2 多层索引DataFrame"
   ]
  },
  {
   "cell_type": "code",
   "execution_count": 70,
   "metadata": {
    "ExecuteTime": {
     "end_time": "2019-07-26T15:19:30.539508Z",
     "start_time": "2019-07-26T15:19:30.511525Z"
    }
   },
   "outputs": [
    {
     "data": {
      "text/html": [
       "<div>\n",
       "<style scoped>\n",
       "    .dataframe tbody tr th:only-of-type {\n",
       "        vertical-align: middle;\n",
       "    }\n",
       "\n",
       "    .dataframe tbody tr th {\n",
       "        vertical-align: top;\n",
       "    }\n",
       "\n",
       "    .dataframe thead tr th {\n",
       "        text-align: left;\n",
       "    }\n",
       "\n",
       "    .dataframe thead tr:last-of-type th {\n",
       "        text-align: right;\n",
       "    }\n",
       "</style>\n",
       "<table border=\"1\" class=\"dataframe\">\n",
       "  <thead>\n",
       "    <tr>\n",
       "      <th></th>\n",
       "      <th>概括</th>\n",
       "      <th colspan=\"2\" halign=\"left\">公司数据</th>\n",
       "      <th colspan=\"2\" halign=\"left\">交易数据</th>\n",
       "    </tr>\n",
       "    <tr>\n",
       "      <th></th>\n",
       "      <th>细分</th>\n",
       "      <th>行业</th>\n",
       "      <th>雇员</th>\n",
       "      <th>价格</th>\n",
       "      <th>交易量</th>\n",
       "    </tr>\n",
       "    <tr>\n",
       "      <th>地区</th>\n",
       "      <th>代号</th>\n",
       "      <th></th>\n",
       "      <th></th>\n",
       "      <th></th>\n",
       "      <th></th>\n",
       "    </tr>\n",
       "  </thead>\n",
       "  <tbody>\n",
       "    <tr>\n",
       "      <th rowspan=\"2\" valign=\"top\">中国</th>\n",
       "      <th>BABA</th>\n",
       "      <td>电商</td>\n",
       "      <td>101550</td>\n",
       "      <td>176.92</td>\n",
       "      <td>16175610</td>\n",
       "    </tr>\n",
       "    <tr>\n",
       "      <th>JD</th>\n",
       "      <td>电商</td>\n",
       "      <td>175336</td>\n",
       "      <td>25.95</td>\n",
       "      <td>27113291</td>\n",
       "    </tr>\n",
       "    <tr>\n",
       "      <th rowspan=\"2\" valign=\"top\">美国</th>\n",
       "      <th>GS</th>\n",
       "      <td>金融</td>\n",
       "      <td>60348</td>\n",
       "      <td>41.79</td>\n",
       "      <td>10132145</td>\n",
       "    </tr>\n",
       "    <tr>\n",
       "      <th>MS</th>\n",
       "      <td>金融</td>\n",
       "      <td>36600</td>\n",
       "      <td>196.00</td>\n",
       "      <td>2626634</td>\n",
       "    </tr>\n",
       "  </tbody>\n",
       "</table>\n",
       "</div>"
      ],
      "text/plain": [
       "概括      公司数据            交易数据          \n",
       "细分        行业      雇员      价格       交易量\n",
       "地区 代号                                 \n",
       "中国 BABA   电商  101550  176.92  16175610\n",
       "   JD     电商  175336   25.95  27113291\n",
       "美国 GS     金融   60348   41.79  10132145\n",
       "   MS     金融   36600  196.00   2626634"
      ]
     },
     "execution_count": 70,
     "metadata": {},
     "output_type": "execute_result"
    }
   ],
   "source": [
    "data = [ ['电商', 101550, 176.92, 16175610], \n",
    "         ['电商', 175336, 25.95, 27113291], \n",
    "         ['金融', 60348, 41.79, 10132145], \n",
    "         ['金融', 36600, 196.00, 2626634] ]\n",
    "\n",
    "midx = pd.MultiIndex( \n",
    "          levels=[['中国','美国'],\n",
    "                  ['BABA', 'JD', 'GS', 'MS']], \n",
    "          codes=[[0,0,1,1],[0,1,2,3]],\n",
    "          names=['地区', '代号'])\n",
    "\n",
    "mcol = pd.MultiIndex( \n",
    "          levels=[['公司数据','交易数据'],\n",
    "                  ['行业','雇员','价格','交易量']], \n",
    "          codes=[[0,0,1,1],[0,1,2,3]],\n",
    "          names=['概括','细分'])\n",
    "\n",
    "df = pd.DataFrame(data, index=midx, columns=mcol)\n",
    "df"
   ]
  },
  {
   "cell_type": "code",
   "execution_count": 87,
   "metadata": {
    "ExecuteTime": {
     "end_time": "2019-07-26T15:26:48.038692Z",
     "start_time": "2019-07-26T15:26:48.029699Z"
    }
   },
   "outputs": [
    {
     "data": {
      "text/plain": [
       "地区  代号  \n",
       "中国  BABA    电商\n",
       "    JD      电商\n",
       "美国  GS      金融\n",
       "    MS      金融\n",
       "Name: 行业, dtype: object"
      ]
     },
     "execution_count": 87,
     "metadata": {},
     "output_type": "execute_result"
    }
   ],
   "source": [
    "df['公司数据']['行业']"
   ]
  },
  {
   "cell_type": "code",
   "execution_count": 76,
   "metadata": {
    "ExecuteTime": {
     "end_time": "2019-07-26T15:23:55.060665Z",
     "start_time": "2019-07-26T15:23:55.045673Z"
    }
   },
   "outputs": [
    {
     "data": {
      "text/html": [
       "<div>\n",
       "<style scoped>\n",
       "    .dataframe tbody tr th:only-of-type {\n",
       "        vertical-align: middle;\n",
       "    }\n",
       "\n",
       "    .dataframe tbody tr th {\n",
       "        vertical-align: top;\n",
       "    }\n",
       "\n",
       "    .dataframe thead tr th {\n",
       "        text-align: left;\n",
       "    }\n",
       "\n",
       "    .dataframe thead tr:last-of-type th {\n",
       "        text-align: right;\n",
       "    }\n",
       "</style>\n",
       "<table border=\"1\" class=\"dataframe\">\n",
       "  <thead>\n",
       "    <tr>\n",
       "      <th>概括</th>\n",
       "      <th colspan=\"2\" halign=\"left\">公司数据</th>\n",
       "      <th colspan=\"2\" halign=\"left\">交易数据</th>\n",
       "    </tr>\n",
       "    <tr>\n",
       "      <th>细分</th>\n",
       "      <th>行业</th>\n",
       "      <th>雇员</th>\n",
       "      <th>价格</th>\n",
       "      <th>交易量</th>\n",
       "    </tr>\n",
       "    <tr>\n",
       "      <th>代号</th>\n",
       "      <th></th>\n",
       "      <th></th>\n",
       "      <th></th>\n",
       "      <th></th>\n",
       "    </tr>\n",
       "  </thead>\n",
       "  <tbody>\n",
       "    <tr>\n",
       "      <th>BABA</th>\n",
       "      <td>电商</td>\n",
       "      <td>101550</td>\n",
       "      <td>176.92</td>\n",
       "      <td>16175610</td>\n",
       "    </tr>\n",
       "    <tr>\n",
       "      <th>JD</th>\n",
       "      <td>电商</td>\n",
       "      <td>175336</td>\n",
       "      <td>25.95</td>\n",
       "      <td>27113291</td>\n",
       "    </tr>\n",
       "  </tbody>\n",
       "</table>\n",
       "</div>"
      ],
      "text/plain": [
       "概括   公司数据            交易数据          \n",
       "细分     行业      雇员      价格       交易量\n",
       "代号                                 \n",
       "BABA   电商  101550  176.92  16175610\n",
       "JD     电商  175336   25.95  27113291"
      ]
     },
     "execution_count": 76,
     "metadata": {},
     "output_type": "execute_result"
    }
   ],
   "source": [
    "df.loc['中国'].loc['BABA':'JD']"
   ]
  },
  {
   "cell_type": "markdown",
   "metadata": {},
   "source": [
    "# 4 数据表的合并和连接"
   ]
  },
  {
   "cell_type": "code",
   "execution_count": 88,
   "metadata": {
    "ExecuteTime": {
     "end_time": "2019-07-30T14:11:09.777738Z",
     "start_time": "2019-07-30T14:11:09.675743Z"
    },
    "collapsed": true
   },
   "outputs": [],
   "source": [
    "# 数据表可以按键合并，用merge函数，可以按轴来连接，用concat函数。\n",
    "# 按键合并可以分为单键合并和多键合并"
   ]
  },
  {
   "cell_type": "markdown",
   "metadata": {},
   "source": [
    "# 4.1 合并"
   ]
  },
  {
   "cell_type": "markdown",
   "metadata": {},
   "source": [
    "# 4.1.1 单键合并"
   ]
  },
  {
   "cell_type": "code",
   "execution_count": 89,
   "metadata": {
    "ExecuteTime": {
     "end_time": "2019-07-30T14:15:46.068521Z",
     "start_time": "2019-07-30T14:15:46.064523Z"
    },
    "code_folding": [],
    "collapsed": true
   },
   "outputs": [],
   "source": [
    "# 单键合并用merge函数，语法如下：\n",
    "#    pd.merge(df1,df2,how=s,on=c)\n",
    "# c是df1和df2共有的一栏，合并的方式(how=s)有四种\n",
    "# 1.左连接(left join):合并之后显示df1的所有行\n",
    "# 2.右连接(right join):合并之后显示df2的所有行\n",
    "# 3.外连接(outer join):合并df1和df2共有的所有行\n",
    "# 4.内连接(inner join):合并共有的所有行(默认情况)"
   ]
  },
  {
   "cell_type": "code",
   "execution_count": 91,
   "metadata": {
    "ExecuteTime": {
     "end_time": "2019-07-30T14:18:54.963311Z",
     "start_time": "2019-07-30T14:18:54.948315Z"
    }
   },
   "outputs": [
    {
     "data": {
      "text/html": [
       "<div>\n",
       "<style scoped>\n",
       "    .dataframe tbody tr th:only-of-type {\n",
       "        vertical-align: middle;\n",
       "    }\n",
       "\n",
       "    .dataframe tbody tr th {\n",
       "        vertical-align: top;\n",
       "    }\n",
       "\n",
       "    .dataframe thead th {\n",
       "        text-align: right;\n",
       "    }\n",
       "</style>\n",
       "<table border=\"1\" class=\"dataframe\">\n",
       "  <thead>\n",
       "    <tr style=\"text-align: right;\">\n",
       "      <th></th>\n",
       "      <th>Adj Close</th>\n",
       "      <th>Date</th>\n",
       "    </tr>\n",
       "  </thead>\n",
       "  <tbody>\n",
       "    <tr>\n",
       "      <th>0</th>\n",
       "      <td>24.42</td>\n",
       "      <td>2019-01-01</td>\n",
       "    </tr>\n",
       "    <tr>\n",
       "      <th>1</th>\n",
       "      <td>25.00</td>\n",
       "      <td>2019-01-02</td>\n",
       "    </tr>\n",
       "    <tr>\n",
       "      <th>2</th>\n",
       "      <td>25.25</td>\n",
       "      <td>2019-01-03</td>\n",
       "    </tr>\n",
       "    <tr>\n",
       "      <th>3</th>\n",
       "      <td>25.64</td>\n",
       "      <td>2019-01-04</td>\n",
       "    </tr>\n",
       "  </tbody>\n",
       "</table>\n",
       "</div>"
      ],
      "text/plain": [
       "   Adj Close       Date\n",
       "0      24.42 2019-01-01\n",
       "1      25.00 2019-01-02\n",
       "2      25.25 2019-01-03\n",
       "3      25.64 2019-01-04"
      ]
     },
     "execution_count": 91,
     "metadata": {},
     "output_type": "execute_result"
    }
   ],
   "source": [
    "df_price = pd.DataFrame({'Date':pd.date_range('2019-1-1',periods=4),'Adj Close':[24.42,25,25.25,25.64]})\n",
    "df_price"
   ]
  },
  {
   "cell_type": "code",
   "execution_count": 92,
   "metadata": {
    "ExecuteTime": {
     "end_time": "2019-07-30T14:20:07.489685Z",
     "start_time": "2019-07-30T14:20:07.475687Z"
    }
   },
   "outputs": [
    {
     "data": {
      "text/html": [
       "<div>\n",
       "<style scoped>\n",
       "    .dataframe tbody tr th:only-of-type {\n",
       "        vertical-align: middle;\n",
       "    }\n",
       "\n",
       "    .dataframe tbody tr th {\n",
       "        vertical-align: top;\n",
       "    }\n",
       "\n",
       "    .dataframe thead th {\n",
       "        text-align: right;\n",
       "    }\n",
       "</style>\n",
       "<table border=\"1\" class=\"dataframe\">\n",
       "  <thead>\n",
       "    <tr style=\"text-align: right;\">\n",
       "      <th></th>\n",
       "      <th>Date</th>\n",
       "      <th>Volume</th>\n",
       "    </tr>\n",
       "  </thead>\n",
       "  <tbody>\n",
       "    <tr>\n",
       "      <th>0</th>\n",
       "      <td>2019-01-02</td>\n",
       "      <td>56081400</td>\n",
       "    </tr>\n",
       "    <tr>\n",
       "      <th>1</th>\n",
       "      <td>2019-01-03</td>\n",
       "      <td>99455500</td>\n",
       "    </tr>\n",
       "    <tr>\n",
       "      <th>2</th>\n",
       "      <td>2019-01-04</td>\n",
       "      <td>83028700</td>\n",
       "    </tr>\n",
       "    <tr>\n",
       "      <th>3</th>\n",
       "      <td>2019-01-05</td>\n",
       "      <td>100234000</td>\n",
       "    </tr>\n",
       "    <tr>\n",
       "      <th>4</th>\n",
       "      <td>2019-01-06</td>\n",
       "      <td>73829000</td>\n",
       "    </tr>\n",
       "  </tbody>\n",
       "</table>\n",
       "</div>"
      ],
      "text/plain": [
       "        Date     Volume\n",
       "0 2019-01-02   56081400\n",
       "1 2019-01-03   99455500\n",
       "2 2019-01-04   83028700\n",
       "3 2019-01-05  100234000\n",
       "4 2019-01-06   73829000"
      ]
     },
     "execution_count": 92,
     "metadata": {},
     "output_type": "execute_result"
    }
   ],
   "source": [
    "df_volume = pd.DataFrame({'Date':pd.date_range('2019-1-2',periods=5),'Volume':[56081400, 99455500, 83028700, 100234000, 73829000]})\n",
    "df_volume"
   ]
  },
  {
   "cell_type": "code",
   "execution_count": 96,
   "metadata": {
    "ExecuteTime": {
     "end_time": "2019-07-30T14:28:50.124206Z",
     "start_time": "2019-07-30T14:28:50.097214Z"
    }
   },
   "outputs": [
    {
     "data": {
      "text/html": [
       "<div>\n",
       "<style scoped>\n",
       "    .dataframe tbody tr th:only-of-type {\n",
       "        vertical-align: middle;\n",
       "    }\n",
       "\n",
       "    .dataframe tbody tr th {\n",
       "        vertical-align: top;\n",
       "    }\n",
       "\n",
       "    .dataframe thead th {\n",
       "        text-align: right;\n",
       "    }\n",
       "</style>\n",
       "<table border=\"1\" class=\"dataframe\">\n",
       "  <thead>\n",
       "    <tr style=\"text-align: right;\">\n",
       "      <th></th>\n",
       "      <th>Adj Close</th>\n",
       "      <th>Date</th>\n",
       "      <th>Volume</th>\n",
       "    </tr>\n",
       "  </thead>\n",
       "  <tbody>\n",
       "    <tr>\n",
       "      <th>0</th>\n",
       "      <td>25.00</td>\n",
       "      <td>2019-01-02</td>\n",
       "      <td>56081400</td>\n",
       "    </tr>\n",
       "    <tr>\n",
       "      <th>1</th>\n",
       "      <td>25.25</td>\n",
       "      <td>2019-01-03</td>\n",
       "      <td>99455500</td>\n",
       "    </tr>\n",
       "    <tr>\n",
       "      <th>2</th>\n",
       "      <td>25.64</td>\n",
       "      <td>2019-01-04</td>\n",
       "      <td>83028700</td>\n",
       "    </tr>\n",
       "  </tbody>\n",
       "</table>\n",
       "</div>"
      ],
      "text/plain": [
       "   Adj Close       Date    Volume\n",
       "0      25.00 2019-01-02  56081400\n",
       "1      25.25 2019-01-03  99455500\n",
       "2      25.64 2019-01-04  83028700"
      ]
     },
     "execution_count": 96,
     "metadata": {},
     "output_type": "execute_result"
    }
   ],
   "source": [
    "# left_join\n",
    "pd.merge(df_price,df_volume,how='left')\n",
    "# right_join\n",
    "pd.merge(df_price,df_volume,how='right')\n",
    "# outer_join\n",
    "pd.merge(df_price,df_volume,how='outer')\n",
    "# inner_join\n",
    "pd.merge(df_price,df_volume,how='inner')"
   ]
  },
  {
   "cell_type": "markdown",
   "metadata": {},
   "source": [
    "# 4.1.2 多键合并"
   ]
  },
  {
   "cell_type": "code",
   "execution_count": 97,
   "metadata": {
    "ExecuteTime": {
     "end_time": "2019-07-30T14:33:48.395428Z",
     "start_time": "2019-07-30T14:33:48.392427Z"
    },
    "collapsed": true
   },
   "outputs": [],
   "source": [
    "# 多键合并的语法和单键一样，只不过on=c中c是多栏"
   ]
  },
  {
   "cell_type": "code",
   "execution_count": 98,
   "metadata": {
    "ExecuteTime": {
     "end_time": "2019-07-30T14:36:35.210822Z",
     "start_time": "2019-07-30T14:36:35.196827Z"
    }
   },
   "outputs": [
    {
     "data": {
      "text/html": [
       "<div>\n",
       "<style scoped>\n",
       "    .dataframe tbody tr th:only-of-type {\n",
       "        vertical-align: middle;\n",
       "    }\n",
       "\n",
       "    .dataframe tbody tr th {\n",
       "        vertical-align: top;\n",
       "    }\n",
       "\n",
       "    .dataframe thead th {\n",
       "        text-align: right;\n",
       "    }\n",
       "</style>\n",
       "<table border=\"1\" class=\"dataframe\">\n",
       "  <thead>\n",
       "    <tr style=\"text-align: right;\">\n",
       "      <th></th>\n",
       "      <th>Asset</th>\n",
       "      <th>Instrument</th>\n",
       "      <th>Number</th>\n",
       "    </tr>\n",
       "  </thead>\n",
       "  <tbody>\n",
       "    <tr>\n",
       "      <th>0</th>\n",
       "      <td>FX</td>\n",
       "      <td>Option</td>\n",
       "      <td>1</td>\n",
       "    </tr>\n",
       "    <tr>\n",
       "      <th>1</th>\n",
       "      <td>FX</td>\n",
       "      <td>Swap</td>\n",
       "      <td>2</td>\n",
       "    </tr>\n",
       "    <tr>\n",
       "      <th>2</th>\n",
       "      <td>IR</td>\n",
       "      <td>Option</td>\n",
       "      <td>3</td>\n",
       "    </tr>\n",
       "  </tbody>\n",
       "</table>\n",
       "</div>"
      ],
      "text/plain": [
       "  Asset Instrument  Number\n",
       "0    FX     Option       1\n",
       "1    FX       Swap       2\n",
       "2    IR     Option       3"
      ]
     },
     "execution_count": 98,
     "metadata": {},
     "output_type": "execute_result"
    }
   ],
   "source": [
    "profolio1 = pd.DataFrame({'Asset':['FX', 'FX', 'IR'],'Instrument': ['Option', 'Swap', 'Option'], \n",
    "'Number': [1, 2, 3]})\n",
    "profolio1"
   ]
  },
  {
   "cell_type": "code",
   "execution_count": 103,
   "metadata": {
    "ExecuteTime": {
     "end_time": "2019-07-30T14:41:43.714518Z",
     "start_time": "2019-07-30T14:41:43.700523Z"
    }
   },
   "outputs": [
    {
     "data": {
      "text/html": [
       "<div>\n",
       "<style scoped>\n",
       "    .dataframe tbody tr th:only-of-type {\n",
       "        vertical-align: middle;\n",
       "    }\n",
       "\n",
       "    .dataframe tbody tr th {\n",
       "        vertical-align: top;\n",
       "    }\n",
       "\n",
       "    .dataframe thead th {\n",
       "        text-align: right;\n",
       "    }\n",
       "</style>\n",
       "<table border=\"1\" class=\"dataframe\">\n",
       "  <thead>\n",
       "    <tr style=\"text-align: right;\">\n",
       "      <th></th>\n",
       "      <th>Asset</th>\n",
       "      <th>Instrument</th>\n",
       "      <th>Number</th>\n",
       "    </tr>\n",
       "  </thead>\n",
       "  <tbody>\n",
       "    <tr>\n",
       "      <th>0</th>\n",
       "      <td>FX</td>\n",
       "      <td>Option</td>\n",
       "      <td>4</td>\n",
       "    </tr>\n",
       "    <tr>\n",
       "      <th>1</th>\n",
       "      <td>FX</td>\n",
       "      <td>Option</td>\n",
       "      <td>5</td>\n",
       "    </tr>\n",
       "    <tr>\n",
       "      <th>2</th>\n",
       "      <td>FX</td>\n",
       "      <td>Swap</td>\n",
       "      <td>6</td>\n",
       "    </tr>\n",
       "    <tr>\n",
       "      <th>3</th>\n",
       "      <td>IR</td>\n",
       "      <td>Swap</td>\n",
       "      <td>7</td>\n",
       "    </tr>\n",
       "  </tbody>\n",
       "</table>\n",
       "</div>"
      ],
      "text/plain": [
       "  Asset Instrument  Number\n",
       "0    FX     Option       4\n",
       "1    FX     Option       5\n",
       "2    FX       Swap       6\n",
       "3    IR       Swap       7"
      ]
     },
     "execution_count": 103,
     "metadata": {},
     "output_type": "execute_result"
    }
   ],
   "source": [
    "profolio2 = pd.DataFrame({'Asset':['FX', 'FX', 'FX','IR'],'Instrument': ['Option', 'Option', 'Swap','Swap'], \n",
    "'Number': [4,5,6,7]})\n",
    "profolio2"
   ]
  },
  {
   "cell_type": "code",
   "execution_count": 104,
   "metadata": {
    "ExecuteTime": {
     "end_time": "2019-07-30T14:41:48.064820Z",
     "start_time": "2019-07-30T14:41:48.044827Z"
    }
   },
   "outputs": [
    {
     "data": {
      "text/html": [
       "<div>\n",
       "<style scoped>\n",
       "    .dataframe tbody tr th:only-of-type {\n",
       "        vertical-align: middle;\n",
       "    }\n",
       "\n",
       "    .dataframe tbody tr th {\n",
       "        vertical-align: top;\n",
       "    }\n",
       "\n",
       "    .dataframe thead th {\n",
       "        text-align: right;\n",
       "    }\n",
       "</style>\n",
       "<table border=\"1\" class=\"dataframe\">\n",
       "  <thead>\n",
       "    <tr style=\"text-align: right;\">\n",
       "      <th></th>\n",
       "      <th>Asset</th>\n",
       "      <th>Instrument</th>\n",
       "      <th>Number_x</th>\n",
       "      <th>Number_y</th>\n",
       "    </tr>\n",
       "  </thead>\n",
       "  <tbody>\n",
       "    <tr>\n",
       "      <th>0</th>\n",
       "      <td>FX</td>\n",
       "      <td>Option</td>\n",
       "      <td>1.0</td>\n",
       "      <td>4.0</td>\n",
       "    </tr>\n",
       "    <tr>\n",
       "      <th>1</th>\n",
       "      <td>FX</td>\n",
       "      <td>Option</td>\n",
       "      <td>1.0</td>\n",
       "      <td>5.0</td>\n",
       "    </tr>\n",
       "    <tr>\n",
       "      <th>2</th>\n",
       "      <td>FX</td>\n",
       "      <td>Swap</td>\n",
       "      <td>2.0</td>\n",
       "      <td>6.0</td>\n",
       "    </tr>\n",
       "    <tr>\n",
       "      <th>3</th>\n",
       "      <td>IR</td>\n",
       "      <td>Option</td>\n",
       "      <td>3.0</td>\n",
       "      <td>NaN</td>\n",
       "    </tr>\n",
       "    <tr>\n",
       "      <th>4</th>\n",
       "      <td>IR</td>\n",
       "      <td>Swap</td>\n",
       "      <td>NaN</td>\n",
       "      <td>7.0</td>\n",
       "    </tr>\n",
       "  </tbody>\n",
       "</table>\n",
       "</div>"
      ],
      "text/plain": [
       "  Asset Instrument  Number_x  Number_y\n",
       "0    FX     Option       1.0       4.0\n",
       "1    FX     Option       1.0       5.0\n",
       "2    FX       Swap       2.0       6.0\n",
       "3    IR     Option       3.0       NaN\n",
       "4    IR       Swap       NaN       7.0"
      ]
     },
     "execution_count": 104,
     "metadata": {},
     "output_type": "execute_result"
    }
   ],
   "source": [
    "# 在 Asset和Instrument两个键上做外合并\n",
    "pd.merge(profolio1,profolio2,how='outer',on=['Asset','Instrument'])"
   ]
  },
  {
   "cell_type": "code",
   "execution_count": 105,
   "metadata": {
    "ExecuteTime": {
     "end_time": "2019-07-30T14:46:21.510975Z",
     "start_time": "2019-07-30T14:46:21.491982Z"
    }
   },
   "outputs": [
    {
     "data": {
      "text/html": [
       "<div>\n",
       "<style scoped>\n",
       "    .dataframe tbody tr th:only-of-type {\n",
       "        vertical-align: middle;\n",
       "    }\n",
       "\n",
       "    .dataframe tbody tr th {\n",
       "        vertical-align: top;\n",
       "    }\n",
       "\n",
       "    .dataframe thead th {\n",
       "        text-align: right;\n",
       "    }\n",
       "</style>\n",
       "<table border=\"1\" class=\"dataframe\">\n",
       "  <thead>\n",
       "    <tr style=\"text-align: right;\">\n",
       "      <th></th>\n",
       "      <th>Asset</th>\n",
       "      <th>Instrument_x</th>\n",
       "      <th>Number_x</th>\n",
       "      <th>Instrument_y</th>\n",
       "      <th>Number_y</th>\n",
       "    </tr>\n",
       "  </thead>\n",
       "  <tbody>\n",
       "    <tr>\n",
       "      <th>0</th>\n",
       "      <td>FX</td>\n",
       "      <td>Option</td>\n",
       "      <td>1</td>\n",
       "      <td>Option</td>\n",
       "      <td>4</td>\n",
       "    </tr>\n",
       "    <tr>\n",
       "      <th>1</th>\n",
       "      <td>FX</td>\n",
       "      <td>Option</td>\n",
       "      <td>1</td>\n",
       "      <td>Option</td>\n",
       "      <td>5</td>\n",
       "    </tr>\n",
       "    <tr>\n",
       "      <th>2</th>\n",
       "      <td>FX</td>\n",
       "      <td>Option</td>\n",
       "      <td>1</td>\n",
       "      <td>Swap</td>\n",
       "      <td>6</td>\n",
       "    </tr>\n",
       "    <tr>\n",
       "      <th>3</th>\n",
       "      <td>FX</td>\n",
       "      <td>Swap</td>\n",
       "      <td>2</td>\n",
       "      <td>Option</td>\n",
       "      <td>4</td>\n",
       "    </tr>\n",
       "    <tr>\n",
       "      <th>4</th>\n",
       "      <td>FX</td>\n",
       "      <td>Swap</td>\n",
       "      <td>2</td>\n",
       "      <td>Option</td>\n",
       "      <td>5</td>\n",
       "    </tr>\n",
       "    <tr>\n",
       "      <th>5</th>\n",
       "      <td>FX</td>\n",
       "      <td>Swap</td>\n",
       "      <td>2</td>\n",
       "      <td>Swap</td>\n",
       "      <td>6</td>\n",
       "    </tr>\n",
       "    <tr>\n",
       "      <th>6</th>\n",
       "      <td>IR</td>\n",
       "      <td>Option</td>\n",
       "      <td>3</td>\n",
       "      <td>Swap</td>\n",
       "      <td>7</td>\n",
       "    </tr>\n",
       "  </tbody>\n",
       "</table>\n",
       "</div>"
      ],
      "text/plain": [
       "  Asset Instrument_x  Number_x Instrument_y  Number_y\n",
       "0    FX       Option         1       Option         4\n",
       "1    FX       Option         1       Option         5\n",
       "2    FX       Option         1         Swap         6\n",
       "3    FX         Swap         2       Option         4\n",
       "4    FX         Swap         2       Option         5\n",
       "5    FX         Swap         2         Swap         6\n",
       "6    IR       Option         3         Swap         7"
      ]
     },
     "execution_count": 105,
     "metadata": {},
     "output_type": "execute_result"
    }
   ],
   "source": [
    "# 当 df1 和 df2 有两个相同的列 (Asset 和 Instrument) 时，单单只对一列 (Asset) 做合并产出的 DataFrame 会有另一列 (Instrument) 重复的名称。\n",
    "# 这时 merge 函数给重复的名称加个后缀 _x, _y 等等。\n",
    "pd.merge(profolio1,profolio2,how='outer',on=['Asset'])"
   ]
  },
  {
   "cell_type": "markdown",
   "metadata": {},
   "source": [
    "# 4.2 连接 "
   ]
  },
  {
   "cell_type": "code",
   "execution_count": 106,
   "metadata": {
    "ExecuteTime": {
     "end_time": "2019-07-30T14:55:23.676206Z",
     "start_time": "2019-07-30T14:55:23.672207Z"
    },
    "collapsed": true
   },
   "outputs": [],
   "source": [
    "# numpy数组可以相互连接，np.concat；同理，series也可以相互连接，DataFrame也可以相互连接\n",
    "# 用pd.concat"
   ]
  },
  {
   "cell_type": "markdown",
   "metadata": {},
   "source": [
    "# 4.2.1 连接Series"
   ]
  },
  {
   "cell_type": "code",
   "execution_count": 107,
   "metadata": {
    "ExecuteTime": {
     "end_time": "2019-07-30T15:08:53.414507Z",
     "start_time": "2019-07-30T15:08:53.411506Z"
    },
    "collapsed": true
   },
   "outputs": [],
   "source": [
    "# 在concat函数也可以设定参数axis,\n",
    "# axis = 0(默认)沿着轴0行连接，得到一个更长的Series\n",
    "# axis = 1沿着轴1列连接得到一个dataframe\n",
    "# 被连接的series他们的index可以重复(overlapping)，也可以不同"
   ]
  },
  {
   "cell_type": "code",
   "execution_count": 110,
   "metadata": {
    "ExecuteTime": {
     "end_time": "2019-08-04T14:58:20.891570Z",
     "start_time": "2019-08-04T14:58:20.880574Z"
    },
    "code_folding": [],
    "collapsed": true
   },
   "outputs": [],
   "source": [
    "s1 = pd.Series([0,1],index = ['a','b'])\n",
    "s2 = pd.Series([2,3,4],index = ['c','d','e'])\n",
    "s3 = pd.Series([5,6],index = ['f','g'])"
   ]
  },
  {
   "cell_type": "code",
   "execution_count": 111,
   "metadata": {
    "ExecuteTime": {
     "end_time": "2019-08-04T14:58:23.854483Z",
     "start_time": "2019-08-04T14:58:23.845487Z"
    }
   },
   "outputs": [
    {
     "data": {
      "text/plain": [
       "a    0\n",
       "b    1\n",
       "c    2\n",
       "d    3\n",
       "e    4\n",
       "f    5\n",
       "g    6\n",
       "dtype: int64"
      ]
     },
     "execution_count": 111,
     "metadata": {},
     "output_type": "execute_result"
    }
   ],
   "source": [
    "pd.concat([s1,s2,s3])"
   ]
  },
  {
   "cell_type": "code",
   "execution_count": 113,
   "metadata": {
    "ExecuteTime": {
     "end_time": "2019-08-04T14:59:20.368668Z",
     "start_time": "2019-08-04T14:59:20.352676Z"
    }
   },
   "outputs": [
    {
     "data": {
      "text/html": [
       "<div>\n",
       "<style scoped>\n",
       "    .dataframe tbody tr th:only-of-type {\n",
       "        vertical-align: middle;\n",
       "    }\n",
       "\n",
       "    .dataframe tbody tr th {\n",
       "        vertical-align: top;\n",
       "    }\n",
       "\n",
       "    .dataframe thead th {\n",
       "        text-align: right;\n",
       "    }\n",
       "</style>\n",
       "<table border=\"1\" class=\"dataframe\">\n",
       "  <thead>\n",
       "    <tr style=\"text-align: right;\">\n",
       "      <th></th>\n",
       "      <th>0</th>\n",
       "      <th>1</th>\n",
       "      <th>2</th>\n",
       "    </tr>\n",
       "  </thead>\n",
       "  <tbody>\n",
       "    <tr>\n",
       "      <th>a</th>\n",
       "      <td>0.0</td>\n",
       "      <td>NaN</td>\n",
       "      <td>NaN</td>\n",
       "    </tr>\n",
       "    <tr>\n",
       "      <th>b</th>\n",
       "      <td>1.0</td>\n",
       "      <td>NaN</td>\n",
       "      <td>NaN</td>\n",
       "    </tr>\n",
       "    <tr>\n",
       "      <th>c</th>\n",
       "      <td>NaN</td>\n",
       "      <td>2.0</td>\n",
       "      <td>NaN</td>\n",
       "    </tr>\n",
       "    <tr>\n",
       "      <th>d</th>\n",
       "      <td>NaN</td>\n",
       "      <td>3.0</td>\n",
       "      <td>NaN</td>\n",
       "    </tr>\n",
       "    <tr>\n",
       "      <th>e</th>\n",
       "      <td>NaN</td>\n",
       "      <td>4.0</td>\n",
       "      <td>NaN</td>\n",
       "    </tr>\n",
       "    <tr>\n",
       "      <th>f</th>\n",
       "      <td>NaN</td>\n",
       "      <td>NaN</td>\n",
       "      <td>5.0</td>\n",
       "    </tr>\n",
       "    <tr>\n",
       "      <th>g</th>\n",
       "      <td>NaN</td>\n",
       "      <td>NaN</td>\n",
       "      <td>6.0</td>\n",
       "    </tr>\n",
       "  </tbody>\n",
       "</table>\n",
       "</div>"
      ],
      "text/plain": [
       "     0    1    2\n",
       "a  0.0  NaN  NaN\n",
       "b  1.0  NaN  NaN\n",
       "c  NaN  2.0  NaN\n",
       "d  NaN  3.0  NaN\n",
       "e  NaN  4.0  NaN\n",
       "f  NaN  NaN  5.0\n",
       "g  NaN  NaN  6.0"
      ]
     },
     "execution_count": 113,
     "metadata": {},
     "output_type": "execute_result"
    }
   ],
   "source": [
    "pd.concat([s1,s2,s3],axis=1,sort=False)"
   ]
  },
  {
   "cell_type": "code",
   "execution_count": 114,
   "metadata": {
    "ExecuteTime": {
     "end_time": "2019-08-04T15:01:11.291376Z",
     "start_time": "2019-08-04T15:01:11.284379Z"
    }
   },
   "outputs": [
    {
     "data": {
      "text/plain": [
       "a    0\n",
       "b    1\n",
       "f    5\n",
       "g    6\n",
       "dtype: int64"
      ]
     },
     "execution_count": 114,
     "metadata": {},
     "output_type": "execute_result"
    }
   ],
   "source": [
    "# 将s1和s3沿着轴0连接创建s4，这样s4和s1的index是有重复的\n",
    "s4 = pd.concat([s1,s3])\n",
    "s4"
   ]
  },
  {
   "cell_type": "code",
   "execution_count": 115,
   "metadata": {
    "ExecuteTime": {
     "end_time": "2019-08-04T15:03:04.559771Z",
     "start_time": "2019-08-04T15:03:04.532782Z"
    }
   },
   "outputs": [
    {
     "data": {
      "text/html": [
       "<div>\n",
       "<style scoped>\n",
       "    .dataframe tbody tr th:only-of-type {\n",
       "        vertical-align: middle;\n",
       "    }\n",
       "\n",
       "    .dataframe tbody tr th {\n",
       "        vertical-align: top;\n",
       "    }\n",
       "\n",
       "    .dataframe thead th {\n",
       "        text-align: right;\n",
       "    }\n",
       "</style>\n",
       "<table border=\"1\" class=\"dataframe\">\n",
       "  <thead>\n",
       "    <tr style=\"text-align: right;\">\n",
       "      <th></th>\n",
       "      <th>0</th>\n",
       "      <th>1</th>\n",
       "    </tr>\n",
       "  </thead>\n",
       "  <tbody>\n",
       "    <tr>\n",
       "      <th>a</th>\n",
       "      <td>0</td>\n",
       "      <td>0</td>\n",
       "    </tr>\n",
       "    <tr>\n",
       "      <th>b</th>\n",
       "      <td>1</td>\n",
       "      <td>1</td>\n",
       "    </tr>\n",
       "  </tbody>\n",
       "</table>\n",
       "</div>"
      ],
      "text/plain": [
       "   0  1\n",
       "a  0  0\n",
       "b  1  1"
      ]
     },
     "execution_count": 115,
     "metadata": {},
     "output_type": "execute_result"
    }
   ],
   "source": [
    "# 将s1和s4沿着轴1内连接(即只连接他们共有的index对应的值)\n",
    "pd.concat([s1,s4],axis=1,join='inner')"
   ]
  },
  {
   "cell_type": "code",
   "execution_count": 120,
   "metadata": {
    "ExecuteTime": {
     "end_time": "2019-08-04T15:06:07.309148Z",
     "start_time": "2019-08-04T15:06:07.299154Z"
    }
   },
   "outputs": [
    {
     "name": "stdout",
     "output_type": "stream",
     "text": [
      "one    a    0\n",
      "       b    1\n",
      "two    c    2\n",
      "       d    3\n",
      "       e    4\n",
      "three  f    5\n",
      "       g    6\n",
      "dtype: int64\n",
      "a    0\n",
      "b    1\n",
      "dtype: int64\n",
      "c    2\n",
      "d    3\n",
      "e    4\n",
      "dtype: int64\n"
     ]
    }
   ],
   "source": [
    "# 最后还可以将n个series沿着轴0连接起来，在赋予3个keys创建多层series\n",
    "res = pd.concat([s1,s2,s3],keys=['one','two','three'])\n",
    "print(res)\n",
    "print(res['one'])\n",
    "print(res['two'])"
   ]
  },
  {
   "cell_type": "markdown",
   "metadata": {},
   "source": [
    "# 4.2.2 连接dataframe "
   ]
  },
  {
   "cell_type": "code",
   "execution_count": 122,
   "metadata": {
    "ExecuteTime": {
     "end_time": "2019-08-04T15:09:30.798167Z",
     "start_time": "2019-08-04T15:09:30.781174Z"
    }
   },
   "outputs": [
    {
     "data": {
      "text/html": [
       "<div>\n",
       "<style scoped>\n",
       "    .dataframe tbody tr th:only-of-type {\n",
       "        vertical-align: middle;\n",
       "    }\n",
       "\n",
       "    .dataframe tbody tr th {\n",
       "        vertical-align: top;\n",
       "    }\n",
       "\n",
       "    .dataframe thead th {\n",
       "        text-align: right;\n",
       "    }\n",
       "</style>\n",
       "<table border=\"1\" class=\"dataframe\">\n",
       "  <thead>\n",
       "    <tr style=\"text-align: right;\">\n",
       "      <th></th>\n",
       "      <th>b</th>\n",
       "      <th>d</th>\n",
       "      <th>a</th>\n",
       "    </tr>\n",
       "  </thead>\n",
       "  <tbody>\n",
       "    <tr>\n",
       "      <th>0</th>\n",
       "      <td>0</td>\n",
       "      <td>1</td>\n",
       "      <td>2</td>\n",
       "    </tr>\n",
       "    <tr>\n",
       "      <th>1</th>\n",
       "      <td>3</td>\n",
       "      <td>4</td>\n",
       "      <td>5</td>\n",
       "    </tr>\n",
       "  </tbody>\n",
       "</table>\n",
       "</div>"
      ],
      "text/plain": [
       "   b  d  a\n",
       "0  0  1  2\n",
       "1  3  4  5"
      ]
     },
     "execution_count": 122,
     "metadata": {},
     "output_type": "execute_result"
    }
   ],
   "source": [
    "# 连接dataframe的逻辑和series的一模一样\n",
    "df1 = pd.DataFrame(np.arange(12).reshape(3,4),columns=['a','b','c','d'])\n",
    "df2 = pd.DataFrame(np.arange(6).reshape(2,3),columns=['b','d','a'])\n",
    "df1\n",
    "df2"
   ]
  },
  {
   "cell_type": "code",
   "execution_count": 127,
   "metadata": {
    "ExecuteTime": {
     "end_time": "2019-08-04T15:16:26.638829Z",
     "start_time": "2019-08-04T15:16:26.622838Z"
    }
   },
   "outputs": [
    {
     "data": {
      "text/html": [
       "<div>\n",
       "<style scoped>\n",
       "    .dataframe tbody tr th:only-of-type {\n",
       "        vertical-align: middle;\n",
       "    }\n",
       "\n",
       "    .dataframe tbody tr th {\n",
       "        vertical-align: top;\n",
       "    }\n",
       "\n",
       "    .dataframe thead th {\n",
       "        text-align: right;\n",
       "    }\n",
       "</style>\n",
       "<table border=\"1\" class=\"dataframe\">\n",
       "  <thead>\n",
       "    <tr style=\"text-align: right;\">\n",
       "      <th></th>\n",
       "      <th>a</th>\n",
       "      <th>b</th>\n",
       "      <th>c</th>\n",
       "      <th>d</th>\n",
       "    </tr>\n",
       "  </thead>\n",
       "  <tbody>\n",
       "    <tr>\n",
       "      <th>0</th>\n",
       "      <td>0</td>\n",
       "      <td>1</td>\n",
       "      <td>2.0</td>\n",
       "      <td>3</td>\n",
       "    </tr>\n",
       "    <tr>\n",
       "      <th>1</th>\n",
       "      <td>4</td>\n",
       "      <td>5</td>\n",
       "      <td>6.0</td>\n",
       "      <td>7</td>\n",
       "    </tr>\n",
       "    <tr>\n",
       "      <th>2</th>\n",
       "      <td>8</td>\n",
       "      <td>9</td>\n",
       "      <td>10.0</td>\n",
       "      <td>11</td>\n",
       "    </tr>\n",
       "    <tr>\n",
       "      <th>3</th>\n",
       "      <td>2</td>\n",
       "      <td>0</td>\n",
       "      <td>NaN</td>\n",
       "      <td>1</td>\n",
       "    </tr>\n",
       "    <tr>\n",
       "      <th>4</th>\n",
       "      <td>5</td>\n",
       "      <td>3</td>\n",
       "      <td>NaN</td>\n",
       "      <td>4</td>\n",
       "    </tr>\n",
       "  </tbody>\n",
       "</table>\n",
       "</div>"
      ],
      "text/plain": [
       "   a  b     c   d\n",
       "0  0  1   2.0   3\n",
       "1  4  5   6.0   7\n",
       "2  8  9  10.0  11\n",
       "3  2  0   NaN   1\n",
       "4  5  3   NaN   4"
      ]
     },
     "execution_count": 127,
     "metadata": {},
     "output_type": "execute_result"
    }
   ],
   "source": [
    "# 沿着行连接分为两步\n",
    "# 1.先把df1和df2列标签补齐\n",
    "# 2.再把df1和df2纵向连起来\n",
    "\n",
    "# index可能会有重复值，如果index不包含重要的值，可以忽略，这样就会会显示默认的index\n",
    "pd.concat([df1,df2],ignore_index = True,sort=False)"
   ]
  },
  {
   "cell_type": "code",
   "execution_count": 135,
   "metadata": {
    "ExecuteTime": {
     "end_time": "2019-08-04T15:29:01.162347Z",
     "start_time": "2019-08-04T15:29:01.145356Z"
    }
   },
   "outputs": [
    {
     "name": "stdout",
     "output_type": "stream",
     "text": [
      "   one  two\n",
      "a    0    1\n",
      "b    2    3\n",
      "c    4    5\n",
      "   three  four\n",
      "a      5     6\n",
      "c      7     8\n"
     ]
    }
   ],
   "source": [
    "# 沿着列连接同理\n",
    "df1 = pd.DataFrame(np.arange(6).reshape(3, 2),\n",
    "                   index=['a', 'b', 'c'],\n",
    "                   columns=['one', 'two'])\n",
    "\n",
    "df2 = pd.DataFrame(5 + np.arange(4).reshape(2, 2),\n",
    "                   index=['a', 'c'],\n",
    "                   columns=['three', 'four'])\n",
    "print(df1)\n",
    "print(df2)"
   ]
  },
  {
   "cell_type": "code",
   "execution_count": 136,
   "metadata": {
    "ExecuteTime": {
     "end_time": "2019-08-04T15:29:04.206271Z",
     "start_time": "2019-08-04T15:29:04.191279Z"
    }
   },
   "outputs": [
    {
     "data": {
      "text/html": [
       "<div>\n",
       "<style scoped>\n",
       "    .dataframe tbody tr th:only-of-type {\n",
       "        vertical-align: middle;\n",
       "    }\n",
       "\n",
       "    .dataframe tbody tr th {\n",
       "        vertical-align: top;\n",
       "    }\n",
       "\n",
       "    .dataframe thead th {\n",
       "        text-align: right;\n",
       "    }\n",
       "</style>\n",
       "<table border=\"1\" class=\"dataframe\">\n",
       "  <thead>\n",
       "    <tr style=\"text-align: right;\">\n",
       "      <th></th>\n",
       "      <th>one</th>\n",
       "      <th>two</th>\n",
       "      <th>three</th>\n",
       "      <th>four</th>\n",
       "    </tr>\n",
       "  </thead>\n",
       "  <tbody>\n",
       "    <tr>\n",
       "      <th>a</th>\n",
       "      <td>0</td>\n",
       "      <td>1</td>\n",
       "      <td>5.0</td>\n",
       "      <td>6.0</td>\n",
       "    </tr>\n",
       "    <tr>\n",
       "      <th>b</th>\n",
       "      <td>2</td>\n",
       "      <td>3</td>\n",
       "      <td>NaN</td>\n",
       "      <td>NaN</td>\n",
       "    </tr>\n",
       "    <tr>\n",
       "      <th>c</th>\n",
       "      <td>4</td>\n",
       "      <td>5</td>\n",
       "      <td>7.0</td>\n",
       "      <td>8.0</td>\n",
       "    </tr>\n",
       "  </tbody>\n",
       "</table>\n",
       "</div>"
      ],
      "text/plain": [
       "   one  two  three  four\n",
       "a    0    1    5.0   6.0\n",
       "b    2    3    NaN   NaN\n",
       "c    4    5    7.0   8.0"
      ]
     },
     "execution_count": 136,
     "metadata": {},
     "output_type": "execute_result"
    }
   ],
   "source": [
    "pd.concat([df1,df2],axis=1,sort=False)"
   ]
  },
  {
   "cell_type": "markdown",
   "metadata": {},
   "source": [
    "# 5 数据表的重塑和透视"
   ]
  },
  {
   "cell_type": "code",
   "execution_count": 137,
   "metadata": {
    "ExecuteTime": {
     "end_time": "2019-08-04T15:32:02.141186Z",
     "start_time": "2019-08-04T15:32:02.137189Z"
    },
    "code_folding": [
     0
    ],
    "collapsed": true
   },
   "outputs": [],
   "source": [
    "# 重塑(reshape)和透视(povit)两个操作只改变数据表的布局(layout)\n",
    "# 重塑用stack和unstack函数互为逆转操作\n",
    "# 透视用pivot和melt函数互为逆操作\n"
   ]
  },
  {
   "cell_type": "markdown",
   "metadata": {},
   "source": [
    "# 5.1 重塑"
   ]
  },
  {
   "cell_type": "code",
   "execution_count": 138,
   "metadata": {
    "ExecuteTime": {
     "end_time": "2019-08-04T15:33:13.206166Z",
     "start_time": "2019-08-04T15:33:13.203167Z"
    },
    "code_folding": [],
    "collapsed": true
   },
   "outputs": [],
   "source": [
    "# 在〖数据结构之 Pandas (上)〗提到过，DataFrame 和「多层索引的 Series」其实维度是一样，只是展示形式不同。\n",
    "# 而重塑就是通过改变数据表里面的「行索引」和「列索引」来改变展示形式。\n",
    "# 行索引-》列索引 用stack函数\n",
    "# 列索引-》行索引 用unstack函数"
   ]
  },
  {
   "cell_type": "markdown",
   "metadata": {},
   "source": [
    "# 5.1.1 单层dataframe "
   ]
  },
  {
   "cell_type": "code",
   "execution_count": 139,
   "metadata": {
    "ExecuteTime": {
     "end_time": "2019-08-04T15:33:53.147115Z",
     "start_time": "2019-08-04T15:33:53.130124Z"
    }
   },
   "outputs": [
    {
     "data": {
      "text/html": [
       "<div>\n",
       "<style scoped>\n",
       "    .dataframe tbody tr th:only-of-type {\n",
       "        vertical-align: middle;\n",
       "    }\n",
       "\n",
       "    .dataframe tbody tr th {\n",
       "        vertical-align: top;\n",
       "    }\n",
       "\n",
       "    .dataframe thead th {\n",
       "        text-align: right;\n",
       "    }\n",
       "</style>\n",
       "<table border=\"1\" class=\"dataframe\">\n",
       "  <thead>\n",
       "    <tr style=\"text-align: right;\">\n",
       "      <th>特征</th>\n",
       "      <th>交易量</th>\n",
       "      <th>价格</th>\n",
       "      <th>行业</th>\n",
       "    </tr>\n",
       "    <tr>\n",
       "      <th>代号</th>\n",
       "      <th></th>\n",
       "      <th></th>\n",
       "      <th></th>\n",
       "    </tr>\n",
       "  </thead>\n",
       "  <tbody>\n",
       "    <tr>\n",
       "      <th>JD</th>\n",
       "      <td>27113291</td>\n",
       "      <td>25.95</td>\n",
       "      <td>电商</td>\n",
       "    </tr>\n",
       "    <tr>\n",
       "      <th>AAPL</th>\n",
       "      <td>18913154</td>\n",
       "      <td>172.97</td>\n",
       "      <td>科技</td>\n",
       "    </tr>\n",
       "  </tbody>\n",
       "</table>\n",
       "</div>"
      ],
      "text/plain": [
       "特征         交易量      价格  行业\n",
       "代号                        \n",
       "JD    27113291   25.95  电商\n",
       "AAPL  18913154  172.97  科技"
      ]
     },
     "execution_count": 139,
     "metadata": {},
     "output_type": "execute_result"
    }
   ],
   "source": [
    "\n",
    "symbol = ['JD', 'AAPL']\n",
    "data = {'行业': ['电商', '科技'],\n",
    "'价格': [25.95, 172.97],\n",
    "'交易量': [27113291, 18913154]}\n",
    "df = pd.DataFrame( data, index=symbol )\n",
    "df.columns.name = '特征'\n",
    "df.index.name = '代号'\n",
    "df"
   ]
  },
  {
   "cell_type": "code",
   "execution_count": 140,
   "metadata": {
    "ExecuteTime": {
     "end_time": "2019-08-04T15:34:48.686408Z",
     "start_time": "2019-08-04T15:34:48.682409Z"
    },
    "code_folding": [
     0
    ],
    "collapsed": true
   },
   "outputs": [],
   "source": [
    "# 行索引 = [JD, AAPL]，名称是代号\n",
    "# 列索引 = [行业, 价格, 交易量]，名称是特征"
   ]
  },
  {
   "cell_type": "code",
   "execution_count": 142,
   "metadata": {
    "ExecuteTime": {
     "end_time": "2019-08-04T15:36:06.387087Z",
     "start_time": "2019-08-04T15:36:06.378092Z"
    }
   },
   "outputs": [
    {
     "data": {
      "text/plain": [
       "代号    特征 \n",
       "JD    交易量    27113291\n",
       "      价格        25.95\n",
       "      行业           电商\n",
       "AAPL  交易量    18913154\n",
       "      价格       172.97\n",
       "      行业           科技\n",
       "dtype: object"
      ]
     },
     "execution_count": 142,
     "metadata": {},
     "output_type": "execute_result"
    }
   ],
   "source": [
    "# 列索引 (特征) 变成了行索引，原来的 DataFrame df 变成了两层 Series (第一层索引是代号，第二层索引是特征)。\n",
    "c2i_Seris = df.stack()\n",
    "c2i_Seris"
   ]
  },
  {
   "cell_type": "code",
   "execution_count": 147,
   "metadata": {
    "ExecuteTime": {
     "end_time": "2019-08-04T15:42:43.106242Z",
     "start_time": "2019-08-04T15:42:43.097247Z"
    }
   },
   "outputs": [
    {
     "data": {
      "text/plain": [
       "特征   代号  \n",
       "交易量  JD      27113291\n",
       "     AAPL    18913154\n",
       "价格   JD         25.95\n",
       "     AAPL      172.97\n",
       "行业   JD            电商\n",
       "     AAPL          科技\n",
       "dtype: object"
      ]
     },
     "execution_count": 147,
     "metadata": {},
     "output_type": "execute_result"
    }
   ],
   "source": [
    "# 行索引 (代号) 变成了列索引，原来的 DataFrame df 也变成了两层 Series (第一层索引是特征，第二层索引是代号)。\n",
    "i2c_Seris = df.unstack()\n",
    "i2c_Seris"
   ]
  },
  {
   "cell_type": "code",
   "execution_count": 144,
   "metadata": {
    "ExecuteTime": {
     "end_time": "2019-08-04T15:38:58.685812Z",
     "start_time": "2019-08-04T15:38:58.679816Z"
    }
   },
   "outputs": [
    {
     "data": {
      "text/plain": [
       "(Index(['JD', 'AAPL'], dtype='object', name='代号'),\n",
       " Index(['交易量', '价格', '行业'], dtype='object', name='特征'))"
      ]
     },
     "execution_count": 144,
     "metadata": {},
     "output_type": "execute_result"
    }
   ],
   "source": [
    "# 对 df 做 stack 和 unstack 都得到了「两层 Series」，但是索引的层次不同，那么在背后的规律是什么？首先我们先来看看两个「两层 Series」的 index 包含哪些信息 (以及 df 的 index 和 columns)。\n",
    "df.index,df.columns"
   ]
  },
  {
   "cell_type": "code",
   "execution_count": 145,
   "metadata": {
    "ExecuteTime": {
     "end_time": "2019-08-04T15:39:24.384320Z",
     "start_time": "2019-08-04T15:39:24.379323Z"
    }
   },
   "outputs": [
    {
     "data": {
      "text/plain": [
       "MultiIndex(levels=[['JD', 'AAPL'], ['交易量', '价格', '行业']],\n",
       "           codes=[[0, 0, 0, 1, 1, 1], [0, 1, 2, 0, 1, 2]],\n",
       "           names=['代号', '特征'])"
      ]
     },
     "execution_count": 145,
     "metadata": {},
     "output_type": "execute_result"
    }
   ],
   "source": [
    "c2i_Seris.index"
   ]
  },
  {
   "cell_type": "code",
   "execution_count": 148,
   "metadata": {
    "ExecuteTime": {
     "end_time": "2019-08-04T15:42:49.876191Z",
     "start_time": "2019-08-04T15:42:49.869194Z"
    }
   },
   "outputs": [
    {
     "data": {
      "text/plain": [
       "MultiIndex(levels=[['交易量', '价格', '行业'], ['JD', 'AAPL']],\n",
       "           codes=[[0, 0, 1, 1, 2, 2], [0, 1, 0, 1, 0, 1]],\n",
       "           names=['特征', '代号'])"
      ]
     },
     "execution_count": 148,
     "metadata": {},
     "output_type": "execute_result"
    }
   ],
   "source": [
    "i2c_Seris.index"
   ]
  },
  {
   "cell_type": "code",
   "execution_count": 149,
   "metadata": {
    "ExecuteTime": {
     "end_time": "2019-08-04T15:44:30.577967Z",
     "start_time": "2019-08-04T15:44:30.574969Z"
    },
    "code_folding": [
     0
    ],
    "collapsed": true
   },
   "outputs": [],
   "source": [
    "# 定义\n",
    "# r = [JD,APPL],名称是代号\n",
    "# c = [行业，价格，交易量]，名称是特征\n",
    "# 那么\n",
    "# c2i_Seris的索引=[r,c]\n",
    "# i2c_Seris的索引=[c,r]\n",
    "# 现在可以总结规律\n",
    "# 1.当用 stack 将 df 变成 c2i_Series 时，df 的列索引 c 加在其行索引 r后面得到 [r, c] 做为 c2i_Series 的多层索引\n",
    "# 2.当用 unstack 将 df 变成 i2c_Series 时，df 的行索引 r 加在其列索引 c 后面得到 [c, r] 做为 i2c_Series 的多层索引"
   ]
  },
  {
   "cell_type": "markdown",
   "metadata": {},
   "source": [
    "# 5.1.2 基于层和名称来unstack"
   ]
  },
  {
   "cell_type": "code",
   "execution_count": 150,
   "metadata": {
    "ExecuteTime": {
     "end_time": "2019-08-04T15:47:03.052541Z",
     "start_time": "2019-08-04T15:47:03.049542Z"
    },
    "collapsed": true
   },
   "outputs": [],
   "source": [
    "# 对于多层索引的series,unstack哪一层有两种方法来确定\n",
    "# 1.基于层(level-based)\n",
    "# 2.基于名称(name-based)"
   ]
  },
  {
   "cell_type": "markdown",
   "metadata": {},
   "source": [
    "# 5.1.2.1 基于层来unstack"
   ]
  },
  {
   "cell_type": "code",
   "execution_count": 153,
   "metadata": {
    "ExecuteTime": {
     "end_time": "2019-08-04T15:48:38.667733Z",
     "start_time": "2019-08-04T15:48:38.647746Z"
    }
   },
   "outputs": [
    {
     "name": "stdout",
     "output_type": "stream",
     "text": [
      "代号    特征 \n",
      "JD    交易量    27113291\n",
      "      价格        25.95\n",
      "      行业           电商\n",
      "AAPL  交易量    18913154\n",
      "      价格       172.97\n",
      "      行业           科技\n",
      "dtype: object\n"
     ]
    },
    {
     "data": {
      "text/html": [
       "<div>\n",
       "<style scoped>\n",
       "    .dataframe tbody tr th:only-of-type {\n",
       "        vertical-align: middle;\n",
       "    }\n",
       "\n",
       "    .dataframe tbody tr th {\n",
       "        vertical-align: top;\n",
       "    }\n",
       "\n",
       "    .dataframe thead th {\n",
       "        text-align: right;\n",
       "    }\n",
       "</style>\n",
       "<table border=\"1\" class=\"dataframe\">\n",
       "  <thead>\n",
       "    <tr style=\"text-align: right;\">\n",
       "      <th>特征</th>\n",
       "      <th>交易量</th>\n",
       "      <th>价格</th>\n",
       "      <th>行业</th>\n",
       "    </tr>\n",
       "    <tr>\n",
       "      <th>代号</th>\n",
       "      <th></th>\n",
       "      <th></th>\n",
       "      <th></th>\n",
       "    </tr>\n",
       "  </thead>\n",
       "  <tbody>\n",
       "    <tr>\n",
       "      <th>JD</th>\n",
       "      <td>27113291</td>\n",
       "      <td>25.95</td>\n",
       "      <td>电商</td>\n",
       "    </tr>\n",
       "    <tr>\n",
       "      <th>AAPL</th>\n",
       "      <td>18913154</td>\n",
       "      <td>172.97</td>\n",
       "      <td>科技</td>\n",
       "    </tr>\n",
       "  </tbody>\n",
       "</table>\n",
       "</div>"
      ],
      "text/plain": [
       "特征         交易量      价格  行业\n",
       "代号                        \n",
       "JD    27113291   25.95  电商\n",
       "AAPL  18913154  172.97  科技"
      ]
     },
     "execution_count": 153,
     "metadata": {},
     "output_type": "execute_result"
    }
   ],
   "source": [
    "# 没有填层数，默认为最后一层\n",
    "print(c2i_Seris)\n",
    "c2i_Seris.unstack()"
   ]
  },
  {
   "cell_type": "code",
   "execution_count": 154,
   "metadata": {
    "ExecuteTime": {
     "end_time": "2019-08-04T15:49:21.722127Z",
     "start_time": "2019-08-04T15:49:21.709133Z"
    }
   },
   "outputs": [
    {
     "data": {
      "text/html": [
       "<div>\n",
       "<style scoped>\n",
       "    .dataframe tbody tr th:only-of-type {\n",
       "        vertical-align: middle;\n",
       "    }\n",
       "\n",
       "    .dataframe tbody tr th {\n",
       "        vertical-align: top;\n",
       "    }\n",
       "\n",
       "    .dataframe thead th {\n",
       "        text-align: right;\n",
       "    }\n",
       "</style>\n",
       "<table border=\"1\" class=\"dataframe\">\n",
       "  <thead>\n",
       "    <tr style=\"text-align: right;\">\n",
       "      <th>代号</th>\n",
       "      <th>JD</th>\n",
       "      <th>AAPL</th>\n",
       "    </tr>\n",
       "    <tr>\n",
       "      <th>特征</th>\n",
       "      <th></th>\n",
       "      <th></th>\n",
       "    </tr>\n",
       "  </thead>\n",
       "  <tbody>\n",
       "    <tr>\n",
       "      <th>交易量</th>\n",
       "      <td>27113291</td>\n",
       "      <td>18913154</td>\n",
       "    </tr>\n",
       "    <tr>\n",
       "      <th>价格</th>\n",
       "      <td>25.95</td>\n",
       "      <td>172.97</td>\n",
       "    </tr>\n",
       "    <tr>\n",
       "      <th>行业</th>\n",
       "      <td>电商</td>\n",
       "      <td>科技</td>\n",
       "    </tr>\n",
       "  </tbody>\n",
       "</table>\n",
       "</div>"
      ],
      "text/plain": [
       "代号         JD      AAPL\n",
       "特征                     \n",
       "交易量  27113291  18913154\n",
       "价格      25.95    172.97\n",
       "行业         电商        科技"
      ]
     },
     "execution_count": 154,
     "metadata": {},
     "output_type": "execute_result"
    }
   ],
   "source": [
    "# 基于层，选择第一层\n",
    "c2i_Seris.unstack(0)"
   ]
  },
  {
   "cell_type": "markdown",
   "metadata": {},
   "source": [
    "# 5.1.2.2 基于名称来unstack"
   ]
  },
  {
   "cell_type": "code",
   "execution_count": 161,
   "metadata": {
    "ExecuteTime": {
     "end_time": "2019-08-04T15:52:06.578595Z",
     "start_time": "2019-08-04T15:52:06.560605Z"
    }
   },
   "outputs": [
    {
     "name": "stdout",
     "output_type": "stream",
     "text": [
      "MultiIndex(levels=[['JD', 'AAPL'], ['交易量', '价格', '行业']],\n",
      "           codes=[[0, 0, 0, 1, 1, 1], [0, 1, 2, 0, 1, 2]],\n",
      "           names=['代号', '特征'])\n",
      "代号         JD      AAPL\n",
      "特征                     \n",
      "交易量  27113291  18913154\n",
      "价格      25.95    172.97\n",
      "行业         电商        科技\n",
      "---------------------------\n",
      "特征         交易量      价格  行业\n",
      "代号                        \n",
      "JD    27113291   25.95  电商\n",
      "AAPL  18913154  172.97  科技\n"
     ]
    }
   ],
   "source": [
    "print(c2i_Seris.index)\n",
    "print(c2i_Seris.unstack('代号'))\n",
    "print('---------------------------')\n",
    "print(c2i_Seris.unstack('特征'))"
   ]
  },
  {
   "cell_type": "markdown",
   "metadata": {},
   "source": [
    "# 5.1.3 多层dataframe"
   ]
  },
  {
   "cell_type": "code",
   "execution_count": 166,
   "metadata": {
    "ExecuteTime": {
     "end_time": "2019-08-08T14:24:22.576051Z",
     "start_time": "2019-08-08T14:24:22.548068Z"
    }
   },
   "outputs": [
    {
     "name": "stderr",
     "output_type": "stream",
     "text": [
      "C:\\Users\\Administrator\\Anaconda3\\envs\\py35\\lib\\site-packages\\ipykernel\\__main__.py:9: FutureWarning: the 'labels' keyword is deprecated, use 'codes' instead\n"
     ]
    },
    {
     "data": {
      "text/html": [
       "<div>\n",
       "<style scoped>\n",
       "    .dataframe tbody tr th:only-of-type {\n",
       "        vertical-align: middle;\n",
       "    }\n",
       "\n",
       "    .dataframe tbody tr th {\n",
       "        vertical-align: top;\n",
       "    }\n",
       "\n",
       "    .dataframe thead th {\n",
       "        text-align: right;\n",
       "    }\n",
       "</style>\n",
       "<table border=\"1\" class=\"dataframe\">\n",
       "  <thead>\n",
       "    <tr style=\"text-align: right;\">\n",
       "      <th></th>\n",
       "      <th>特征</th>\n",
       "      <th>行业</th>\n",
       "      <th>雇员</th>\n",
       "      <th>价格</th>\n",
       "    </tr>\n",
       "    <tr>\n",
       "      <th>地区</th>\n",
       "      <th>代号</th>\n",
       "      <th></th>\n",
       "      <th></th>\n",
       "      <th></th>\n",
       "    </tr>\n",
       "  </thead>\n",
       "  <tbody>\n",
       "    <tr>\n",
       "      <th rowspan=\"2\" valign=\"top\">中国</th>\n",
       "      <th>BABA</th>\n",
       "      <td>电商</td>\n",
       "      <td>101550</td>\n",
       "      <td>176.92</td>\n",
       "    </tr>\n",
       "    <tr>\n",
       "      <th>JD</th>\n",
       "      <td>电商</td>\n",
       "      <td>175336</td>\n",
       "      <td>25.95</td>\n",
       "    </tr>\n",
       "    <tr>\n",
       "      <th rowspan=\"2\" valign=\"top\">美国</th>\n",
       "      <th>GS</th>\n",
       "      <td>金融</td>\n",
       "      <td>60348</td>\n",
       "      <td>41.79</td>\n",
       "    </tr>\n",
       "    <tr>\n",
       "      <th>MS</th>\n",
       "      <td>金融</td>\n",
       "      <td>36600</td>\n",
       "      <td>196.00</td>\n",
       "    </tr>\n",
       "  </tbody>\n",
       "</table>\n",
       "</div>"
      ],
      "text/plain": [
       "特征       行业      雇员      价格\n",
       "地区 代号                      \n",
       "中国 BABA  电商  101550  176.92\n",
       "   JD    电商  175336   25.95\n",
       "美国 GS    金融   60348   41.79\n",
       "   MS    金融   36600  196.00"
      ]
     },
     "execution_count": 166,
     "metadata": {},
     "output_type": "execute_result"
    }
   ],
   "source": [
    "# 创建一个dataframe(2层行索引，1层列索引)\n",
    "data = [ ['电商', 101550, 176.92], \n",
    "         ['电商', 175336, 25.95], \n",
    "         ['金融', 60348, 41.79], \n",
    "         ['金融', 36600, 196.00] ]\n",
    "midx = pd.MultiIndex(levels=[['中国','美国'],\n",
    "                             ['BABA','JD','GS','MS']],\n",
    "                    labels=[[0,0,1,1],[0,1,2,3]],\n",
    "                    name=['地区','代号'])\n",
    "mcol = pd.Index(['行业','雇员','价格'],name = '特征')\n",
    "df = pd.DataFrame(data,index=midx,columns=mcol)\n",
    "df"
   ]
  },
  {
   "cell_type": "code",
   "execution_count": 168,
   "metadata": {
    "ExecuteTime": {
     "end_time": "2019-08-08T14:25:48.270256Z",
     "start_time": "2019-08-08T14:25:48.265256Z"
    }
   },
   "outputs": [
    {
     "name": "stdout",
     "output_type": "stream",
     "text": [
      "MultiIndex(levels=[['中国', '美国'], ['BABA', 'JD', 'GS', 'MS']],\n",
      "           codes=[[0, 0, 1, 1], [0, 1, 2, 3]],\n",
      "           names=['地区', '代号'])\n",
      "Index(['行业', '雇员', '价格'], dtype='object', name='特征')\n"
     ]
    }
   ],
   "source": [
    "print(df.index)\n",
    "print(df.columns)"
   ]
  },
  {
   "cell_type": "markdown",
   "metadata": {},
   "source": [
    "# 5.1.3.1 基于层来unstack时，选择第一层(参数0)"
   ]
  },
  {
   "cell_type": "code",
   "execution_count": 169,
   "metadata": {
    "ExecuteTime": {
     "end_time": "2019-08-08T14:27:01.505926Z",
     "start_time": "2019-08-08T14:27:01.459955Z"
    }
   },
   "outputs": [
    {
     "data": {
      "text/html": [
       "<div>\n",
       "<style scoped>\n",
       "    .dataframe tbody tr th:only-of-type {\n",
       "        vertical-align: middle;\n",
       "    }\n",
       "\n",
       "    .dataframe tbody tr th {\n",
       "        vertical-align: top;\n",
       "    }\n",
       "\n",
       "    .dataframe thead tr th {\n",
       "        text-align: left;\n",
       "    }\n",
       "\n",
       "    .dataframe thead tr:last-of-type th {\n",
       "        text-align: right;\n",
       "    }\n",
       "</style>\n",
       "<table border=\"1\" class=\"dataframe\">\n",
       "  <thead>\n",
       "    <tr>\n",
       "      <th>特征</th>\n",
       "      <th colspan=\"2\" halign=\"left\">行业</th>\n",
       "      <th colspan=\"2\" halign=\"left\">雇员</th>\n",
       "      <th colspan=\"2\" halign=\"left\">价格</th>\n",
       "    </tr>\n",
       "    <tr>\n",
       "      <th>地区</th>\n",
       "      <th>中国</th>\n",
       "      <th>美国</th>\n",
       "      <th>中国</th>\n",
       "      <th>美国</th>\n",
       "      <th>中国</th>\n",
       "      <th>美国</th>\n",
       "    </tr>\n",
       "    <tr>\n",
       "      <th>代号</th>\n",
       "      <th></th>\n",
       "      <th></th>\n",
       "      <th></th>\n",
       "      <th></th>\n",
       "      <th></th>\n",
       "      <th></th>\n",
       "    </tr>\n",
       "  </thead>\n",
       "  <tbody>\n",
       "    <tr>\n",
       "      <th>BABA</th>\n",
       "      <td>电商</td>\n",
       "      <td>NaN</td>\n",
       "      <td>101550.0</td>\n",
       "      <td>NaN</td>\n",
       "      <td>176.92</td>\n",
       "      <td>NaN</td>\n",
       "    </tr>\n",
       "    <tr>\n",
       "      <th>JD</th>\n",
       "      <td>电商</td>\n",
       "      <td>NaN</td>\n",
       "      <td>175336.0</td>\n",
       "      <td>NaN</td>\n",
       "      <td>25.95</td>\n",
       "      <td>NaN</td>\n",
       "    </tr>\n",
       "    <tr>\n",
       "      <th>GS</th>\n",
       "      <td>NaN</td>\n",
       "      <td>金融</td>\n",
       "      <td>NaN</td>\n",
       "      <td>60348.0</td>\n",
       "      <td>NaN</td>\n",
       "      <td>41.79</td>\n",
       "    </tr>\n",
       "    <tr>\n",
       "      <th>MS</th>\n",
       "      <td>NaN</td>\n",
       "      <td>金融</td>\n",
       "      <td>NaN</td>\n",
       "      <td>36600.0</td>\n",
       "      <td>NaN</td>\n",
       "      <td>196.00</td>\n",
       "    </tr>\n",
       "  </tbody>\n",
       "</table>\n",
       "</div>"
      ],
      "text/plain": [
       "特征     行业             雇员               价格        \n",
       "地区     中国   美国        中国       美国      中国      美国\n",
       "代号                                               \n",
       "BABA   电商  NaN  101550.0      NaN  176.92     NaN\n",
       "JD     电商  NaN  175336.0      NaN   25.95     NaN\n",
       "GS    NaN   金融       NaN  60348.0     NaN   41.79\n",
       "MS    NaN   金融       NaN  36600.0     NaN  196.00"
      ]
     },
     "execution_count": 169,
     "metadata": {},
     "output_type": "execute_result"
    }
   ],
   "source": [
    "df.unstack(0)\n",
    "# df被unstack(0)之后变成(行变列)\n",
    "# 行索引 = r2\n",
    "# 列索引 = [c,r1]\n",
    "# 重塑后的dataframe这时行索引只有一层(代号)，而列索引有两层，第一册是特征，第二层是地区"
   ]
  },
  {
   "cell_type": "markdown",
   "metadata": {
    "ExecuteTime": {
     "end_time": "2019-08-08T14:31:12.799062Z",
     "start_time": "2019-08-08T14:31:12.796063Z"
    }
   },
   "source": [
    "# 5.1.3.2 基于层来unstack()时,选择第二层(参数放1)"
   ]
  },
  {
   "cell_type": "code",
   "execution_count": 172,
   "metadata": {
    "ExecuteTime": {
     "end_time": "2019-08-08T14:33:46.311848Z",
     "start_time": "2019-08-08T14:33:46.280867Z"
    }
   },
   "outputs": [
    {
     "data": {
      "text/html": [
       "<div>\n",
       "<style scoped>\n",
       "    .dataframe tbody tr th:only-of-type {\n",
       "        vertical-align: middle;\n",
       "    }\n",
       "\n",
       "    .dataframe tbody tr th {\n",
       "        vertical-align: top;\n",
       "    }\n",
       "\n",
       "    .dataframe thead tr th {\n",
       "        text-align: left;\n",
       "    }\n",
       "\n",
       "    .dataframe thead tr:last-of-type th {\n",
       "        text-align: right;\n",
       "    }\n",
       "</style>\n",
       "<table border=\"1\" class=\"dataframe\">\n",
       "  <thead>\n",
       "    <tr>\n",
       "      <th>特征</th>\n",
       "      <th colspan=\"4\" halign=\"left\">行业</th>\n",
       "      <th colspan=\"4\" halign=\"left\">雇员</th>\n",
       "      <th colspan=\"4\" halign=\"left\">价格</th>\n",
       "    </tr>\n",
       "    <tr>\n",
       "      <th>代号</th>\n",
       "      <th>BABA</th>\n",
       "      <th>JD</th>\n",
       "      <th>GS</th>\n",
       "      <th>MS</th>\n",
       "      <th>BABA</th>\n",
       "      <th>JD</th>\n",
       "      <th>GS</th>\n",
       "      <th>MS</th>\n",
       "      <th>BABA</th>\n",
       "      <th>JD</th>\n",
       "      <th>GS</th>\n",
       "      <th>MS</th>\n",
       "    </tr>\n",
       "    <tr>\n",
       "      <th>地区</th>\n",
       "      <th></th>\n",
       "      <th></th>\n",
       "      <th></th>\n",
       "      <th></th>\n",
       "      <th></th>\n",
       "      <th></th>\n",
       "      <th></th>\n",
       "      <th></th>\n",
       "      <th></th>\n",
       "      <th></th>\n",
       "      <th></th>\n",
       "      <th></th>\n",
       "    </tr>\n",
       "  </thead>\n",
       "  <tbody>\n",
       "    <tr>\n",
       "      <th>中国</th>\n",
       "      <td>电商</td>\n",
       "      <td>电商</td>\n",
       "      <td>NaN</td>\n",
       "      <td>NaN</td>\n",
       "      <td>101550.0</td>\n",
       "      <td>175336.0</td>\n",
       "      <td>NaN</td>\n",
       "      <td>NaN</td>\n",
       "      <td>176.92</td>\n",
       "      <td>25.95</td>\n",
       "      <td>NaN</td>\n",
       "      <td>NaN</td>\n",
       "    </tr>\n",
       "    <tr>\n",
       "      <th>美国</th>\n",
       "      <td>NaN</td>\n",
       "      <td>NaN</td>\n",
       "      <td>金融</td>\n",
       "      <td>金融</td>\n",
       "      <td>NaN</td>\n",
       "      <td>NaN</td>\n",
       "      <td>60348.0</td>\n",
       "      <td>36600.0</td>\n",
       "      <td>NaN</td>\n",
       "      <td>NaN</td>\n",
       "      <td>41.79</td>\n",
       "      <td>196.0</td>\n",
       "    </tr>\n",
       "  </tbody>\n",
       "</table>\n",
       "</div>"
      ],
      "text/plain": [
       "特征   行业                       雇员                                  价格         \\\n",
       "代号 BABA   JD   GS   MS      BABA        JD       GS       MS    BABA     JD   \n",
       "地区                                                                            \n",
       "中国   电商   电商  NaN  NaN  101550.0  175336.0      NaN      NaN  176.92  25.95   \n",
       "美国  NaN  NaN   金融   金融       NaN       NaN  60348.0  36600.0     NaN    NaN   \n",
       "\n",
       "特征                \n",
       "代号     GS     MS  \n",
       "地区                \n",
       "中国    NaN    NaN  \n",
       "美国  41.79  196.0  "
      ]
     },
     "execution_count": 172,
     "metadata": {},
     "output_type": "execute_result"
    }
   ],
   "source": [
    "df.unstack(1)\n",
    "# df被unstack(1)之后变成(行->列)\n",
    "# 行索引 = r1\n",
    "# 列索引 = [c,r2]\n",
    "# 重塑之后的df这时行索引只有一层(地区)，而列索引有两层，第一层是特征，第二层是代号"
   ]
  },
  {
   "cell_type": "markdown",
   "metadata": {},
   "source": [
    "# 5.1.3.3 基于层先unstack(0)再stack(0)"
   ]
  },
  {
   "cell_type": "code",
   "execution_count": 174,
   "metadata": {
    "ExecuteTime": {
     "end_time": "2019-08-08T15:03:12.728505Z",
     "start_time": "2019-08-08T15:03:12.694528Z"
    }
   },
   "outputs": [
    {
     "data": {
      "text/html": [
       "<div>\n",
       "<style scoped>\n",
       "    .dataframe tbody tr th:only-of-type {\n",
       "        vertical-align: middle;\n",
       "    }\n",
       "\n",
       "    .dataframe tbody tr th {\n",
       "        vertical-align: top;\n",
       "    }\n",
       "\n",
       "    .dataframe thead th {\n",
       "        text-align: right;\n",
       "    }\n",
       "</style>\n",
       "<table border=\"1\" class=\"dataframe\">\n",
       "  <thead>\n",
       "    <tr style=\"text-align: right;\">\n",
       "      <th></th>\n",
       "      <th>地区</th>\n",
       "      <th>中国</th>\n",
       "      <th>美国</th>\n",
       "    </tr>\n",
       "    <tr>\n",
       "      <th>代号</th>\n",
       "      <th>特征</th>\n",
       "      <th></th>\n",
       "      <th></th>\n",
       "    </tr>\n",
       "  </thead>\n",
       "  <tbody>\n",
       "    <tr>\n",
       "      <th rowspan=\"3\" valign=\"top\">BABA</th>\n",
       "      <th>价格</th>\n",
       "      <td>176.92</td>\n",
       "      <td>NaN</td>\n",
       "    </tr>\n",
       "    <tr>\n",
       "      <th>行业</th>\n",
       "      <td>电商</td>\n",
       "      <td>NaN</td>\n",
       "    </tr>\n",
       "    <tr>\n",
       "      <th>雇员</th>\n",
       "      <td>101550</td>\n",
       "      <td>NaN</td>\n",
       "    </tr>\n",
       "    <tr>\n",
       "      <th rowspan=\"3\" valign=\"top\">JD</th>\n",
       "      <th>价格</th>\n",
       "      <td>25.95</td>\n",
       "      <td>NaN</td>\n",
       "    </tr>\n",
       "    <tr>\n",
       "      <th>行业</th>\n",
       "      <td>电商</td>\n",
       "      <td>NaN</td>\n",
       "    </tr>\n",
       "    <tr>\n",
       "      <th>雇员</th>\n",
       "      <td>175336</td>\n",
       "      <td>NaN</td>\n",
       "    </tr>\n",
       "    <tr>\n",
       "      <th rowspan=\"3\" valign=\"top\">GS</th>\n",
       "      <th>价格</th>\n",
       "      <td>NaN</td>\n",
       "      <td>41.79</td>\n",
       "    </tr>\n",
       "    <tr>\n",
       "      <th>行业</th>\n",
       "      <td>NaN</td>\n",
       "      <td>金融</td>\n",
       "    </tr>\n",
       "    <tr>\n",
       "      <th>雇员</th>\n",
       "      <td>NaN</td>\n",
       "      <td>60348</td>\n",
       "    </tr>\n",
       "    <tr>\n",
       "      <th rowspan=\"3\" valign=\"top\">MS</th>\n",
       "      <th>价格</th>\n",
       "      <td>NaN</td>\n",
       "      <td>196</td>\n",
       "    </tr>\n",
       "    <tr>\n",
       "      <th>行业</th>\n",
       "      <td>NaN</td>\n",
       "      <td>金融</td>\n",
       "    </tr>\n",
       "    <tr>\n",
       "      <th>雇员</th>\n",
       "      <td>NaN</td>\n",
       "      <td>36600</td>\n",
       "    </tr>\n",
       "  </tbody>\n",
       "</table>\n",
       "</div>"
      ],
      "text/plain": [
       "地区           中国     美国\n",
       "代号   特征               \n",
       "BABA 价格  176.92    NaN\n",
       "     行业      电商    NaN\n",
       "     雇员  101550    NaN\n",
       "JD   价格   25.95    NaN\n",
       "     行业      电商    NaN\n",
       "     雇员  175336    NaN\n",
       "GS   价格     NaN  41.79\n",
       "     行业     NaN     金融\n",
       "     雇员     NaN  60348\n",
       "MS   价格     NaN    196\n",
       "     行业     NaN     金融\n",
       "     雇员     NaN  36600"
      ]
     },
     "execution_count": 174,
     "metadata": {},
     "output_type": "execute_result"
    }
   ],
   "source": [
    "df.unstack(0).stack(0)\n",
    "# df被unstack(0)之后变成(行->列)\n",
    "# 行索引 = r2\n",
    "# 列索引 = [c,r1]\n",
    "# 再被stack(0)之后变成(列->行)\n",
    "# 行索引 = [r2,c]\n",
    "# 列索引 = r1\n",
    "# 重塑后的dataframe这时行索引有两层，第一层是代号，第二层是特征，而列索引只有一层(地区)"
   ]
  },
  {
   "cell_type": "markdown",
   "metadata": {},
   "source": [
    "# 5.1.3.4 基于层先unstack(1)再stack(0)"
   ]
  },
  {
   "cell_type": "code",
   "execution_count": 175,
   "metadata": {
    "ExecuteTime": {
     "end_time": "2019-08-08T15:04:28.646304Z",
     "start_time": "2019-08-08T15:04:28.604332Z"
    }
   },
   "outputs": [
    {
     "data": {
      "text/html": [
       "<div>\n",
       "<style scoped>\n",
       "    .dataframe tbody tr th:only-of-type {\n",
       "        vertical-align: middle;\n",
       "    }\n",
       "\n",
       "    .dataframe tbody tr th {\n",
       "        vertical-align: top;\n",
       "    }\n",
       "\n",
       "    .dataframe thead th {\n",
       "        text-align: right;\n",
       "    }\n",
       "</style>\n",
       "<table border=\"1\" class=\"dataframe\">\n",
       "  <thead>\n",
       "    <tr style=\"text-align: right;\">\n",
       "      <th></th>\n",
       "      <th>代号</th>\n",
       "      <th>BABA</th>\n",
       "      <th>GS</th>\n",
       "      <th>JD</th>\n",
       "      <th>MS</th>\n",
       "    </tr>\n",
       "    <tr>\n",
       "      <th>地区</th>\n",
       "      <th>特征</th>\n",
       "      <th></th>\n",
       "      <th></th>\n",
       "      <th></th>\n",
       "      <th></th>\n",
       "    </tr>\n",
       "  </thead>\n",
       "  <tbody>\n",
       "    <tr>\n",
       "      <th rowspan=\"3\" valign=\"top\">中国</th>\n",
       "      <th>价格</th>\n",
       "      <td>176.92</td>\n",
       "      <td>NaN</td>\n",
       "      <td>25.95</td>\n",
       "      <td>NaN</td>\n",
       "    </tr>\n",
       "    <tr>\n",
       "      <th>行业</th>\n",
       "      <td>电商</td>\n",
       "      <td>NaN</td>\n",
       "      <td>电商</td>\n",
       "      <td>NaN</td>\n",
       "    </tr>\n",
       "    <tr>\n",
       "      <th>雇员</th>\n",
       "      <td>101550</td>\n",
       "      <td>NaN</td>\n",
       "      <td>175336</td>\n",
       "      <td>NaN</td>\n",
       "    </tr>\n",
       "    <tr>\n",
       "      <th rowspan=\"3\" valign=\"top\">美国</th>\n",
       "      <th>价格</th>\n",
       "      <td>NaN</td>\n",
       "      <td>41.79</td>\n",
       "      <td>NaN</td>\n",
       "      <td>196</td>\n",
       "    </tr>\n",
       "    <tr>\n",
       "      <th>行业</th>\n",
       "      <td>NaN</td>\n",
       "      <td>金融</td>\n",
       "      <td>NaN</td>\n",
       "      <td>金融</td>\n",
       "    </tr>\n",
       "    <tr>\n",
       "      <th>雇员</th>\n",
       "      <td>NaN</td>\n",
       "      <td>60348</td>\n",
       "      <td>NaN</td>\n",
       "      <td>36600</td>\n",
       "    </tr>\n",
       "  </tbody>\n",
       "</table>\n",
       "</div>"
      ],
      "text/plain": [
       "代号       BABA     GS      JD     MS\n",
       "地区 特征                              \n",
       "中国 价格  176.92    NaN   25.95    NaN\n",
       "   行业      电商    NaN      电商    NaN\n",
       "   雇员  101550    NaN  175336    NaN\n",
       "美国 价格     NaN  41.79     NaN    196\n",
       "   行业     NaN     金融     NaN     金融\n",
       "   雇员     NaN  60348     NaN  36600"
      ]
     },
     "execution_count": 175,
     "metadata": {},
     "output_type": "execute_result"
    }
   ],
   "source": [
    "df.unstack(1).stack(0)\n",
    "# df被unstack(1)之后变成(行->列)\n",
    "# 行索引 = r1\n",
    "# 列索引 = [c,r2]\n",
    "# 再被stack(0)之后变成(列->行)\n",
    "# 行索引 = [r1,c]\n",
    "# 列索引 = r2\n",
    "# 重塑后的dataframe这时行索引有两层，第一层是地区，第二层是特征，而列索引只有一层(代号)"
   ]
  },
  {
   "cell_type": "markdown",
   "metadata": {},
   "source": [
    "# 5.1.3.5 基于层先unstack(1)再stack(1)"
   ]
  },
  {
   "cell_type": "code",
   "execution_count": 176,
   "metadata": {
    "ExecuteTime": {
     "end_time": "2019-08-08T15:07:39.598903Z",
     "start_time": "2019-08-08T15:07:39.564924Z"
    }
   },
   "outputs": [
    {
     "data": {
      "text/html": [
       "<div>\n",
       "<style scoped>\n",
       "    .dataframe tbody tr th:only-of-type {\n",
       "        vertical-align: middle;\n",
       "    }\n",
       "\n",
       "    .dataframe tbody tr th {\n",
       "        vertical-align: top;\n",
       "    }\n",
       "\n",
       "    .dataframe thead th {\n",
       "        text-align: right;\n",
       "    }\n",
       "</style>\n",
       "<table border=\"1\" class=\"dataframe\">\n",
       "  <thead>\n",
       "    <tr style=\"text-align: right;\">\n",
       "      <th></th>\n",
       "      <th>特征</th>\n",
       "      <th>行业</th>\n",
       "      <th>雇员</th>\n",
       "      <th>价格</th>\n",
       "    </tr>\n",
       "    <tr>\n",
       "      <th>地区</th>\n",
       "      <th>代号</th>\n",
       "      <th></th>\n",
       "      <th></th>\n",
       "      <th></th>\n",
       "    </tr>\n",
       "  </thead>\n",
       "  <tbody>\n",
       "    <tr>\n",
       "      <th rowspan=\"2\" valign=\"top\">中国</th>\n",
       "      <th>BABA</th>\n",
       "      <td>电商</td>\n",
       "      <td>101550.0</td>\n",
       "      <td>176.92</td>\n",
       "    </tr>\n",
       "    <tr>\n",
       "      <th>JD</th>\n",
       "      <td>电商</td>\n",
       "      <td>175336.0</td>\n",
       "      <td>25.95</td>\n",
       "    </tr>\n",
       "    <tr>\n",
       "      <th rowspan=\"2\" valign=\"top\">美国</th>\n",
       "      <th>GS</th>\n",
       "      <td>金融</td>\n",
       "      <td>60348.0</td>\n",
       "      <td>41.79</td>\n",
       "    </tr>\n",
       "    <tr>\n",
       "      <th>MS</th>\n",
       "      <td>金融</td>\n",
       "      <td>36600.0</td>\n",
       "      <td>196.00</td>\n",
       "    </tr>\n",
       "  </tbody>\n",
       "</table>\n",
       "</div>"
      ],
      "text/plain": [
       "特征       行业        雇员      价格\n",
       "地区 代号                        \n",
       "中国 BABA  电商  101550.0  176.92\n",
       "   JD    电商  175336.0   25.95\n",
       "美国 GS    金融   60348.0   41.79\n",
       "   MS    金融   36600.0  196.00"
      ]
     },
     "execution_count": 176,
     "metadata": {},
     "output_type": "execute_result"
    }
   ],
   "source": [
    "df.unstack(1).stack(1)\n",
    "# df被unstack(1)之后变成(行->列)\n",
    "# 行索引 = r1\n",
    "# 列索引 = [c,r2]\n",
    "# 再被stack(1)之后变成(列->行)\n",
    "# 行索引 = [r1,r2]\n",
    "# 列索引 = c\n",
    "# 重塑后的dataframe这时行索引有两层，第一层是地区，第二层是代号，而列索引只有一层(特征)"
   ]
  },
  {
   "cell_type": "markdown",
   "metadata": {},
   "source": [
    "# 5.1.3.6 基于层被stack()，没有填层数，默认为最后一层\n"
   ]
  },
  {
   "cell_type": "code",
   "execution_count": 177,
   "metadata": {
    "ExecuteTime": {
     "end_time": "2019-08-08T15:11:11.736326Z",
     "start_time": "2019-08-08T15:11:11.728330Z"
    }
   },
   "outputs": [
    {
     "data": {
      "text/plain": [
       "地区  代号    特征\n",
       "中国  BABA  行业        电商\n",
       "          雇员    101550\n",
       "          价格    176.92\n",
       "    JD    行业        电商\n",
       "          雇员    175336\n",
       "          价格     25.95\n",
       "美国  GS    行业        金融\n",
       "          雇员     60348\n",
       "          价格     41.79\n",
       "    MS    行业        金融\n",
       "          雇员     36600\n",
       "          价格       196\n",
       "dtype: object"
      ]
     },
     "execution_count": 177,
     "metadata": {},
     "output_type": "execute_result"
    }
   ],
   "source": [
    "df.stack()\n",
    "# df被stack()之后变成(列->行)\n",
    "# 行索引 = [r1,r2,c]\n",
    "# 列索引 = []\n",
    "# 重塑后的series这时行索引有三层，第一层是地区，第二层是代号，第三层是特征"
   ]
  },
  {
   "cell_type": "markdown",
   "metadata": {},
   "source": [
    "# 5.1.3.7 基于层被unstack()两次，没有填层数，默认为最后一层"
   ]
  },
  {
   "cell_type": "code",
   "execution_count": 178,
   "metadata": {
    "ExecuteTime": {
     "end_time": "2019-08-08T15:15:49.612852Z",
     "start_time": "2019-08-08T15:15:49.593864Z"
    }
   },
   "outputs": [
    {
     "data": {
      "text/plain": [
       "特征  代号    地区\n",
       "行业  BABA  中国        电商\n",
       "          美国       NaN\n",
       "    JD    中国        电商\n",
       "          美国       NaN\n",
       "    GS    中国       NaN\n",
       "          美国        金融\n",
       "    MS    中国       NaN\n",
       "          美国        金融\n",
       "雇员  BABA  中国    101550\n",
       "          美国       NaN\n",
       "    JD    中国    175336\n",
       "          美国       NaN\n",
       "    GS    中国       NaN\n",
       "          美国     60348\n",
       "    MS    中国       NaN\n",
       "          美国     36600\n",
       "价格  BABA  中国    176.92\n",
       "          美国       NaN\n",
       "    JD    中国     25.95\n",
       "          美国       NaN\n",
       "    GS    中国       NaN\n",
       "          美国     41.79\n",
       "    MS    中国       NaN\n",
       "          美国       196\n",
       "dtype: object"
      ]
     },
     "execution_count": 178,
     "metadata": {},
     "output_type": "execute_result"
    }
   ],
   "source": [
    "df.unstack().unstack()\n",
    "# df被unstack(0之后变成(行->列)\n",
    "# 行索引 = r1\n",
    "# 列索引 = [c,r2]\n",
    "# 再被unstack()之后变成(行->列)\n",
    "# 行索引 = []\n",
    "# 列索引 = [c,r2,r1]\n",
    "# 重塑后的series这时列索引有三层，第一层是特征，第二层是代号，第三层是地区"
   ]
  },
  {
   "cell_type": "markdown",
   "metadata": {},
   "source": [
    "# 5.2 透视"
   ]
  },
  {
   "cell_type": "code",
   "execution_count": 180,
   "metadata": {
    "ExecuteTime": {
     "end_time": "2019-08-09T14:48:28.765151Z",
     "start_time": "2019-08-09T14:48:28.761152Z"
    },
    "collapsed": true
   },
   "outputs": [],
   "source": [
    "# 数据源表通常只包含行和列，那么经常有重复值出现在各列下，因而导致源表不能\n",
    "# 传递有价值的信息。这时可以用透视方法调整源表的布局用作更清晰的展示\n",
    "# pandas里透视表有两种方法：\n",
    "# 用pivot函数将一张长表变多张宽表\n",
    "# 用melt函数将多张宽表变一张长表"
   ]
  },
  {
   "cell_type": "code",
   "execution_count": null,
   "metadata": {
    "collapsed": true
   },
   "outputs": [],
   "source": []
  }
 ],
 "metadata": {
  "anaconda-cloud": {},
  "kernelspec": {
   "display_name": "py3.6",
   "language": "python",
   "name": "py3.6"
  },
  "language_info": {
   "codemirror_mode": {
    "name": "ipython",
    "version": 3
   },
   "file_extension": ".py",
   "mimetype": "text/x-python",
   "name": "python",
   "nbconvert_exporter": "python",
   "pygments_lexer": "ipython3",
   "version": "3.6.8"
  },
  "toc": {
   "base_numbering": 1,
   "nav_menu": {},
   "number_sections": false,
   "sideBar": true,
   "skip_h1_title": false,
   "title_cell": "Table of Contents",
   "title_sidebar": "Contents",
   "toc_cell": false,
   "toc_position": {
    "height": "747px",
    "left": "810px",
    "top": "88px",
    "width": "202px"
   },
   "toc_section_display": true,
   "toc_window_display": true
  },
  "varInspector": {
   "cols": {
    "lenName": 16,
    "lenType": 16,
    "lenVar": 40
   },
   "kernels_config": {
    "python": {
     "delete_cmd_postfix": "",
     "delete_cmd_prefix": "del ",
     "library": "var_list.py",
     "varRefreshCmd": "print(var_dic_list())"
    },
    "r": {
     "delete_cmd_postfix": ") ",
     "delete_cmd_prefix": "rm(",
     "library": "var_list.r",
     "varRefreshCmd": "cat(var_dic_list()) "
    }
   },
   "types_to_exclude": [
    "module",
    "function",
    "builtin_function_or_method",
    "instance",
    "_Feature"
   ],
   "window_display": false
  }
 },
 "nbformat": 4,
 "nbformat_minor": 1
}
