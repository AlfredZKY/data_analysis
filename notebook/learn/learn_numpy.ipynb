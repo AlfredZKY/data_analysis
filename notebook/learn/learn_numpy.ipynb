{
 "cells": [
  {
   "cell_type": "markdown",
   "metadata": {
    "collapsed": true
   },
   "source": [
    "# 1.numpy是Python专门处理高维数组的计算的包"
   ]
  },
  {
   "cell_type": "code",
   "execution_count": 62,
   "metadata": {
    "ExecuteTime": {
     "end_time": "2019-07-08T12:28:12.180862Z",
     "start_time": "2019-07-08T12:28:12.176864Z"
    },
    "collapsed": true
   },
   "outputs": [],
   "source": [
    "import numpy as np"
   ]
  },
  {
   "cell_type": "markdown",
   "metadata": {},
   "source": [
    "# 1.1 numpy和list之间计算效率对比"
   ]
  },
  {
   "cell_type": "code",
   "execution_count": 4,
   "metadata": {
    "ExecuteTime": {
     "end_time": "2019-06-30T13:17:39.834777Z",
     "start_time": "2019-06-30T13:17:39.828780Z"
    },
    "collapsed": true
   },
   "outputs": [],
   "source": [
    "my_arr = np.arange(1000000)"
   ]
  },
  {
   "cell_type": "code",
   "execution_count": 5,
   "metadata": {
    "ExecuteTime": {
     "end_time": "2019-06-30T13:17:41.825689Z",
     "start_time": "2019-06-30T13:17:41.770724Z"
    },
    "collapsed": true
   },
   "outputs": [],
   "source": [
    "my_list = list(range(1000000))"
   ]
  },
  {
   "cell_type": "code",
   "execution_count": 6,
   "metadata": {
    "ExecuteTime": {
     "end_time": "2019-06-30T13:19:29.651035Z",
     "start_time": "2019-06-30T13:19:29.608063Z"
    }
   },
   "outputs": [
    {
     "name": "stdout",
     "output_type": "stream",
     "text": [
      "Wall time: 37 ms\n"
     ]
    }
   ],
   "source": [
    "%time for _ in range(10): my_arr2 = my_arr * 2"
   ]
  },
  {
   "cell_type": "code",
   "execution_count": 7,
   "metadata": {
    "ExecuteTime": {
     "end_time": "2019-06-30T13:20:16.736675Z",
     "start_time": "2019-06-30T13:20:15.487448Z"
    }
   },
   "outputs": [
    {
     "name": "stdout",
     "output_type": "stream",
     "text": [
      "Wall time: 1.24 s\n"
     ]
    }
   ],
   "source": [
    "%time for _ in range(10): my_list2 = [x*2 for x in my_list]"
   ]
  },
  {
   "cell_type": "markdown",
   "metadata": {},
   "source": [
    "# 2数组的创建\n",
    "# note: axis中文叫轴，一个数组有多少维度就有多少根轴，由于Python计数都是从0开始的那么\n",
    "# 第1维度 = axis 0\n",
    "# 第2维度 = axis 1\n",
    "# 第3维度 = axis 2"
   ]
  },
  {
   "cell_type": "markdown",
   "metadata": {},
   "source": [
    "# 2.1.1按步就班的 np.array() 用在列表和元组上 "
   ]
  },
  {
   "cell_type": "code",
   "execution_count": 10,
   "metadata": {
    "ExecuteTime": {
     "end_time": "2019-06-30T13:57:40.662564Z",
     "start_time": "2019-06-30T13:57:40.657567Z"
    }
   },
   "outputs": [
    {
     "name": "stdout",
     "output_type": "stream",
     "text": [
      "[1.  2.  3.  4.5 5. ]\n",
      "[1.  2.  3.  4.5 5. ]\n"
     ]
    }
   ],
   "source": [
    "l = [1,2,3,4.5,5]\n",
    "print(np.array(l))\n",
    "t = (1,2,3,4.5,5)\n",
    "print(np.array(t))"
   ]
  },
  {
   "cell_type": "markdown",
   "metadata": {},
   "source": [
    "# 2.1.2定隔定点的 np.arange() 和 np.linspace()\n",
    "# 定隔的arange:固定元素的大小间隔\n",
    "# 定点的linspace:固定元素个数"
   ]
  },
  {
   "cell_type": "code",
   "execution_count": 17,
   "metadata": {
    "ExecuteTime": {
     "end_time": "2019-06-30T14:03:43.974237Z",
     "start_time": "2019-06-30T14:03:43.968240Z"
    }
   },
   "outputs": [
    {
     "name": "stdout",
     "output_type": "stream",
     "text": [
      "[0 1 2 3 4 5 6 7]\n",
      "[2 3 4 5 6 7]\n",
      "[2 6]\n",
      "[2. 4. 6.]\n",
      "[3.  3.5 4.  4.5 5.  5.5 6.  6.5 7.  7.5 8. ]\n"
     ]
    }
   ],
   "source": [
    "print(np.arange(8))\n",
    "print(np.arange(2,8))\n",
    "print(np.arange(2,8,4))\n",
    "print(np.linspace(2,6,3))\n",
    "print(np.linspace(3,8,11))"
   ]
  },
  {
   "cell_type": "markdown",
   "metadata": {},
   "source": [
    "# 2.1.3一步登天的 np.ones(), np.zeros(), np.eye() 和 np.random.random()m"
   ]
  },
  {
   "cell_type": "code",
   "execution_count": 18,
   "metadata": {
    "ExecuteTime": {
     "end_time": "2019-06-30T14:05:35.750832Z",
     "start_time": "2019-06-30T14:05:35.747834Z"
    },
    "code_folding": [
     0
    ],
    "collapsed": true
   },
   "outputs": [],
   "source": [
    "# 用 zeros() 创建全是 0 的 n 维数组\n",
    "# 用 ones() 创建全是 1 的 n 维数组\n",
    "# 用 random() 创建随机 n 维数组\n",
    "# 用 eye() 创建对角矩阵 (二维数组)\n",
    "# 此外还可以设定 eye() 里面的参数 k\n",
    "# 默认设置 k = 0 代表 1 落在对角线上\n",
    "# k = 1 代表 1 落在对角线右上方\n",
    "# k = -1 代表 1 落在对角线左下方"
   ]
  },
  {
   "cell_type": "code",
   "execution_count": 21,
   "metadata": {
    "ExecuteTime": {
     "end_time": "2019-06-30T14:07:47.871127Z",
     "start_time": "2019-06-30T14:07:47.865130Z"
    }
   },
   "outputs": [
    {
     "name": "stdout",
     "output_type": "stream",
     "text": [
      "[0. 0. 0. 0. 0.]\n",
      "[[1. 1. 1.]\n",
      " [1. 1. 1.]]\n",
      "[[[3.19235743e-01 1.59386837e-01 6.82776827e-01 6.78988956e-01]\n",
      "  [8.59476437e-01 2.82359306e-01 2.47867344e-01 1.70501983e-01]\n",
      "  [9.06895786e-01 6.47156652e-01 4.07506001e-01 8.82378236e-01]]\n",
      "\n",
      " [[8.75757130e-01 6.97220466e-01 4.52514482e-01 2.95754026e-01]\n",
      "  [6.46259047e-02 8.40486529e-01 5.51208147e-01 8.96333710e-01]\n",
      "  [1.96479938e-01 6.38517126e-01 1.21884527e-04 4.36265326e-02]]]\n",
      "[[1. 0. 0. 0.]\n",
      " [0. 1. 0. 0.]\n",
      " [0. 0. 1. 0.]\n",
      " [0. 0. 0. 1.]]\n"
     ]
    }
   ],
   "source": [
    "print(np.zeros(5))\n",
    "print(np.ones((2,3)))\n",
    "print(np.random.random((2,3,4)))\n",
    "print(np.eye(4))"
   ]
  },
  {
   "cell_type": "markdown",
   "metadata": {
    "ExecuteTime": {
     "end_time": "2019-06-30T14:08:50.555616Z",
     "start_time": "2019-06-30T14:08:50.552615Z"
    }
   },
   "source": [
    "# 2.2 数组的性质"
   ]
  },
  {
   "cell_type": "code",
   "execution_count": 23,
   "metadata": {
    "ExecuteTime": {
     "end_time": "2019-06-30T14:09:27.549430Z",
     "start_time": "2019-06-30T14:09:27.543434Z"
    }
   },
   "outputs": [
    {
     "name": "stdout",
     "output_type": "stream",
     "text": [
      "The type is <class 'numpy.ndarray'>\n",
      "The dimension is 1\n",
      "The length of array is 5\n",
      "The number of elements is 5\n",
      "The shape of array is (5,)\n",
      "The stride of array is (8,)\n",
      "The type of elements is float64\n"
     ]
    }
   ],
   "source": [
    "arr = np.array([3.5, 5, 2, 8, 4.2])\n",
    "print( 'The type is', type(arr) )\n",
    "print( 'The dimension is', arr.ndim )\n",
    "print( 'The length of array is', len(arr) )\n",
    "print( 'The number of elements is', arr.size )\n",
    "print( 'The shape of array is', arr.shape )\n",
    "print( 'The stride of array is', arr.strides )\n",
    "print( 'The type of elements is', arr.dtype )"
   ]
  },
  {
   "cell_type": "code",
   "execution_count": 24,
   "metadata": {
    "ExecuteTime": {
     "end_time": "2019-06-30T14:11:57.486954Z",
     "start_time": "2019-06-30T14:11:57.481956Z"
    }
   },
   "outputs": [
    {
     "name": "stdout",
     "output_type": "stream",
     "text": [
      "The type is <class 'numpy.ndarray'>\n",
      "The dimension is 2\n",
      "The length of array is 2\n",
      "The number of elements is 6\n",
      "The shape of array is (2, 3)\n",
      "The stride of array is (12, 4)\n",
      "The type of elements is int32\n"
     ]
    }
   ],
   "source": [
    "arr = np.array([[1,2,3],[4,5,6]])\n",
    "print( 'The type is', type(arr) )\n",
    "print( 'The dimension is', arr.ndim )\n",
    "print( 'The length of array is', len(arr) )\n",
    "print( 'The number of elements is', arr.size )\n",
    "print( 'The shape of array is', arr.shape )\n",
    "print( 'The stride of array is', arr.strides )\n",
    "print( 'The type of elements is', arr.dtype )"
   ]
  },
  {
   "cell_type": "code",
   "execution_count": 27,
   "metadata": {
    "ExecuteTime": {
     "end_time": "2019-06-30T14:25:16.264978Z",
     "start_time": "2019-06-30T14:25:16.258983Z"
    }
   },
   "outputs": [
    {
     "name": "stdout",
     "output_type": "stream",
     "text": [
      "The type is <class 'numpy.ndarray'>\n",
      "The dimension is 4\n",
      "The length of array is 2\n",
      "The number of elements is 24\n",
      "The shape of array is (2, 2, 2, 3)\n",
      "The stride of array is (96, 48, 24, 8)\n",
      "The type of elements is float64\n",
      "[[[[0.85920785 0.54961838 0.2111619 ]\n",
      "   [0.45980286 0.77532659 0.75954267]]\n",
      "\n",
      "  [[0.32287896 0.95049659 0.7930776 ]\n",
      "   [0.24083319 0.2729313  0.76602773]]]\n",
      "\n",
      "\n",
      " [[[0.78610683 0.83242485 0.12598338]\n",
      "   [0.16764765 0.16377873 0.40178944]]\n",
      "\n",
      "  [[0.21869895 0.59223852 0.96617342]\n",
      "   [0.36467743 0.20980215 0.42601889]]]]\n"
     ]
    }
   ],
   "source": [
    "arr4d = np.random.random( (2,2,2,3) )\n",
    "print( 'The type is', type(arr4d) )\n",
    "print( 'The dimension is', arr4d.ndim )\n",
    "print( 'The length of array is', len(arr4d) )\n",
    "print( 'The number of elements is', arr4d.size )\n",
    "print( 'The shape of array is', arr4d.shape )\n",
    "print( 'The stride of array is', arr4d.strides )\n",
    "print( 'The type of elements is', arr4d.dtype )\n",
    "print(arr4d)"
   ]
  },
  {
   "cell_type": "markdown",
   "metadata": {
    "ExecuteTime": {
     "end_time": "2019-06-30T14:23:27.373915Z",
     "start_time": "2019-06-30T14:23:27.369917Z"
    }
   },
   "source": [
    "# 3数组的存载"
   ]
  },
  {
   "cell_type": "code",
   "execution_count": 29,
   "metadata": {
    "ExecuteTime": {
     "end_time": "2019-06-30T14:37:36.028382Z",
     "start_time": "2019-06-30T14:37:36.021387Z"
    }
   },
   "outputs": [
    {
     "data": {
      "text/plain": [
       "array([0, 1, 2, 3, 4, 5, 6, 7])"
      ]
     },
     "execution_count": 29,
     "metadata": {},
     "output_type": "execute_result"
    }
   ],
   "source": [
    "arr_disk = np.arange(8)\n",
    "np.save('arr_disk',arr_disk)\n",
    "arr_disk"
   ]
  },
  {
   "cell_type": "code",
   "execution_count": 30,
   "metadata": {
    "ExecuteTime": {
     "end_time": "2019-06-30T14:39:09.212471Z",
     "start_time": "2019-06-30T14:39:09.204476Z"
    }
   },
   "outputs": [
    {
     "data": {
      "text/plain": [
       "array([0, 1, 2, 3, 4, 5, 6, 7])"
      ]
     },
     "execution_count": 30,
     "metadata": {},
     "output_type": "execute_result"
    }
   ],
   "source": [
    "np.load(\"arr_disk.npy\")"
   ]
  },
  {
   "cell_type": "markdown",
   "metadata": {},
   "source": [
    "# 4.数组的获取"
   ]
  },
  {
   "cell_type": "markdown",
   "metadata": {},
   "source": [
    "# 4.1 切片，一个视图修改切片会改变原数组"
   ]
  },
  {
   "cell_type": "markdown",
   "metadata": {},
   "source": [
    "# 4.2 索引，一个复制，不会改变原数组"
   ]
  },
  {
   "cell_type": "code",
   "execution_count": 33,
   "metadata": {
    "ExecuteTime": {
     "end_time": "2019-06-30T14:44:14.223663Z",
     "start_time": "2019-06-30T14:44:14.218667Z"
    }
   },
   "outputs": [
    {
     "data": {
      "text/plain": [
       "array([0, 1, 2, 3, 4, 5, 6, 7])"
      ]
     },
     "execution_count": 33,
     "metadata": {},
     "output_type": "execute_result"
    }
   ],
   "source": [
    "arr = np.arange(8)\n",
    "a = arr[6]\n",
    "a = 100\n",
    "arr"
   ]
  },
  {
   "cell_type": "code",
   "execution_count": 38,
   "metadata": {
    "ExecuteTime": {
     "end_time": "2019-06-30T14:45:52.415914Z",
     "start_time": "2019-06-30T14:45:52.410917Z"
    }
   },
   "outputs": [
    {
     "name": "stdout",
     "output_type": "stream",
     "text": [
      "3\n",
      "7\n"
     ]
    },
    {
     "data": {
      "text/plain": [
       "array([ 0,  1,  2,  3,  4,  5, 12,  7])"
      ]
     },
     "execution_count": 38,
     "metadata": {},
     "output_type": "execute_result"
    }
   ],
   "source": [
    "b = arr[5:8]\n",
    "print(len(b))\n",
    "print(b[2])\n",
    "b[1] = 12\n",
    "arr"
   ]
  },
  {
   "cell_type": "code",
   "execution_count": 56,
   "metadata": {
    "ExecuteTime": {
     "end_time": "2019-06-30T14:53:40.200399Z",
     "start_time": "2019-06-30T14:53:40.195400Z"
    }
   },
   "outputs": [
    {
     "data": {
      "text/plain": [
       "array([[0, 1, 2],\n",
       "       [3, 4, 5],\n",
       "       [6, 7, 8]])"
      ]
     },
     "execution_count": 56,
     "metadata": {},
     "output_type": "execute_result"
    }
   ],
   "source": [
    "arr2d = np.arange(9).reshape((3,3))\n",
    "arr2d"
   ]
  },
  {
   "cell_type": "code",
   "execution_count": 45,
   "metadata": {
    "ExecuteTime": {
     "end_time": "2019-06-30T14:49:02.546806Z",
     "start_time": "2019-06-30T14:49:02.541810Z"
    }
   },
   "outputs": [
    {
     "data": {
      "text/plain": [
       "8"
      ]
     },
     "execution_count": 45,
     "metadata": {},
     "output_type": "execute_result"
    }
   ],
   "source": [
    "arr2d[2][2]"
   ]
  },
  {
   "cell_type": "code",
   "execution_count": 46,
   "metadata": {
    "ExecuteTime": {
     "end_time": "2019-06-30T14:49:28.576604Z",
     "start_time": "2019-06-30T14:49:28.571608Z"
    }
   },
   "outputs": [
    {
     "data": {
      "text/plain": [
       "array([[0, 1, 2],\n",
       "       [3, 4, 5]])"
      ]
     },
     "execution_count": 46,
     "metadata": {},
     "output_type": "execute_result"
    }
   ],
   "source": [
    "arr2d[:2]"
   ]
  },
  {
   "cell_type": "code",
   "execution_count": 49,
   "metadata": {
    "ExecuteTime": {
     "end_time": "2019-06-30T14:50:26.391755Z",
     "start_time": "2019-06-30T14:50:26.385759Z"
    }
   },
   "outputs": [
    {
     "data": {
      "text/plain": [
       "array([[0, 2],\n",
       "       [3, 5],\n",
       "       [6, 8]])"
      ]
     },
     "execution_count": 49,
     "metadata": {},
     "output_type": "execute_result"
    }
   ],
   "source": [
    "arr2d[:,[0,2]]"
   ]
  },
  {
   "cell_type": "code",
   "execution_count": 51,
   "metadata": {
    "ExecuteTime": {
     "end_time": "2019-06-30T14:51:30.768469Z",
     "start_time": "2019-06-30T14:51:30.763471Z"
    }
   },
   "outputs": [
    {
     "data": {
      "text/plain": [
       "array([3, 4])"
      ]
     },
     "execution_count": 51,
     "metadata": {},
     "output_type": "execute_result"
    }
   ],
   "source": [
    "arr2d[1,:2]"
   ]
  },
  {
   "cell_type": "code",
   "execution_count": 57,
   "metadata": {
    "ExecuteTime": {
     "end_time": "2019-06-30T14:54:07.441091Z",
     "start_time": "2019-06-30T14:54:07.436094Z"
    }
   },
   "outputs": [
    {
     "data": {
      "text/plain": [
       "array([2, 5])"
      ]
     },
     "execution_count": 57,
     "metadata": {},
     "output_type": "execute_result"
    }
   ],
   "source": [
    "arr2d[:2,2]"
   ]
  },
  {
   "cell_type": "markdown",
   "metadata": {},
   "source": [
    "# 5 数组的变形"
   ]
  },
  {
   "cell_type": "code",
   "execution_count": 58,
   "metadata": {
    "ExecuteTime": {
     "end_time": "2019-07-08T12:26:05.278097Z",
     "start_time": "2019-07-08T12:26:05.270100Z"
    },
    "collapsed": true
   },
   "outputs": [],
   "source": [
    "#1.重塑(reshape)和打平(ravel,flatten)\n",
    "#2.合并(concatenate)和分裂(split)\n",
    "#3.重复(repeat)和拼接(tile)\n",
    "#4.其他操作(sort,insert,delete,copy)"
   ]
  },
  {
   "cell_type": "markdown",
   "metadata": {
    "ExecuteTime": {
     "end_time": "2019-07-08T12:26:57.131978Z",
     "start_time": "2019-07-08T12:26:57.128980Z"
    }
   },
   "source": [
    "# 5.1重塑和打平这两个操纵只是改变数组的维度"
   ]
  },
  {
   "cell_type": "code",
   "execution_count": 61,
   "metadata": {
    "ExecuteTime": {
     "end_time": "2019-07-08T12:27:57.561563Z",
     "start_time": "2019-07-08T12:27:57.558566Z"
    },
    "collapsed": true
   },
   "outputs": [],
   "source": [
    "# 重塑是从低维到高维\n",
    "# 打平是从高维到低维"
   ]
  },
  {
   "cell_type": "code",
   "execution_count": 64,
   "metadata": {
    "ExecuteTime": {
     "end_time": "2019-07-08T12:33:20.576846Z",
     "start_time": "2019-07-08T12:33:20.570850Z"
    }
   },
   "outputs": [
    {
     "name": "stdout",
     "output_type": "stream",
     "text": [
      "[ 0  1  2  3  4  5  6  7  8  9 10 11]\n",
      "[[ 0  1  2]\n",
      " [ 3  4  5]\n",
      " [ 6  7  8]\n",
      " [ 9 10 11]]\n",
      "[[ 0  1  2  3]\n",
      " [ 4  5  6  7]\n",
      " [ 8  9 10 11]]\n"
     ]
    }
   ],
   "source": [
    "# 不想花时间计算时，可用-1代替，(3,-1)(4,-1)\n",
    "arr = np.arange(12)\n",
    "print(arr)\n",
    "print(arr.reshape((4,3)))\n",
    "print(arr.reshape((3,4)))"
   ]
  },
  {
   "cell_type": "code",
   "execution_count": 67,
   "metadata": {
    "ExecuteTime": {
     "end_time": "2019-07-08T12:36:50.195012Z",
     "start_time": "2019-07-08T12:36:50.189016Z"
    }
   },
   "outputs": [
    {
     "name": "stdout",
     "output_type": "stream",
     "text": [
      "[[ 0  1  2]\n",
      " [ 3  4  5]\n",
      " [ 6  7  8]\n",
      " [ 9 10 11]]\n",
      "[ 0  1  2  3  4  5  6  7  8  9 10 11]\n",
      "[ 0  1  2  3  4  5  6  7  8  9 10 11]\n"
     ]
    }
   ],
   "source": [
    "# 打平用ravel或flatten,将高维数组降低一维\n",
    "# ravel会改变原数组\n",
    "# flatten不会改变原数组\n",
    "arr = np.arange(12).reshape(4,-1)\n",
    "print(arr)\n",
    "ravel_arr = arr.ravel()\n",
    "print(ravel_arr)\n",
    "flatten_arr = arr.flatten()\n",
    "print(flatten_arr)"
   ]
  },
  {
   "cell_type": "markdown",
   "metadata": {},
   "source": [
    "# 5.2合并和分裂"
   ]
  },
  {
   "cell_type": "code",
   "execution_count": 69,
   "metadata": {
    "ExecuteTime": {
     "end_time": "2019-07-08T12:43:53.299947Z",
     "start_time": "2019-07-08T12:43:53.295951Z"
    },
    "collapsed": true
   },
   "outputs": [],
   "source": [
    "# 合并和分裂这两个操作仅仅改变数组的分合\n",
    "# 合并是多合一\n",
    "# 分裂是一分多"
   ]
  },
  {
   "cell_type": "code",
   "execution_count": 76,
   "metadata": {
    "ExecuteTime": {
     "end_time": "2019-07-08T12:49:38.321287Z",
     "start_time": "2019-07-08T12:49:38.315291Z"
    }
   },
   "outputs": [
    {
     "name": "stdout",
     "output_type": "stream",
     "text": [
      "[[ 1  2  3]\n",
      " [ 4  5  6]\n",
      " [ 7  8  9]\n",
      " [10 11 12]]\n",
      "[[ 1  2  3  7  8  9]\n",
      " [ 4  5  6 10 11 12]]\n"
     ]
    }
   ],
   "source": [
    "# 1 通用的concatenate,效率可能不高\n",
    "# 2 有专门的vstack,hstack,dstack\n",
    "# 3 极简的r_ ,c_\n",
    "arr1 = np.array([[1,2,3],[4,5,6]])\n",
    "arr2 = np.array([[7,8,9],[10,11,12]])\n",
    "print(np.concatenate([arr1,arr2],axis=0))\n",
    "print(np.concatenate([arr1,arr2],axis=1))"
   ]
  },
  {
   "cell_type": "code",
   "execution_count": 80,
   "metadata": {
    "ExecuteTime": {
     "end_time": "2019-07-08T12:51:45.510510Z",
     "start_time": "2019-07-08T12:51:45.505511Z"
    }
   },
   "outputs": [
    {
     "name": "stdout",
     "output_type": "stream",
     "text": [
      "[[ 1  2  3]\n",
      " [ 4  5  6]\n",
      " [ 7  8  9]\n",
      " [10 11 12]]\n",
      "[[ 1  2  3  7  8  9]\n",
      " [ 4  5  6 10 11 12]]\n",
      "(2, 3, 2)\n"
     ]
    }
   ],
   "source": [
    "print(np.vstack((arr1,arr2)))\n",
    "print(np.hstack((arr1,arr2)))\n",
    "# 按深度合并,维度增加一维\n",
    "print(np.dstack((arr1,arr2)).shape)"
   ]
  },
  {
   "cell_type": "code",
   "execution_count": 81,
   "metadata": {
    "ExecuteTime": {
     "end_time": "2019-07-08T12:56:18.918692Z",
     "start_time": "2019-07-08T12:56:18.915692Z"
    },
    "code_folding": [
     0
    ],
    "collapsed": true
   },
   "outputs": [],
   "source": [
    "# r_,c_ \n",
    "# 1.参数可以是切片\n",
    "# 2.第一个参数可以使控制参数，'r'或'c'生成线代的matrix\n",
    "# 3.第一个参数是控制参数，如果是'a,b,c'\n",
    "# a代表轴，按a轴合并\n",
    "# b合并后维度至少是b\n",
    "# 在第c维上做维度提升"
   ]
  },
  {
   "cell_type": "code",
   "execution_count": 85,
   "metadata": {
    "ExecuteTime": {
     "end_time": "2019-07-08T12:58:58.405069Z",
     "start_time": "2019-07-08T12:58:58.399073Z"
    }
   },
   "outputs": [
    {
     "name": "stdout",
     "output_type": "stream",
     "text": [
      "[[1]\n",
      " [2]\n",
      " [3]\n",
      " [4]\n",
      " [5]\n",
      " [6]]\n",
      "[[1 2 3]\n",
      " [4 5 6]]\n",
      "[[1 4]\n",
      " [2 5]\n",
      " [3 6]]\n",
      "[[1 2 3 4 5 6]]\n"
     ]
    }
   ],
   "source": [
    "# 字符串 ‘a,b,c’ 总共有四类，分别是\n",
    "# '0, 2, 0'\n",
    "# '0, 2, 1'\n",
    "# '1, 2, 0'\n",
    "# '1, 2, 1'\n",
    "# 函数里两个数组 [1,2,3], [4,5,6] 都是一维\n",
    "# c = 0 代表在「轴 0」上升一维，因此得到 [[1],[2],[3]] 和 [[4],[5],[6]] \n",
    "# c = 1 代表在「轴 1」上升一维，因此得到 [[1,2,3]] 和 [[4,5,6]]\n",
    "# 接下来如何合并就看 a 的值了\n",
    "# a = 0, 沿着「轴 0」合并\n",
    "# a = 1, 沿着「轴 1」合并\n",
    "print(np.r_['0,2,0',[1,2,3],[4,5,6]])\n",
    "print(np.r_['0,2,1',[1,2,3],[4,5,6]])\n",
    "print(np.r_['1,2,0',[1,2,3],[4,5,6]])\n",
    "print(np.r_['1,2,1',[1,2,3],[4,5,6]])"
   ]
  },
  {
   "cell_type": "code",
   "execution_count": 96,
   "metadata": {
    "ExecuteTime": {
     "end_time": "2019-07-08T13:42:30.229219Z",
     "start_time": "2019-07-08T13:42:30.223224Z"
    }
   },
   "outputs": [
    {
     "name": "stdout",
     "output_type": "stream",
     "text": [
      "[[ 0  1  2  3  4]\n",
      " [ 5  6  7  8  9]\n",
      " [10 11 12 13 14]\n",
      " [15 16 17 18 19]\n",
      " [20 21 22 23 24]]\n",
      "the first split is [[0 1 2 3 4]]\n",
      "the second split is [[ 5  6  7  8  9]\n",
      " [10 11 12 13 14]]\n",
      "the third split is [[15 16 17 18 19]\n",
      " [20 21 22 23 24]]\n"
     ]
    }
   ],
   "source": [
    "# 分裂\n",
    "# 1.通用的split\n",
    "# 2.专门的hsplit,vsplit\n",
    "arr = np.arange(25).reshape((5,-1))\n",
    "print(arr)\n",
    "\n",
    "# split() 默认沿着轴 0 分裂，其第二个参数 [1, 3] 相当于是个切片操作，将数组分成三部分：\n",
    "# 第一部分 - :1 (即第 1 行)\n",
    "# 第二部分 - 1:3 (即第 2 到 3 行)\n",
    "# 第二部分 - 3:  (即第 4 到 5 行)\n",
    "first,second,third = np.split(arr,[1,3])\n",
    "print('the first split is',first)\n",
    "print('the second split is',second)\n",
    "print('the third split is',third)"
   ]
  },
  {
   "cell_type": "code",
   "execution_count": 101,
   "metadata": {
    "ExecuteTime": {
     "end_time": "2019-07-08T13:42:36.597435Z",
     "start_time": "2019-07-08T13:42:36.592438Z"
    }
   },
   "outputs": [
    {
     "name": "stdout",
     "output_type": "stream",
     "text": [
      "the first split is [[ 0]\n",
      " [ 5]\n",
      " [10]\n",
      " [15]\n",
      " [20]]\n",
      "the second split is [[ 1  2]\n",
      " [ 6  7]\n",
      " [11 12]\n",
      " [16 17]\n",
      " [21 22]]\n",
      "the third split is [[ 3  4]\n",
      " [ 8  9]\n",
      " [13 14]\n",
      " [18 19]\n",
      " [23 24]]\n"
     ]
    }
   ],
   "source": [
    "first,second,third = np.hsplit(arr,[1,3])\n",
    "print('the first split is',first)\n",
    "print('the second split is',second)\n",
    "print('the third split is',third)"
   ]
  },
  {
   "cell_type": "markdown",
   "metadata": {},
   "source": [
    "# 5.3 重复和拼接"
   ]
  },
  {
   "cell_type": "code",
   "execution_count": 110,
   "metadata": {
    "ExecuteTime": {
     "end_time": "2019-07-08T13:50:36.235542Z",
     "start_time": "2019-07-08T13:50:36.229546Z"
    }
   },
   "outputs": [
    {
     "name": "stdout",
     "output_type": "stream",
     "text": [
      "[0 1 2]\n",
      "[0 0 0 1 1 1 2 2 2]\n",
      "[0 1 1 1 2 2]\n"
     ]
    }
   ],
   "source": [
    "# 重复几种参数的设定方法\n",
    "# 一位数组：标量和列表来复制元素的个数\n",
    "# 多维数组：用标量和列表来复制元素的个数，用轴来控制复制的列和行\n",
    "arr = np.arange(3)\n",
    "print(arr)\n",
    "# 标量\n",
    "print(arr.repeat(3))\n",
    "# 列表\n",
    "print(arr.repeat([1,3,2]))"
   ]
  },
  {
   "cell_type": "code",
   "execution_count": 115,
   "metadata": {
    "ExecuteTime": {
     "end_time": "2019-07-08T13:53:24.541771Z",
     "start_time": "2019-07-08T13:53:24.535775Z"
    }
   },
   "outputs": [
    {
     "name": "stdout",
     "output_type": "stream",
     "text": [
      "[[0 1 2]\n",
      " [3 4 5]]\n",
      "[[0 1 2]\n",
      " [0 1 2]\n",
      " [0 1 2]\n",
      " [3 4 5]\n",
      " [3 4 5]\n",
      " [3 4 5]]\n",
      "[[0 0 0 1 1 1 2 2 2]\n",
      " [3 3 3 4 4 4 5 5 5]]\n",
      "[[0 0 1 1 1 2 2 2 2]\n",
      " [3 3 4 4 4 5 5 5 5]]\n"
     ]
    }
   ],
   "source": [
    "# 标量和轴\n",
    "arr2d = np.arange(6).reshape((2,-1))\n",
    "print(arr2d)\n",
    "# 标量参数 2 和轴 0 - 数组 arr2d 中每个元素沿着轴 0 复制 2 遍。\n",
    "print(arr2d.repeat(3,axis=0))\n",
    "#标量参数 3 和轴 0 - 数组 arr2d 中每个元素沿着轴 1 复制 3 遍。\n",
    "print(arr2d.repeat(3,axis=1))\n",
    "# 列表和轴\n",
    "# 列表参数 [2,3,4] 和轴 1 - 数组 arr2d 中每个元素沿着轴 1 分别复制 2, 3, 4 遍。\n",
    "print(arr2d.repeat([2,3,4],axis=1))"
   ]
  },
  {
   "cell_type": "code",
   "execution_count": 116,
   "metadata": {
    "ExecuteTime": {
     "end_time": "2019-07-08T13:56:00.613092Z",
     "start_time": "2019-07-08T13:56:00.609095Z"
    },
    "code_folding": [
     0
    ],
    "collapsed": true
   },
   "outputs": [],
   "source": [
    "# 拼接 复制的时数组本身，参数设定方法\n",
    "# 标量:把数组当成一个元素，一列一列复制\n",
    "# 形状:把数组当成一个元素，按形状复制"
   ]
  },
  {
   "cell_type": "code",
   "execution_count": 119,
   "metadata": {
    "ExecuteTime": {
     "end_time": "2019-07-08T13:58:44.843232Z",
     "start_time": "2019-07-08T13:58:44.839234Z"
    },
    "code_folding": []
   },
   "outputs": [
    {
     "name": "stdout",
     "output_type": "stream",
     "text": [
      "[[0 1 2]\n",
      " [3 4 5]]\n",
      "[[0 1 2 0 1 2]\n",
      " [3 4 5 3 4 5]]\n",
      "[[0 1 2 0 1 2 0 1 2]\n",
      " [3 4 5 3 4 5 3 4 5]\n",
      " [0 1 2 0 1 2 0 1 2]\n",
      " [3 4 5 3 4 5 3 4 5]]\n"
     ]
    }
   ],
   "source": [
    "# 标量\n",
    "arr2d = np.arange(6).reshape((2,-1))\n",
    "print(arr2d)\n",
    "# 标量参数 2 - 数组 arr 按列复制 2 遍。\n",
    "print(np.tile(arr2d,2))\n",
    "# 标量参数 (2,3) - 数组 arr 按形状复制 6 (2×3) 遍，并以 (2,3) 的形式展现。\n",
    "print(np.tile(arr2d,(2,3)))"
   ]
  },
  {
   "cell_type": "markdown",
   "metadata": {},
   "source": [
    "# 5.4 其他操作"
   ]
  },
  {
   "cell_type": "code",
   "execution_count": 120,
   "metadata": {
    "ExecuteTime": {
     "end_time": "2019-07-08T14:00:48.431978Z",
     "start_time": "2019-07-08T14:00:48.427980Z"
    },
    "code_folding": [],
    "collapsed": true
   },
   "outputs": [],
   "source": [
    "# 排序，插入，删除，copy"
   ]
  },
  {
   "cell_type": "code",
   "execution_count": 135,
   "metadata": {
    "ExecuteTime": {
     "end_time": "2019-07-08T14:18:41.984062Z",
     "start_time": "2019-07-08T14:18:41.977067Z"
    }
   },
   "outputs": [
    {
     "name": "stdout",
     "output_type": "stream",
     "text": [
      "Before sort [5 3 2 6 1 4]\n",
      "After sort [5 3 2 6 1 4]\n",
      "[4 1 6 2 3 5]\n",
      "****************************\n",
      "[[28 21 23  7]\n",
      " [13  5 10 34]\n",
      " [ 8  0 10 20]]\n",
      "============================\n",
      "[[ 7  8 21 23]\n",
      " [ 5 10 13 34]\n",
      " [ 0 10 20 28]]\n"
     ]
    }
   ],
   "source": [
    "# 直接排序\n",
    "arr = np.array([5,3,2,6,1,4])\n",
    "print('Before sort',arr)\n",
    "# 下面操作改变原数组\n",
    "#arr.sort()\n",
    "# 下面操作不改变原数组\n",
    "# arr = np.sort(arr)\n",
    "print('After sort',arr)\n",
    "# 默认是升序，下面是降序操作\n",
    "print(arr[::-1])\n",
    "print(\"****************************\")\n",
    "# 根据轴来排序\n",
    "arr = np.random.randint(40,size=(3,4))\n",
    "print(arr)\n",
    "print(\"============================\")\n",
    "arr[:,0].sort()\n",
    "arr.sort(axis=1)\n",
    "print(arr)"
   ]
  },
  {
   "cell_type": "code",
   "execution_count": null,
   "metadata": {
    "code_folding": [
     0
    ],
    "collapsed": true
   },
   "outputs": [],
   "source": [
    "# 间接排序\n",
    "# 有时候我们不仅仅只想排序数组，还想在排序过程中提取每个元素在原数组对应的索引(index)"
   ]
  },
  {
   "cell_type": "code",
   "execution_count": 139,
   "metadata": {
    "ExecuteTime": {
     "end_time": "2019-07-08T14:20:54.399798Z",
     "start_time": "2019-07-08T14:20:54.394801Z"
    }
   },
   "outputs": [
    {
     "name": "stdout",
     "output_type": "stream",
     "text": [
      "[1 3 4 2 0]\n",
      "[ 60  80  91  99 100]\n"
     ]
    }
   ],
   "source": [
    "score = np.array([100, 60, 99, 80, 91])\n",
    "idx = score.argsort()\n",
    "print(idx)\n",
    "print(score[idx])"
   ]
  },
  {
   "cell_type": "code",
   "execution_count": 143,
   "metadata": {
    "ExecuteTime": {
     "end_time": "2019-07-08T14:23:35.288406Z",
     "start_time": "2019-07-08T14:23:35.277411Z"
    }
   },
   "outputs": [
    {
     "name": "stdout",
     "output_type": "stream",
     "text": [
      "[0 1 2 3 4 5]\n",
      "[  0 200   1   2   3   4   5]\n",
      "[0 2 4 5]\n"
     ]
    }
   ],
   "source": [
    "# 插入和删除\n",
    "# insert插入到某个特定位置前插入元素\n",
    "# delete删除某些特定元素\n",
    "a = np.arange(6)\n",
    "print(a)\n",
    "print(np.insert(a,1,200))\n",
    "print(np.delete(a,[1,3]))"
   ]
  },
  {
   "cell_type": "code",
   "execution_count": 146,
   "metadata": {
    "ExecuteTime": {
     "end_time": "2019-07-08T14:24:54.069326Z",
     "start_time": "2019-07-08T14:24:54.063329Z"
    }
   },
   "outputs": [
    {
     "name": "stdout",
     "output_type": "stream",
     "text": [
      "Before changing value, a is [0 1 2 3 4 5]\n",
      "Before changing value, a_copy is [0 1 2 3 4 5]\n",
      "After changing value, a_copy is [ 0  1  2  3  4 99]\n",
      "After changing value, a is [0 1 2 3 4 5]\n"
     ]
    }
   ],
   "source": [
    "# 复制操作\n",
    "# 用copy()函数来复制数组 a 得到 a_copy，很明显，改变 a_copy 里面的元素不会改变 a。\n",
    "a = np.arange(6)\n",
    "a_copy = a.copy()\n",
    "print( 'Before changing value, a is', a )\n",
    "print( 'Before changing value, a_copy is', a_copy )\n",
    "a_copy[-1] = 99\n",
    "print( 'After changing value, a_copy is', a_copy )\n",
    "print( 'After changing value, a is', a )"
   ]
  },
  {
   "cell_type": "markdown",
   "metadata": {},
   "source": [
    "# 6.数组的计算"
   ]
  },
  {
   "cell_type": "markdown",
   "metadata": {},
   "source": [
    "# 6.1二元运算"
   ]
  },
  {
   "cell_type": "code",
   "execution_count": 151,
   "metadata": {
    "ExecuteTime": {
     "end_time": "2019-07-08T14:29:50.995939Z",
     "start_time": "2019-07-08T14:29:50.986943Z"
    }
   },
   "outputs": [
    {
     "name": "stdout",
     "output_type": "stream",
     "text": [
      "[[1. 2. 3.]\n",
      " [5. 6. 7.]]\n",
      "[[2. 2. 2.]\n",
      " [2. 2. 2.]]\n",
      "[[ 4.  5.  6.]\n",
      " [ 8.  9. 10.]]\n",
      "[[-1.  0.  1.]\n",
      " [ 3.  4.  5.]]\n",
      "[[ 2.  4.  6.]\n",
      " [10. 12. 14.]]\n",
      "[[0.5 1.  1.5]\n",
      " [2.5 3.  3.5]]\n",
      "[[1.         0.5        0.33333333]\n",
      " [0.2        0.16666667 0.14285714]]\n",
      "[[ 1.  4.  9.]\n",
      " [25. 36. 49.]]\n",
      "[[   2.71828183    7.3890561    20.08553692]\n",
      " [ 148.4131591   403.42879349 1096.63315843]]\n",
      "[[0.         0.69314718 1.09861229]\n",
      " [1.60943791 1.79175947 1.94591015]]\n"
     ]
    }
   ],
   "source": [
    "arr1 = np.array([[1,2,3,],[5,6,7.]])\n",
    "arr2 = np.ones((2,3))*2\n",
    "print(arr1)\n",
    "print(arr2)\n",
    "# 加\n",
    "print(arr1 + arr2 + 1)\n",
    "# 减\n",
    "print(arr1 - arr2)\n",
    "# 乘\n",
    "print(arr1 * arr2)\n",
    "# 除\n",
    "print(arr1 / arr2)\n",
    "# 倒数 \n",
    "print(1 / arr1)\n",
    "# 平方\n",
    "print(arr1**2)\n",
    "# 指数\n",
    "print(np.exp(arr1))\n",
    "# 对数\n",
    "print(np.log(arr1))"
   ]
  },
  {
   "cell_type": "code",
   "execution_count": null,
   "metadata": {
    "collapsed": true
   },
   "outputs": [],
   "source": []
  }
 ],
 "metadata": {
  "anaconda-cloud": {},
  "kernelspec": {
   "display_name": "py3.6",
   "language": "python",
   "name": "py3.6"
  },
  "language_info": {
   "codemirror_mode": {
    "name": "ipython",
    "version": 3
   },
   "file_extension": ".py",
   "mimetype": "text/x-python",
   "name": "python",
   "nbconvert_exporter": "python",
   "pygments_lexer": "ipython3",
   "version": "3.6.8"
  },
  "toc": {
   "base_numbering": 1,
   "nav_menu": {},
   "number_sections": false,
   "sideBar": true,
   "skip_h1_title": false,
   "title_cell": "Table of Contents",
   "title_sidebar": "Contents",
   "toc_cell": false,
   "toc_position": {
    "height": "135px",
    "left": "753.991px",
    "top": "87.9972px",
    "width": "196px"
   },
   "toc_section_display": true,
   "toc_window_display": true
  },
  "varInspector": {
   "cols": {
    "lenName": 16,
    "lenType": 16,
    "lenVar": 40
   },
   "kernels_config": {
    "python": {
     "delete_cmd_postfix": "",
     "delete_cmd_prefix": "del ",
     "library": "var_list.py",
     "varRefreshCmd": "print(var_dic_list())"
    },
    "r": {
     "delete_cmd_postfix": ") ",
     "delete_cmd_prefix": "rm(",
     "library": "var_list.r",
     "varRefreshCmd": "cat(var_dic_list()) "
    }
   },
   "types_to_exclude": [
    "module",
    "function",
    "builtin_function_or_method",
    "instance",
    "_Feature"
   ],
   "window_display": false
  }
 },
 "nbformat": 4,
 "nbformat_minor": 1
}
