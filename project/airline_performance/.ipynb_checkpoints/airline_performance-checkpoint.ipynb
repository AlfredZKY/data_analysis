{
 "cells": [
  {
   "cell_type": "markdown",
   "metadata": {},
   "source": [
    "# 分析美国航班延误"
   ]
  },
  {
   "cell_type": "code",
   "execution_count": 11,
   "metadata": {
    "ExecuteTime": {
     "end_time": "2019-11-10T10:07:24.843566Z",
     "start_time": "2019-11-10T10:07:24.837060Z"
    }
   },
   "outputs": [],
   "source": [
    "import numpy as np\n",
    "import pandas as pd\n",
    "import matplotlib.pyplot as plt\n",
    "import seaborn as sns\n",
    "import matplotlib\n",
    "%matplotlib inline"
   ]
  },
  {
   "cell_type": "markdown",
   "metadata": {},
   "source": [
    "# 设置seaborn的参数,和一些全局参数的设置"
   ]
  },
  {
   "cell_type": "code",
   "execution_count": 2,
   "metadata": {
    "ExecuteTime": {
     "end_time": "2019-11-10T10:05:23.456361Z",
     "start_time": "2019-11-10T10:05:23.451356Z"
    }
   },
   "outputs": [],
   "source": [
    "colors = sns.color_palette(\"deep\")\n",
    "sns.set_context(rc={'figure.figsize':(15,5)})\n",
    "pd.set_option('display.max_columns',10)\n",
    "pd.set_option('display.max_rows',10)"
   ]
  },
  {
   "cell_type": "markdown",
   "metadata": {},
   "source": [
    "# 导入数据,并查看一些基本数据"
   ]
  },
  {
   "cell_type": "code",
   "execution_count": 3,
   "metadata": {
    "ExecuteTime": {
     "end_time": "2019-11-10T10:05:24.498318Z",
     "start_time": "2019-11-10T10:05:23.459364Z"
    }
   },
   "outputs": [
    {
     "name": "stdout",
     "output_type": "stream",
     "text": [
      "<class 'pandas.core.frame.DataFrame'>\n",
      "RangeIndex: 502617 entries, 0 to 502616\n",
      "Data columns (total 17 columns):\n",
      "FL_DATE                  502617 non-null object\n",
      "UNIQUE_CARRIER           502617 non-null object\n",
      "ORIGIN_AIRPORT_ID        502617 non-null int64\n",
      "ORIGIN_AIRPORT_SEQ_ID    502617 non-null int64\n",
      "ORIGIN_CITY_MARKET_ID    502617 non-null int64\n",
      "ORIGIN_STATE_ABR         502617 non-null object\n",
      "DEST_AIRPORT_ID          502617 non-null int64\n",
      "DEST_AIRPORT_SEQ_ID      502617 non-null int64\n",
      "DEST_CITY_MARKET_ID      502617 non-null int64\n",
      "DEST_STATE_ABR           502617 non-null object\n",
      "DEP_DELAY_NEW            492974 non-null float64\n",
      "DEP_DEL15                492974 non-null float64\n",
      "ARR_DELAY_NEW            490716 non-null float64\n",
      "ARR_DEL15                490716 non-null float64\n",
      "DISTANCE                 502617 non-null float64\n",
      "DISTANCE_GROUP           502617 non-null int64\n",
      "Unnamed: 16              0 non-null float64\n",
      "dtypes: float64(6), int64(7), object(4)\n",
      "memory usage: 65.2+ MB\n"
     ]
    },
    {
     "data": {
      "text/html": [
       "<div>\n",
       "<style scoped>\n",
       "    .dataframe tbody tr th:only-of-type {\n",
       "        vertical-align: middle;\n",
       "    }\n",
       "\n",
       "    .dataframe tbody tr th {\n",
       "        vertical-align: top;\n",
       "    }\n",
       "\n",
       "    .dataframe thead th {\n",
       "        text-align: right;\n",
       "    }\n",
       "</style>\n",
       "<table border=\"1\" class=\"dataframe\">\n",
       "  <thead>\n",
       "    <tr style=\"text-align: right;\">\n",
       "      <th></th>\n",
       "      <th>FL_DATE</th>\n",
       "      <th>UNIQUE_CARRIER</th>\n",
       "      <th>ORIGIN_AIRPORT_ID</th>\n",
       "      <th>ORIGIN_AIRPORT_SEQ_ID</th>\n",
       "      <th>ORIGIN_CITY_MARKET_ID</th>\n",
       "      <th>...</th>\n",
       "      <th>ARR_DELAY_NEW</th>\n",
       "      <th>ARR_DEL15</th>\n",
       "      <th>DISTANCE</th>\n",
       "      <th>DISTANCE_GROUP</th>\n",
       "      <th>Unnamed: 16</th>\n",
       "    </tr>\n",
       "  </thead>\n",
       "  <tbody>\n",
       "    <tr>\n",
       "      <td>0</td>\n",
       "      <td>2014-06-01</td>\n",
       "      <td>AA</td>\n",
       "      <td>12478</td>\n",
       "      <td>1247802</td>\n",
       "      <td>31703</td>\n",
       "      <td>...</td>\n",
       "      <td>0.0</td>\n",
       "      <td>0.0</td>\n",
       "      <td>2475.0</td>\n",
       "      <td>10</td>\n",
       "      <td>NaN</td>\n",
       "    </tr>\n",
       "    <tr>\n",
       "      <td>1</td>\n",
       "      <td>2014-06-01</td>\n",
       "      <td>AA</td>\n",
       "      <td>12892</td>\n",
       "      <td>1289203</td>\n",
       "      <td>32575</td>\n",
       "      <td>...</td>\n",
       "      <td>0.0</td>\n",
       "      <td>0.0</td>\n",
       "      <td>2475.0</td>\n",
       "      <td>10</td>\n",
       "      <td>NaN</td>\n",
       "    </tr>\n",
       "    <tr>\n",
       "      <td>2</td>\n",
       "      <td>2014-06-01</td>\n",
       "      <td>AA</td>\n",
       "      <td>12478</td>\n",
       "      <td>1247802</td>\n",
       "      <td>31703</td>\n",
       "      <td>...</td>\n",
       "      <td>0.0</td>\n",
       "      <td>0.0</td>\n",
       "      <td>2475.0</td>\n",
       "      <td>10</td>\n",
       "      <td>NaN</td>\n",
       "    </tr>\n",
       "    <tr>\n",
       "      <td>3</td>\n",
       "      <td>2014-06-01</td>\n",
       "      <td>AA</td>\n",
       "      <td>12892</td>\n",
       "      <td>1289203</td>\n",
       "      <td>32575</td>\n",
       "      <td>...</td>\n",
       "      <td>160.0</td>\n",
       "      <td>1.0</td>\n",
       "      <td>2475.0</td>\n",
       "      <td>10</td>\n",
       "      <td>NaN</td>\n",
       "    </tr>\n",
       "    <tr>\n",
       "      <td>4</td>\n",
       "      <td>2014-06-01</td>\n",
       "      <td>AA</td>\n",
       "      <td>11298</td>\n",
       "      <td>1129803</td>\n",
       "      <td>30194</td>\n",
       "      <td>...</td>\n",
       "      <td>0.0</td>\n",
       "      <td>0.0</td>\n",
       "      <td>3784.0</td>\n",
       "      <td>11</td>\n",
       "      <td>NaN</td>\n",
       "    </tr>\n",
       "  </tbody>\n",
       "</table>\n",
       "<p>5 rows × 17 columns</p>\n",
       "</div>"
      ],
      "text/plain": [
       "      FL_DATE UNIQUE_CARRIER  ORIGIN_AIRPORT_ID  ORIGIN_AIRPORT_SEQ_ID  \\\n",
       "0  2014-06-01             AA              12478                1247802   \n",
       "1  2014-06-01             AA              12892                1289203   \n",
       "2  2014-06-01             AA              12478                1247802   \n",
       "3  2014-06-01             AA              12892                1289203   \n",
       "4  2014-06-01             AA              11298                1129803   \n",
       "\n",
       "   ORIGIN_CITY_MARKET_ID  ... ARR_DELAY_NEW  ARR_DEL15  DISTANCE  \\\n",
       "0                  31703  ...           0.0        0.0    2475.0   \n",
       "1                  32575  ...           0.0        0.0    2475.0   \n",
       "2                  31703  ...           0.0        0.0    2475.0   \n",
       "3                  32575  ...         160.0        1.0    2475.0   \n",
       "4                  30194  ...           0.0        0.0    3784.0   \n",
       "\n",
       "   DISTANCE_GROUP Unnamed: 16  \n",
       "0              10         NaN  \n",
       "1              10         NaN  \n",
       "2              10         NaN  \n",
       "3              10         NaN  \n",
       "4              11         NaN  \n",
       "\n",
       "[5 rows x 17 columns]"
      ]
     },
     "execution_count": 3,
     "metadata": {},
     "output_type": "execute_result"
    }
   ],
   "source": [
    "data = pd.read_csv('./airport-ontime.csv')\n",
    "\n",
    "data.info()\n",
    "data.shape\n",
    "data.columns\n",
    "data.head()"
   ]
  },
  {
   "cell_type": "markdown",
   "metadata": {},
   "source": [
    "# 进行数据清洗,去掉一下nan值"
   ]
  },
  {
   "cell_type": "code",
   "execution_count": 4,
   "metadata": {
    "ExecuteTime": {
     "end_time": "2019-11-10T10:05:24.782579Z",
     "start_time": "2019-11-10T10:05:24.501321Z"
    }
   },
   "outputs": [
    {
     "data": {
      "text/plain": [
       "FL_DATE                      0\n",
       "UNIQUE_CARRIER               0\n",
       "ORIGIN_AIRPORT_ID            0\n",
       "ORIGIN_AIRPORT_SEQ_ID        0\n",
       "ORIGIN_CITY_MARKET_ID        0\n",
       "                         ...  \n",
       "DEP_DEL15                 9643\n",
       "ARR_DELAY_NEW            11901\n",
       "ARR_DEL15                11901\n",
       "DISTANCE                     0\n",
       "DISTANCE_GROUP               0\n",
       "Length: 16, dtype: int64"
      ]
     },
     "execution_count": 4,
     "metadata": {},
     "output_type": "execute_result"
    }
   ],
   "source": [
    "# 清洗掉整列都是nan值得情况,并直接进行修改,axis设置为列\n",
    "data.dropna(how='all',inplace=True,axis=1)\n",
    "data.head()\n",
    "data.isnull().sum()"
   ]
  },
  {
   "cell_type": "markdown",
   "metadata": {},
   "source": [
    "# 查看起飞延迟和到达延迟情况，并统计和可视化"
   ]
  },
  {
   "cell_type": "code",
   "execution_count": 5,
   "metadata": {
    "ExecuteTime": {
     "end_time": "2019-11-10T10:05:24.823616Z",
     "start_time": "2019-11-10T10:05:24.785580Z"
    }
   },
   "outputs": [
    {
     "data": {
      "text/plain": [
       "0.0    0.718261\n",
       "1.0    0.258061\n",
       "Name: ARR_DEL15, dtype: float64"
      ]
     },
     "execution_count": 5,
     "metadata": {},
     "output_type": "execute_result"
    }
   ],
   "source": [
    "data.DEP_DEL15.head()\n",
    "# 起飞准时率达到了73%左右\n",
    "data.DEP_DEL15.value_counts()/len(data)\n",
    "\n",
    "data.ARR_DEL15.head()\n",
    "# 到达准时率在71%左右\n",
    "data.ARR_DEL15.value_counts()/len(data)"
   ]
  },
  {
   "cell_type": "code",
   "execution_count": 6,
   "metadata": {
    "ExecuteTime": {
     "end_time": "2019-11-10T10:05:24.868657Z",
     "start_time": "2019-11-10T10:05:24.825616Z"
    },
    "collapsed": true
   },
   "outputs": [
    {
     "data": {
      "text/plain": [
       "ORIGIN_STATE_ABR\n",
       "TX    19016.0\n",
       "CA    15976.0\n",
       "IL    12174.0\n",
       "FL     7862.0\n",
       "GA     7799.0\n",
       "       ...   \n",
       "NH       99.0\n",
       "WV       89.0\n",
       "VI       46.0\n",
       "DE       19.0\n",
       "TT        9.0\n",
       "Name: DEP_DEL15, Length: 53, dtype: float64"
      ]
     },
     "execution_count": 6,
     "metadata": {},
     "output_type": "execute_result"
    }
   ],
   "source": [
    "# 起飞延迟汇总,以洲名进行分组\n",
    "by_origin_state = data.groupby('ORIGIN_STATE_ABR')\n",
    "departure_delay_counts = by_origin_state.DEP_DEL15.sum()\n",
    "departure_delay_counts.sort_values(ascending=False)"
   ]
  },
  {
   "cell_type": "code",
   "execution_count": 7,
   "metadata": {
    "ExecuteTime": {
     "end_time": "2019-11-10T10:05:24.913698Z",
     "start_time": "2019-11-10T10:05:24.870658Z"
    },
    "collapsed": true
   },
   "outputs": [
    {
     "data": {
      "text/plain": [
       "DEST_STATE_ABR\n",
       "TX    17849.0\n",
       "CA    17700.0\n",
       "IL    11529.0\n",
       "FL     7537.0\n",
       "GA     6566.0\n",
       "       ...   \n",
       "VT      153.0\n",
       "WV       99.0\n",
       "VI       73.0\n",
       "DE       30.0\n",
       "TT       13.0\n",
       "Name: ARR_DEL15, Length: 53, dtype: float64"
      ]
     },
     "execution_count": 7,
     "metadata": {},
     "output_type": "execute_result"
    }
   ],
   "source": [
    "# 到达延迟汇总\n",
    "by_dest_state=data.groupby('DEST_STATE_ABR')\n",
    "arrival_delay_counts = by_dest_state.ARR_DEL15.sum()\n",
    "arrival_delay_counts = arrival_delay_counts.sort_values(ascending=False)\n",
    "arrival_delay_counts"
   ]
  },
  {
   "cell_type": "code",
   "execution_count": 8,
   "metadata": {
    "ExecuteTime": {
     "end_time": "2019-11-10T10:05:24.935718Z",
     "start_time": "2019-11-10T10:05:24.916700Z"
    },
    "collapsed": true
   },
   "outputs": [
    {
     "data": {
      "text/html": [
       "<div>\n",
       "<style scoped>\n",
       "    .dataframe tbody tr th:only-of-type {\n",
       "        vertical-align: middle;\n",
       "    }\n",
       "\n",
       "    .dataframe tbody tr th {\n",
       "        vertical-align: top;\n",
       "    }\n",
       "\n",
       "    .dataframe thead th {\n",
       "        text-align: right;\n",
       "    }\n",
       "</style>\n",
       "<table border=\"1\" class=\"dataframe\">\n",
       "  <thead>\n",
       "    <tr style=\"text-align: right;\">\n",
       "      <th></th>\n",
       "      <th>DEP_DEL15</th>\n",
       "      <th>ARR_DEL15</th>\n",
       "    </tr>\n",
       "  </thead>\n",
       "  <tbody>\n",
       "    <tr>\n",
       "      <td>AK</td>\n",
       "      <td>524.0</td>\n",
       "      <td>717.0</td>\n",
       "    </tr>\n",
       "    <tr>\n",
       "      <td>AL</td>\n",
       "      <td>641.0</td>\n",
       "      <td>803.0</td>\n",
       "    </tr>\n",
       "    <tr>\n",
       "      <td>AR</td>\n",
       "      <td>789.0</td>\n",
       "      <td>866.0</td>\n",
       "    </tr>\n",
       "    <tr>\n",
       "      <td>AZ</td>\n",
       "      <td>3939.0</td>\n",
       "      <td>3572.0</td>\n",
       "    </tr>\n",
       "    <tr>\n",
       "      <td>CA</td>\n",
       "      <td>15976.0</td>\n",
       "      <td>17700.0</td>\n",
       "    </tr>\n",
       "    <tr>\n",
       "      <td>...</td>\n",
       "      <td>...</td>\n",
       "      <td>...</td>\n",
       "    </tr>\n",
       "    <tr>\n",
       "      <td>VT</td>\n",
       "      <td>108.0</td>\n",
       "      <td>153.0</td>\n",
       "    </tr>\n",
       "    <tr>\n",
       "      <td>WA</td>\n",
       "      <td>2009.0</td>\n",
       "      <td>2412.0</td>\n",
       "    </tr>\n",
       "    <tr>\n",
       "      <td>WI</td>\n",
       "      <td>1165.0</td>\n",
       "      <td>1546.0</td>\n",
       "    </tr>\n",
       "    <tr>\n",
       "      <td>WV</td>\n",
       "      <td>89.0</td>\n",
       "      <td>99.0</td>\n",
       "    </tr>\n",
       "    <tr>\n",
       "      <td>WY</td>\n",
       "      <td>123.0</td>\n",
       "      <td>188.0</td>\n",
       "    </tr>\n",
       "  </tbody>\n",
       "</table>\n",
       "<p>53 rows × 2 columns</p>\n",
       "</div>"
      ],
      "text/plain": [
       "    DEP_DEL15  ARR_DEL15\n",
       "AK      524.0      717.0\n",
       "AL      641.0      803.0\n",
       "AR      789.0      866.0\n",
       "AZ     3939.0     3572.0\n",
       "CA    15976.0    17700.0\n",
       "..        ...        ...\n",
       "VT      108.0      153.0\n",
       "WA     2009.0     2412.0\n",
       "WI     1165.0     1546.0\n",
       "WV       89.0       99.0\n",
       "WY      123.0      188.0\n",
       "\n",
       "[53 rows x 2 columns]"
      ]
     },
     "execution_count": 8,
     "metadata": {},
     "output_type": "execute_result"
    }
   ],
   "source": [
    "# 将两个统计出的列表，汇总到一个空的DataFrame对象中\n",
    "# 不进行转置的话就会是两行多列数据，我们需要的是两列多行的数据\n",
    "delay_df = pd.DataFrame([departure_delay_counts,arrival_delay_counts]).T\n",
    "delay_df"
   ]
  },
  {
   "cell_type": "code",
   "execution_count": 67,
   "metadata": {
    "ExecuteTime": {
     "end_time": "2019-11-10T12:16:26.722684Z",
     "start_time": "2019-11-10T12:16:26.030050Z"
    }
   },
   "outputs": [
    {
     "data": {
      "image/png": "[encoded data removed]",
      "text/plain": [
       "<Figure size 432x288 with 1 Axes>"
      ]
     },
     "metadata": {
      "needs_background": "light"
     },
     "output_type": "display_data"
    }
   ],
   "source": [
    "new_df = delay_df.sort_values('DEP_DEL15', ascending=False)\n",
    "# new_df.plot(kind='bar', title='Number of delayed flights by state')\n",
    "\n",
    "y = new_df['DEP_DEL15'].tolist()\n",
    "\n",
    "x = len(tuple(new_df.index.to_list()))\n",
    "\n",
    "xtick = np.arange(x)\n",
    "\n",
    "p1 = plt.bar(xtick, height=y, width=3.5, label=\"延误\")\n",
    "\n",
    "plt.xticks(xtick,tuple(new_df.index.to_list()))\n",
    "plt.legend()\n",
    "\n",
    "plt.show()"
   ]
  },
  {
   "cell_type": "code",
   "execution_count": 27,
   "metadata": {
    "ExecuteTime": {
     "end_time": "2019-11-10T11:54:08.920722Z",
     "start_time": "2019-11-10T11:54:08.861161Z"
    },
    "collapsed": true
   },
   "outputs": [
    {
     "data": {
      "text/plain": [
       "CA    64034\n",
       "TX    61504\n",
       "IL    34573\n",
       "FL    34502\n",
       "GA    32328\n",
       "      ...  \n",
       "VT      472\n",
       "VI      431\n",
       "WV      294\n",
       "DE       76\n",
       "TT       41\n",
       "Name: ORIGIN_STATE_ABR, Length: 53, dtype: int64"
      ]
     },
     "execution_count": 27,
     "metadata": {},
     "output_type": "execute_result"
    }
   ],
   "source": [
    "data.ORIGIN_STATE_ABR.value_counts()"
   ]
  },
  {
   "cell_type": "code",
   "execution_count": 28,
   "metadata": {
    "ExecuteTime": {
     "end_time": "2019-11-10T11:55:39.907708Z",
     "start_time": "2019-11-10T11:55:39.800611Z"
    }
   },
   "outputs": [],
   "source": [
    "# 用百分比的方式\n",
    "pct_departure_delay = departure_delay_counts / data.ORIGIN_STATE_ABR.value_counts()\n",
    "pct_arrival_delay = arrival_delay_counts / data.DEST_STATE_ABR.value_counts()"
   ]
  },
  {
   "cell_type": "code",
   "execution_count": 29,
   "metadata": {
    "ExecuteTime": {
     "end_time": "2019-11-10T11:56:02.957032Z",
     "start_time": "2019-11-10T11:56:02.184322Z"
    },
    "collapsed": true
   },
   "outputs": [
    {
     "data": {
      "text/plain": [
       "<matplotlib.axes._subplots.AxesSubplot at 0x1d59c4d4e48>"
      ]
     },
     "execution_count": 29,
     "metadata": {},
     "output_type": "execute_result"
    },
    {
     "data": {
      "image/png": "[encoded data removed]",
      "text/plain": [
       "<Figure size 432x288 with 1 Axes>"
      ]
     },
     "metadata": {
      "needs_background": "light"
     },
     "output_type": "display_data"
    }
   ],
   "source": [
    "pct_departure_delay.sort_values(ascending=False).plot(kind='bar', title='% flights with departure delays by origin state')"
   ]
  },
  {
   "cell_type": "code",
   "execution_count": 30,
   "metadata": {
    "ExecuteTime": {
     "end_time": "2019-11-10T11:56:13.454535Z",
     "start_time": "2019-11-10T11:56:12.595747Z"
    },
    "collapsed": true
   },
   "outputs": [
    {
     "data": {
      "text/plain": [
       "<matplotlib.axes._subplots.AxesSubplot at 0x1d59c408b38>"
      ]
     },
     "execution_count": 30,
     "metadata": {},
     "output_type": "execute_result"
    },
    {
     "data": {
      "image/png": "[encoded data removed]",
      "text/plain": [
       "<Figure size 432x288 with 1 Axes>"
      ]
     },
     "metadata": {
      "needs_background": "light"
     },
     "output_type": "display_data"
    }
   ],
   "source": [
    "pct_arrival_delay.sort_values(ascending=False).plot(kind='bar', color=colors[1], title='% flights with arrival delay by destination state')"
   ]
  },
  {
   "cell_type": "code",
   "execution_count": 31,
   "metadata": {
    "ExecuteTime": {
     "end_time": "2019-11-10T11:56:33.086353Z",
     "start_time": "2019-11-10T11:56:32.079429Z"
    },
    "collapsed": true
   },
   "outputs": [
    {
     "data": {
      "text/plain": [
       "<matplotlib.axes._subplots.AxesSubplot at 0x1d59cb9ae10>"
      ]
     },
     "execution_count": 31,
     "metadata": {},
     "output_type": "execute_result"
    },
    {
     "data": {
      "image/png": "[encoded data removed]",
      "text/plain": [
       "<Figure size 432x288 with 1 Axes>"
      ]
     },
     "metadata": {
      "needs_background": "light"
     },
     "output_type": "display_data"
    }
   ],
   "source": [
    "pct_delay_df = pd.DataFrame([pct_departure_delay, pct_arrival_delay], index=['PCT_DEP_DEL15', 'PCT_ARR_DEL15']).T\n",
    "pct_delay_df.sort_values('PCT_ARR_DEL15', ascending=False).plot(kind='bar', title='Overlapping % delay plots for comparison')"
   ]
  },
  {
   "cell_type": "code",
   "execution_count": 59,
   "metadata": {
    "ExecuteTime": {
     "end_time": "2019-11-10T12:11:51.315224Z",
     "start_time": "2019-11-10T12:11:51.132056Z"
    }
   },
   "outputs": [
    {
     "name": "stdout",
     "output_type": "stream",
     "text": [
      "<class 'tuple'>\n"
     ]
    },
    {
     "data": {
      "image/png": "[encoded data removed]",
      "text/plain": [
       "<Figure size 432x288 with 1 Axes>"
      ]
     },
     "metadata": {
      "needs_background": "light"
     },
     "output_type": "display_data"
    }
   ],
   "source": [
    "import numpy as np\n",
    "import matplotlib.pyplot as plt\n",
    "import matplotlib\n",
    "\n",
    "# 将全局的字体设置为黑体\n",
    "matplotlib.rcParams['font.family'] = 'SimHei'\n",
    "\n",
    "# 数据\n",
    "N = 5\n",
    "y = [20, 10, 30, 25, 15]\n",
    "x = np.arange(N)\n",
    "# 添加地名坐标\n",
    "str1 = (\"北京\", \"上海\", \"武汉\", \"深圳\", \"重庆\")\n",
    "str2 = ('TX', 'CA', 'IL', 'FL', 'GA')\n",
    "print(type(str2))\n",
    "# 绘图 x x轴， height 高度, 默认：color=\"blue\", width=0.8\n",
    "p1 = plt.bar(x, height=y, width=0.5, label=\"城市指标\", tick_label=str2)\n",
    "\n",
    "# 添加数据标签\n",
    "# for a, b in zip(x, y):\n",
    "#     plt.text(a, b + 0.05, '%.0f' % b, ha='center', va='bottom', fontsize=10)\n",
    "\n",
    "# 添加图例\n",
    "plt.legend()\n",
    "\n",
    "# 展示图形\n",
    "plt.show()"
   ]
  },
  {
   "cell_type": "code",
   "execution_count": null,
   "metadata": {},
   "outputs": [],
   "source": []
  }
 ],
 "metadata": {
  "kernelspec": {
   "display_name": "py3.6",
   "language": "python",
   "name": "py3.6"
  },
  "language_info": {
   "codemirror_mode": {
    "name": "ipython",
    "version": 3
   },
   "file_extension": ".py",
   "mimetype": "text/x-python",
   "name": "python",
   "nbconvert_exporter": "python",
   "pygments_lexer": "ipython3",
   "version": "3.6.2"
  },
  "toc": {
   "base_numbering": 1,
   "nav_menu": {},
   "number_sections": true,
   "sideBar": true,
   "skip_h1_title": false,
   "title_cell": "Table of Contents",
   "title_sidebar": "Contents",
   "toc_cell": false,
   "toc_position": {
    "height": "calc(100% - 180px)",
    "left": "10px",
    "top": "150px",
    "width": "165px"
   },
   "toc_section_display": true,
   "toc_window_display": false
  },
  "varInspector": {
   "cols": {
    "lenName": 16,
    "lenType": 16,
    "lenVar": 40
   },
   "kernels_config": {
    "python": {
     "delete_cmd_postfix": "",
     "delete_cmd_prefix": "del ",
     "library": "var_list.py",
     "varRefreshCmd": "print(var_dic_list())"
    },
    "r": {
     "delete_cmd_postfix": ") ",
     "delete_cmd_prefix": "rm(",
     "library": "var_list.r",
     "varRefreshCmd": "cat(var_dic_list()) "
    }
   },
   "types_to_exclude": [
    "module",
    "function",
    "builtin_function_or_method",
    "instance",
    "_Feature"
   ],
   "window_display": false
  }
 },
 "nbformat": 4,
 "nbformat_minor": 2
}
