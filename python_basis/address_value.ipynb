{
 "cells": [
  {
   "cell_type": "markdown",
   "metadata": {},
   "source": [
    "python 对象可以被多个变量所指向或引用<br /> \n",
    "python的数据类型，例如整型(int)、字符串(string)<br /> \n",
    "所以 a= a+1 并不是让a的值增加1，而是表示重新创建了一个新的值为2的对象，并让a指向ta<br /> \n",
    "但是b仍然不变，仍然指向1这个对象<br /> \n",
    "a和b开始只表示两个指向同一个对象的变量而已，并不表示重新创建了新的对象，只是让同一个对象被多个变量指向引用<br /> "
   ]
  },
  {
   "cell_type": "code",
   "execution_count": 2,
   "metadata": {
    "ExecuteTime": {
     "end_time": "2019-08-26T10:55:13.375395Z",
     "start_time": "2019-08-26T10:55:13.370056Z"
    },
    "collapsed": true
   },
   "outputs": [
    {
     "name": "stdout",
     "output_type": "stream",
     "text": [
      "2 1\n"
     ]
    }
   ],
   "source": [
    "a = 1\n",
    "b = a\n",
    "a += 1\n",
    "print(a,b)"
   ]
  },
  {
   "cell_type": "markdown",
   "metadata": {},
   "source": [
    "列表是可变的，增加元素不会创建新的列表"
   ]
  },
  {
   "cell_type": "code",
   "execution_count": 4,
   "metadata": {
    "ExecuteTime": {
     "end_time": "2019-08-26T14:04:58.129658Z",
     "start_time": "2019-08-26T14:04:58.123502Z"
    },
    "collapsed": false
   },
   "outputs": [
    {
     "name": "stdout",
     "output_type": "stream",
     "text": [
      "[1, 2, 3, 4, 5]\n",
      "[1, 2, 3, 4, 5]\n"
     ]
    }
   ],
   "source": [
    "l1 = [1,2,3,4]\n",
    "l2= l1\n",
    "l1.append(5)\n",
    "print(l1)\n",
    "print(l2)"
   ]
  },
  {
   "cell_type": "markdown",
   "metadata": {},
   "source": [
    "python中变量是可以删除的，但是对象无法被删除<br />\n",
    "删除这个变量后，就无法在访问该变量，但是对象依然存在，否则会报出该变量没有定义<br />\n",
    "Python自带的垃圾回收系统会跟踪对象的引用，如果对象不止被一个变量引用，它就不会被回收<br/>"
   ]
  },
  {
   "cell_type": "code",
   "execution_count": 8,
   "metadata": {
    "ExecuteTime": {
     "end_time": "2019-08-26T14:07:26.954450Z",
     "start_time": "2019-08-26T14:07:26.949849Z"
    },
    "collapsed": false
   },
   "outputs": [],
   "source": [
    "l3 = [1,2,3]\n",
    "del l3\n",
    "# l3"
   ]
  },
  {
   "cell_type": "markdown",
   "metadata": {
    "ExecuteTime": {
     "end_time": "2019-08-26T14:28:51.401062Z",
     "start_time": "2019-08-26T14:28:51.392899Z"
    }
   },
   "source": [
    "由此可见，在python中<br/>\n",
    "1. 变量的赋值，只是让变量指向了某个对象，并不表示拷贝对象给变量，而一个对象可以被多个变量引用\n",
    "2. 可变对象(列表，字典，集合)等的改变，会改变所有指向该对象的变量\n",
    "3. 不可变对象(字符串，整型，元组)等所有指向该对象的变量的值，总是一样的，也不会改变，但是通过某些操作(+=等等)更新不可变对象的值时，会返回一个新的对象\n",
    "4. 变量可以被删除，但是对象无法被删除"
   ]
  },
  {
   "cell_type": "code",
   "execution_count": 10,
   "metadata": {
    "ExecuteTime": {
     "end_time": "2019-08-26T14:35:12.428298Z",
     "start_time": "2019-08-26T14:35:12.423703Z"
    },
    "collapsed": true
   },
   "outputs": [],
   "source": [
    "def my_func(l2):\n",
    "    l2 = l2 + [4]"
   ]
  },
  {
   "cell_type": "code",
   "execution_count": 20,
   "metadata": {
    "ExecuteTime": {
     "end_time": "2019-08-26T14:38:15.375897Z",
     "start_time": "2019-08-26T14:38:15.365147Z"
    },
    "collapsed": false
   },
   "outputs": [
    {
     "data": {
      "text/plain": [
       "[1, 2, 3]"
      ]
     },
     "execution_count": 20,
     "metadata": {},
     "output_type": "execute_result"
    }
   ],
   "source": [
    "l1 = [1,2,3]\n",
    "my_func(l1)\n",
    "l1"
   ]
  },
  {
   "cell_type": "code",
   "execution_count": 13,
   "metadata": {
    "ExecuteTime": {
     "end_time": "2019-08-26T14:36:13.600071Z",
     "start_time": "2019-08-26T14:36:13.594913Z"
    },
    "collapsed": true
   },
   "outputs": [],
   "source": [
    "def my_func1(l2):\n",
    "    l2 = l2 + [4]\n",
    "    return l2"
   ]
  },
  {
   "cell_type": "code",
   "execution_count": 21,
   "metadata": {
    "ExecuteTime": {
     "end_time": "2019-08-26T14:38:18.856341Z",
     "start_time": "2019-08-26T14:38:18.845384Z"
    },
    "collapsed": false
   },
   "outputs": [
    {
     "data": {
      "text/plain": [
       "[1, 2, 3, 4]"
      ]
     },
     "execution_count": 21,
     "metadata": {},
     "output_type": "execute_result"
    }
   ],
   "source": [
    "l1 = my_func1(l1)\n",
    "l1"
   ]
  },
  {
   "cell_type": "code",
   "execution_count": 22,
   "metadata": {
    "ExecuteTime": {
     "end_time": "2019-08-26T14:38:20.973805Z",
     "start_time": "2019-08-26T14:38:20.965005Z"
    },
    "collapsed": false
   },
   "outputs": [
    {
     "name": "stdout",
     "output_type": "stream",
     "text": [
      "140046348722440 140046807520520 140046807520520\n"
     ]
    }
   ],
   "source": [
    "l2 = [1,2,3,4]\n",
    "l2 = l3 \n",
    "print(id(l1),id(l2),id(l3))"
   ]
  },
  {
   "cell_type": "markdown",
   "metadata": {},
   "source": [
    "变量的修改方法："
   ]
  },
  {
   "cell_type": "code",
   "execution_count": 32,
   "metadata": {
    "ExecuteTime": {
     "end_time": "2019-08-26T14:41:31.750125Z",
     "start_time": "2019-08-26T14:41:31.746777Z"
    },
    "collapsed": true
   },
   "outputs": [],
   "source": [
    "d = {'a':1,'b':2}"
   ]
  },
  {
   "cell_type": "code",
   "execution_count": 33,
   "metadata": {
    "ExecuteTime": {
     "end_time": "2019-08-26T14:41:35.976076Z",
     "start_time": "2019-08-26T14:41:35.968984Z"
    },
    "collapsed": false
   },
   "outputs": [
    {
     "data": {
      "text/plain": [
       "{'a': 1, 'b': 2}"
      ]
     },
     "execution_count": 33,
     "metadata": {},
     "output_type": "execute_result"
    }
   ],
   "source": [
    "d"
   ]
  },
  {
   "cell_type": "code",
   "execution_count": 34,
   "metadata": {
    "ExecuteTime": {
     "end_time": "2019-08-26T14:41:38.181789Z",
     "start_time": "2019-08-26T14:41:38.176511Z"
    },
    "collapsed": true
   },
   "outputs": [],
   "source": [
    "def func(d):\n",
    "    d['a'] = 10\n",
    "    d['b'] = 20"
   ]
  },
  {
   "cell_type": "code",
   "execution_count": 35,
   "metadata": {
    "ExecuteTime": {
     "end_time": "2019-08-26T14:41:39.942995Z",
     "start_time": "2019-08-26T14:41:39.937553Z"
    },
    "collapsed": true
   },
   "outputs": [],
   "source": [
    "func(d)"
   ]
  },
  {
   "cell_type": "code",
   "execution_count": 36,
   "metadata": {
    "ExecuteTime": {
     "end_time": "2019-08-26T14:41:41.561030Z",
     "start_time": "2019-08-26T14:41:41.553654Z"
    },
    "collapsed": false
   },
   "outputs": [
    {
     "data": {
      "text/plain": [
       "{'a': 10, 'b': 20}"
      ]
     },
     "execution_count": 36,
     "metadata": {},
     "output_type": "execute_result"
    }
   ],
   "source": [
    "d"
   ]
  },
  {
   "cell_type": "code",
   "execution_count": 27,
   "metadata": {
    "ExecuteTime": {
     "end_time": "2019-08-26T14:40:09.497412Z",
     "start_time": "2019-08-26T14:40:09.487827Z"
    },
    "collapsed": false
   },
   "outputs": [
    {
     "data": {
      "text/plain": [
       "[1, 2, 3, 4]"
      ]
     },
     "execution_count": 27,
     "metadata": {},
     "output_type": "execute_result"
    }
   ],
   "source": [
    "l1"
   ]
  },
  {
   "cell_type": "code",
   "execution_count": 30,
   "metadata": {
    "ExecuteTime": {
     "end_time": "2019-08-26T14:40:37.501011Z",
     "start_time": "2019-08-26T14:40:37.495297Z"
    },
    "collapsed": true
   },
   "outputs": [],
   "source": [
    "def func2(l1):\n",
    "    l1.append(5)"
   ]
  },
  {
   "cell_type": "code",
   "execution_count": 31,
   "metadata": {
    "ExecuteTime": {
     "end_time": "2019-08-26T14:40:39.774489Z",
     "start_time": "2019-08-26T14:40:39.767679Z"
    },
    "collapsed": false
   },
   "outputs": [
    {
     "data": {
      "text/plain": [
       "[1, 2, 3, 4]"
      ]
     },
     "execution_count": 31,
     "metadata": {},
     "output_type": "execute_result"
    }
   ],
   "source": [
    "l1"
   ]
  },
  {
   "cell_type": "code",
   "execution_count": null,
   "metadata": {
    "collapsed": true
   },
   "outputs": [],
   "source": []
  }
 ],
 "metadata": {
  "kernelspec": {
   "display_name": "Python 3",
   "language": "python",
   "name": "python3"
  },
  "language_info": {
   "codemirror_mode": {
    "name": "ipython",
    "version": 3
   },
   "file_extension": ".py",
   "mimetype": "text/x-python",
   "name": "python",
   "nbconvert_exporter": "python",
   "pygments_lexer": "ipython3",
   "version": "3.5.5"
  },
  "toc": {
   "base_numbering": 1,
   "nav_menu": {},
   "number_sections": true,
   "sideBar": true,
   "skip_h1_title": false,
   "title_cell": "Table of Contents",
   "title_sidebar": "Contents",
   "toc_cell": false,
   "toc_position": {},
   "toc_section_display": true,
   "toc_window_display": false
  },
  "varInspector": {
   "cols": {
    "lenName": 16,
    "lenType": 16,
    "lenVar": 40
   },
   "kernels_config": {
    "python": {
     "delete_cmd_postfix": "",
     "delete_cmd_prefix": "del ",
     "library": "var_list.py",
     "varRefreshCmd": "print(var_dic_list())"
    },
    "r": {
     "delete_cmd_postfix": ") ",
     "delete_cmd_prefix": "rm(",
     "library": "var_list.r",
     "varRefreshCmd": "cat(var_dic_list()) "
    }
   },
   "types_to_exclude": [
    "module",
    "function",
    "builtin_function_or_method",
    "instance",
    "_Feature"
   ],
   "window_display": false
  }
 },
 "nbformat": 4,
 "nbformat_minor": 0
}
