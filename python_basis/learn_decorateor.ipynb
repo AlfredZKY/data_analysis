{
 "cells": [
  {
   "cell_type": "code",
   "execution_count": 1,
   "metadata": {
    "ExecuteTime": {
     "end_time": "2019-08-21T15:19:09.569354Z",
     "start_time": "2019-08-21T15:19:09.563748Z"
    },
    "collapsed": true
   },
   "outputs": [],
   "source": [
    "import functools"
   ]
  },
  {
   "cell_type": "code",
   "execution_count": 9,
   "metadata": {
    "ExecuteTime": {
     "end_time": "2019-08-21T15:23:27.055364Z",
     "start_time": "2019-08-21T15:23:27.050931Z"
    },
    "collapsed": true
   },
   "outputs": [],
   "source": [
    "def func(message):\n",
    "    # print(\"Got a message:{0}\".format(message))\n",
    "    return \"Got a message:{0}\".format(message)"
   ]
  },
  {
   "cell_type": "code",
   "execution_count": 10,
   "metadata": {
    "ExecuteTime": {
     "end_time": "2019-08-21T15:23:29.352952Z",
     "start_time": "2019-08-21T15:23:29.347444Z"
    },
    "collapsed": true
   },
   "outputs": [],
   "source": [
    "def root_call(func,message):\n",
    "    print(func(message))"
   ]
  },
  {
   "cell_type": "code",
   "execution_count": 11,
   "metadata": {
    "ExecuteTime": {
     "end_time": "2019-08-21T15:23:31.194634Z",
     "start_time": "2019-08-21T15:23:31.186844Z"
    },
    "collapsed": false
   },
   "outputs": [
    {
     "name": "stdout",
     "output_type": "stream",
     "text": [
      "Got a message:hello world\n"
     ]
    }
   ],
   "source": [
    "root_call(func,\"hello world\")"
   ]
  },
  {
   "cell_type": "code",
   "execution_count": 12,
   "metadata": {
    "ExecuteTime": {
     "end_time": "2019-08-23T10:50:52.327988Z",
     "start_time": "2019-08-23T10:50:52.320763Z"
    },
    "collapsed": true
   },
   "outputs": [],
   "source": [
    "def func1(message):\n",
    "    def get_message(message):\n",
    "        print(\"Got a message:{0}\".format(message))\n",
    "    return get_message(message)"
   ]
  },
  {
   "cell_type": "code",
   "execution_count": 13,
   "metadata": {
    "ExecuteTime": {
     "end_time": "2019-08-23T10:51:04.611603Z",
     "start_time": "2019-08-23T10:51:04.607551Z"
    },
    "collapsed": false
   },
   "outputs": [
    {
     "name": "stdout",
     "output_type": "stream",
     "text": [
      "Got a message:hello world\n"
     ]
    }
   ],
   "source": [
    "func1(\"hello world\")"
   ]
  },
  {
   "cell_type": "code",
   "execution_count": 16,
   "metadata": {
    "ExecuteTime": {
     "end_time": "2019-08-23T10:58:27.609749Z",
     "start_time": "2019-08-23T10:58:27.603771Z"
    },
    "collapsed": false
   },
   "outputs": [],
   "source": [
    "def func_close():\n",
    "    def get_message(message):\n",
    "        print(\"Got a meesage:{0}\".format(message))\n",
    "    return get_message"
   ]
  },
  {
   "cell_type": "code",
   "execution_count": 18,
   "metadata": {
    "ExecuteTime": {
     "end_time": "2019-08-23T10:58:54.194236Z",
     "start_time": "2019-08-23T10:58:54.189080Z"
    },
    "collapsed": false
   },
   "outputs": [
    {
     "name": "stdout",
     "output_type": "stream",
     "text": [
      "Got a meesage:hello world\n"
     ]
    }
   ],
   "source": [
    "send_message = func_close()\n",
    "send_message(\"hello world\")"
   ]
  },
  {
   "cell_type": "code",
   "execution_count": 19,
   "metadata": {
    "ExecuteTime": {
     "end_time": "2019-08-23T11:00:30.513409Z",
     "start_time": "2019-08-23T11:00:30.506717Z"
    },
    "collapsed": true
   },
   "outputs": [],
   "source": [
    "def my_decorator(func):\n",
    "    def wrapper(*args,**kwargs):\n",
    "        print(\"wrapper of decorator\")\n",
    "        func(*args,**kwargs)\n",
    "    return wrapper"
   ]
  },
  {
   "cell_type": "code",
   "execution_count": 20,
   "metadata": {
    "ExecuteTime": {
     "end_time": "2019-08-23T11:01:14.671185Z",
     "start_time": "2019-08-23T11:01:14.663709Z"
    },
    "collapsed": true
   },
   "outputs": [],
   "source": [
    "@my_decorator\n",
    "def greet(message):\n",
    "    print(message)"
   ]
  },
  {
   "cell_type": "code",
   "execution_count": 21,
   "metadata": {
    "ExecuteTime": {
     "end_time": "2019-08-23T11:01:33.582438Z",
     "start_time": "2019-08-23T11:01:33.576352Z"
    },
    "collapsed": false
   },
   "outputs": [
    {
     "name": "stdout",
     "output_type": "stream",
     "text": [
      "wrapper of decorator\n",
      "hello world\n"
     ]
    }
   ],
   "source": [
    "greet(\"hello world\")"
   ]
  },
  {
   "cell_type": "code",
   "execution_count": 24,
   "metadata": {
    "ExecuteTime": {
     "end_time": "2019-08-23T11:05:22.081189Z",
     "start_time": "2019-08-23T11:05:22.072234Z"
    },
    "code_folding": [],
    "collapsed": false
   },
   "outputs": [],
   "source": [
    "def repeat(num):\n",
    "    def my_decorator(func):\n",
    "        def wrapper(*args,**kwargs):\n",
    "            for i in range(num):\n",
    "                print(\"wrapper of decorator\")\n",
    "                func(*args,**kwargs)\n",
    "                \n",
    "        return wrapper\n",
    "    return my_decorator\n",
    "        "
   ]
  },
  {
   "cell_type": "code",
   "execution_count": 27,
   "metadata": {
    "ExecuteTime": {
     "end_time": "2019-08-23T11:06:11.854566Z",
     "start_time": "2019-08-23T11:06:11.847371Z"
    },
    "collapsed": true
   },
   "outputs": [],
   "source": [
    "@repeat(3)\n",
    "def greet(message):\n",
    "    print(message)"
   ]
  },
  {
   "cell_type": "code",
   "execution_count": 28,
   "metadata": {
    "ExecuteTime": {
     "end_time": "2019-08-23T11:06:14.018188Z",
     "start_time": "2019-08-23T11:06:14.014600Z"
    },
    "collapsed": false
   },
   "outputs": [
    {
     "name": "stdout",
     "output_type": "stream",
     "text": [
      "wrapper of decorator\n",
      "hello world\n",
      "wrapper of decorator\n",
      "hello world\n",
      "wrapper of decorator\n",
      "hello world\n"
     ]
    }
   ],
   "source": [
    "greet(\"hello world\")"
   ]
  },
  {
   "cell_type": "markdown",
   "metadata": {},
   "source": [
    "改变了元信息，被wrapper函数所取代，如果不想改变元信息，可以使用内置装饰器@functools.wrap，它会帮助保留原函数的元信息\n",
    "(也就是原函数的元信息，拷贝到对应的装饰器函数里)"
   ]
  },
  {
   "cell_type": "code",
   "execution_count": 29,
   "metadata": {
    "ExecuteTime": {
     "end_time": "2019-08-23T11:07:05.709800Z",
     "start_time": "2019-08-23T11:07:05.704091Z"
    },
    "collapsed": false
   },
   "outputs": [
    {
     "name": "stdout",
     "output_type": "stream",
     "text": [
      "wrapper\n"
     ]
    }
   ],
   "source": [
    "print(greet.__name__)"
   ]
  },
  {
   "cell_type": "code",
   "execution_count": 30,
   "metadata": {
    "ExecuteTime": {
     "end_time": "2019-08-23T11:07:40.456903Z",
     "start_time": "2019-08-23T11:07:40.450802Z"
    },
    "collapsed": false
   },
   "outputs": [
    {
     "name": "stdout",
     "output_type": "stream",
     "text": [
      "Help on function wrapper in module __main__:\n",
      "\n",
      "wrapper(*args, **kwargs)\n",
      "\n"
     ]
    }
   ],
   "source": [
    "help(greet)"
   ]
  },
  {
   "cell_type": "code",
   "execution_count": 38,
   "metadata": {
    "ExecuteTime": {
     "end_time": "2019-08-23T11:12:13.192483Z",
     "start_time": "2019-08-23T11:12:13.184323Z"
    },
    "collapsed": true
   },
   "outputs": [],
   "source": [
    "def my_decorator1(func):\n",
    "    @functools.wraps(func)\n",
    "    def wrapper1(*args,**kwargs):\n",
    "        print(\"wrapper1 of decorator1\")\n",
    "        print(\"my_decorator1\")\n",
    "        func(*args,**kwargs)\n",
    "    return wrapper1"
   ]
  },
  {
   "cell_type": "code",
   "execution_count": 41,
   "metadata": {
    "ExecuteTime": {
     "end_time": "2019-08-23T11:12:23.444064Z",
     "start_time": "2019-08-23T11:12:23.432682Z"
    },
    "collapsed": true
   },
   "outputs": [],
   "source": [
    "def my_decorator2(func):\n",
    "    @functools.wraps(func)\n",
    "    def wrapper2(*args,**kwargs):\n",
    "        print(\"wrapper2 of decorator2\")\n",
    "        print(\"my_decorator2\")\n",
    "        func(*args,**kwargs)\n",
    "    return wrapper2"
   ]
  },
  {
   "cell_type": "code",
   "execution_count": 42,
   "metadata": {
    "ExecuteTime": {
     "end_time": "2019-08-23T11:12:25.248899Z",
     "start_time": "2019-08-23T11:12:25.241296Z"
    },
    "collapsed": false
   },
   "outputs": [],
   "source": [
    "@my_decorator1\n",
    "@my_decorator2\n",
    "def greet(message):\n",
    "    print(message)"
   ]
  },
  {
   "cell_type": "code",
   "execution_count": 43,
   "metadata": {
    "ExecuteTime": {
     "end_time": "2019-08-23T11:12:35.533208Z",
     "start_time": "2019-08-23T11:12:35.528240Z"
    },
    "collapsed": false
   },
   "outputs": [
    {
     "name": "stdout",
     "output_type": "stream",
     "text": [
      "wrapper1 of decorator1\n",
      "my_decorator1\n",
      "wrapper2 of decorator2\n",
      "my_decorator2\n",
      "hello world\n"
     ]
    }
   ],
   "source": [
    "greet(\"hello world\")"
   ]
  },
  {
   "cell_type": "code",
   "execution_count": 44,
   "metadata": {
    "ExecuteTime": {
     "end_time": "2019-08-23T11:12:56.004919Z",
     "start_time": "2019-08-23T11:12:56.000760Z"
    },
    "collapsed": false
   },
   "outputs": [
    {
     "name": "stdout",
     "output_type": "stream",
     "text": [
      "greet\n"
     ]
    }
   ],
   "source": [
    "print(greet.__name__)"
   ]
  },
  {
   "cell_type": "code",
   "execution_count": null,
   "metadata": {
    "collapsed": true
   },
   "outputs": [],
   "source": []
  }
 ],
 "metadata": {
  "kernelspec": {
   "display_name": "Python 3",
   "language": "python",
   "name": "python3"
  },
  "language_info": {
   "codemirror_mode": {
    "name": "ipython",
    "version": 3
   },
   "file_extension": ".py",
   "mimetype": "text/x-python",
   "name": "python",
   "nbconvert_exporter": "python",
   "pygments_lexer": "ipython3",
   "version": "3.5.5"
  },
  "toc": {
   "base_numbering": 1,
   "nav_menu": {},
   "number_sections": true,
   "sideBar": true,
   "skip_h1_title": false,
   "title_cell": "Table of Contents",
   "title_sidebar": "Contents",
   "toc_cell": false,
   "toc_position": {},
   "toc_section_display": true,
   "toc_window_display": false
  },
  "varInspector": {
   "cols": {
    "lenName": 16,
    "lenType": 16,
    "lenVar": 40
   },
   "kernels_config": {
    "python": {
     "delete_cmd_postfix": "",
     "delete_cmd_prefix": "del ",
     "library": "var_list.py",
     "varRefreshCmd": "print(var_dic_list())"
    },
    "r": {
     "delete_cmd_postfix": ") ",
     "delete_cmd_prefix": "rm(",
     "library": "var_list.r",
     "varRefreshCmd": "cat(var_dic_list()) "
    }
   },
   "types_to_exclude": [
    "module",
    "function",
    "builtin_function_or_method",
    "instance",
    "_Feature"
   ],
   "window_display": false
  }
 },
 "nbformat": 4,
 "nbformat_minor": 0
}
