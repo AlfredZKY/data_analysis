{
 "cells": [
  {
   "cell_type": "code",
   "execution_count": 1,
   "metadata": {
    "ExecuteTime": {
     "end_time": "2019-08-19T07:06:12.282174Z",
     "start_time": "2019-08-19T07:06:12.272333Z"
    },
    "collapsed": true
   },
   "outputs": [],
   "source": [
    "import copy"
   ]
  },
  {
   "cell_type": "markdown",
   "metadata": {},
   "source": [
    "# 1.比较时，是比较的两个对象的值相等，还是两个对象完全相等"
   ]
  },
  {
   "cell_type": "code",
   "execution_count": 2,
   "metadata": {
    "ExecuteTime": {
     "end_time": "2019-08-19T07:07:41.440892Z",
     "start_time": "2019-08-19T07:07:41.427361Z"
    },
    "collapsed": true
   },
   "outputs": [
    {
     "name": "stdout",
     "output_type": "stream",
     "text": [
      "ok\n"
     ]
    }
   ],
   "source": [
    "a = '1'\n",
    "b = '1'\n",
    "if a == b:\n",
    "    print(\"ok\")\n",
    "else:\n",
    "    print(\"no\")"
   ]
  },
  {
   "cell_type": "markdown",
   "metadata": {},
   "source": [
    "# 2. l2是l1的拷贝，是浅拷贝还是深拷贝"
   ]
  },
  {
   "cell_type": "code",
   "execution_count": 3,
   "metadata": {
    "ExecuteTime": {
     "end_time": "2019-08-19T07:10:31.579141Z",
     "start_time": "2019-08-19T07:10:31.566311Z"
    },
    "collapsed": true
   },
   "outputs": [
    {
     "name": "stdout",
     "output_type": "stream",
     "text": [
      "[1, 2, 3] [1, 2, 11]\n"
     ]
    }
   ],
   "source": [
    "l1 = [1, 2, 3]\n",
    "l2 = list(l1)\n",
    "l2[2] = 11\n",
    "print(l1, l2)"
   ]
  },
  {
   "cell_type": "markdown",
   "metadata": {},
   "source": [
    "# 3.'=='与'is'操作符之间区别"
   ]
  },
  {
   "cell_type": "code",
   "execution_count": 4,
   "metadata": {
    "ExecuteTime": {
     "end_time": "2019-08-19T07:13:26.836115Z",
     "start_time": "2019-08-19T07:13:26.828792Z"
    },
    "collapsed": true
   },
   "outputs": [],
   "source": [
    "# '=='操作符比较对象之间的值是否相等\n",
    "# 'is'操作符比较的是对象的身份标识是否相等，即它们是否是同一个对象，是否指向同一个内存地址"
   ]
  },
  {
   "cell_type": "code",
   "execution_count": 5,
   "metadata": {
    "ExecuteTime": {
     "end_time": "2019-08-19T07:14:09.036569Z",
     "start_time": "2019-08-19T07:14:09.027443Z"
    }
   },
   "outputs": [
    {
     "name": "stdout",
     "output_type": "stream",
     "text": [
      "ok\n"
     ]
    }
   ],
   "source": [
    "if a == b:\n",
    "    print(\"ok\")"
   ]
  },
  {
   "cell_type": "code",
   "execution_count": 7,
   "metadata": {
    "ExecuteTime": {
     "end_time": "2019-08-19T07:16:09.288313Z",
     "start_time": "2019-08-19T07:16:09.278767Z"
    },
    "collapsed": true
   },
   "outputs": [
    {
     "name": "stdout",
     "output_type": "stream",
     "text": [
      "139849471297720\n",
      "139849471297720\n"
     ]
    }
   ],
   "source": [
    "# 在python中每个对象的身份标识，都能通过函数id(object)获得，因此is操作符\n",
    "# 相当于比较对象之间的ID是否相等\n",
    "print(id(a))\n",
    "print(id(b))"
   ]
  },
  {
   "cell_type": "code",
   "execution_count": 8,
   "metadata": {
    "ExecuteTime": {
     "end_time": "2019-08-19T07:20:42.812223Z",
     "start_time": "2019-08-19T07:20:42.807781Z"
    },
    "collapsed": true
   },
   "outputs": [],
   "source": [
    "# Python内部会对-5到256的整型维持一个数组，起到一个缓冲的作用。\n",
    "# 在Python源码中可以看到。所以当你试图创建一个-5到255范围内的整型\n",
    "# 数字时，Python都会从这个数组中返回相对应的引用，而不是重新开辟\n",
    "# 一块新的内存空间"
   ]
  },
  {
   "cell_type": "code",
   "execution_count": 9,
   "metadata": {
    "ExecuteTime": {
     "end_time": "2019-08-19T07:21:08.279778Z",
     "start_time": "2019-08-19T07:21:08.270441Z"
    },
    "collapsed": true
   },
   "outputs": [
    {
     "name": "stdout",
     "output_type": "stream",
     "text": [
      "139848793126160\n",
      "139848793126736\n"
     ]
    }
   ],
   "source": [
    "c = 257\n",
    "d = 257\n",
    "print(id(c))\n",
    "print(id(d))"
   ]
  },
  {
   "cell_type": "code",
   "execution_count": 10,
   "metadata": {
    "ExecuteTime": {
     "end_time": "2019-08-19T07:23:38.115471Z",
     "start_time": "2019-08-19T07:23:38.106577Z"
    },
    "collapsed": true
   },
   "outputs": [],
   "source": [
    "# is主要用于判断一个变量是否是None\n",
    "# is的效率是高于==操作符的，因为is不能重载，而==操作符去不同，\n",
    "# 执行a==b相当于执行a.__eq__(b),而Python大部分数据都会重载这个函数\n",
    "# 递归遍历对象所有值，并逐一比较"
   ]
  },
  {
   "cell_type": "code",
   "execution_count": 11,
   "metadata": {
    "ExecuteTime": {
     "end_time": "2019-08-19T07:29:34.010203Z",
     "start_time": "2019-08-19T07:29:34.006180Z"
    },
    "collapsed": true
   },
   "outputs": [],
   "source": [
    "# 元组虽然是不可变的，但是元组是可以嵌套的，它里面的元素是可变的"
   ]
  },
  {
   "cell_type": "code",
   "execution_count": 15,
   "metadata": {
    "ExecuteTime": {
     "end_time": "2019-08-19T07:33:54.780405Z",
     "start_time": "2019-08-19T07:33:54.770059Z"
    },
    "collapsed": true
   },
   "outputs": [
    {
     "name": "stdout",
     "output_type": "stream",
     "text": [
      "True\n",
      "False\n",
      "(1, 2, [3, 4, 5]) (1, 2, [3, 4])\n"
     ]
    }
   ],
   "source": [
    "t1 = (1,2,[3,4])\n",
    "t2 = (1,2,[3,4])\n",
    "print(t1 == t2)\n",
    "t1[-1].append(5)\n",
    "print(t1 == t2)\n",
    "print(t1,t2)"
   ]
  },
  {
   "cell_type": "code",
   "execution_count": 19,
   "metadata": {
    "ExecuteTime": {
     "end_time": "2019-08-19T07:35:49.347349Z",
     "start_time": "2019-08-19T07:35:49.334046Z"
    }
   },
   "outputs": [
    {
     "name": "stdout",
     "output_type": "stream",
     "text": [
      "[1, 2, 3] [1, 2, 3]\n",
      "True\n",
      "139848792516360 139848792518408\n",
      "False\n"
     ]
    }
   ],
   "source": [
    "# 深拷贝和浅拷贝\n",
    "l1 = [1,2,3]\n",
    "l2 = list(l1)\n",
    "print(l1,l2)\n",
    "print(l1==l2)\n",
    "print(id(l1),id(l2))\n",
    "print(l1 is l2)"
   ]
  },
  {
   "cell_type": "code",
   "execution_count": 23,
   "metadata": {
    "ExecuteTime": {
     "end_time": "2019-08-19T07:37:07.147282Z",
     "start_time": "2019-08-19T07:37:07.136639Z"
    }
   },
   "outputs": [
    {
     "name": "stdout",
     "output_type": "stream",
     "text": [
      "True\n",
      "139848792939208 139848792939880\n",
      "False\n"
     ]
    }
   ],
   "source": [
    "s1 = set([1,2,3])\n",
    "s2 = set(s1)\n",
    "print(s1 == s2)\n",
    "print(id(s1),id(s2))\n",
    "print(s1 is s2)"
   ]
  },
  {
   "cell_type": "markdown",
   "metadata": {},
   "source": [
    "# 可以看出以上都是浅拷贝"
   ]
  },
  {
   "cell_type": "code",
   "execution_count": 26,
   "metadata": {
    "ExecuteTime": {
     "end_time": "2019-08-19T07:39:41.732394Z",
     "start_time": "2019-08-19T07:39:41.722865Z"
    }
   },
   "outputs": [
    {
     "name": "stdout",
     "output_type": "stream",
     "text": [
      "True\n",
      "False\n",
      "139848792541384 139848792516360\n"
     ]
    }
   ],
   "source": [
    "# 当然对于可变的序列，我们还可以通过切片操作符完成拷贝\n",
    "# 通过copy库可以完成对任何对象的拷贝\n",
    "l3 = l1[:]\n",
    "print(l3 == l1)\n",
    "print(l3 is l1)\n",
    "print(id(l3),id(l1))"
   ]
  },
  {
   "cell_type": "code",
   "execution_count": 29,
   "metadata": {
    "ExecuteTime": {
     "end_time": "2019-08-19T07:42:28.420168Z",
     "start_time": "2019-08-19T07:42:28.408846Z"
    }
   },
   "outputs": [
    {
     "name": "stdout",
     "output_type": "stream",
     "text": [
      "True\n",
      "True\n"
     ]
    }
   ],
   "source": [
    "# 对于元组使用tuple()或者切片操作符\":\",不会创建一份浅拷贝，\n",
    "# 相反它会返回一个指向元组的引用\n",
    "# 这里元组只被创建一次，t1和t2同时指向这个元组\n",
    "t1 = (1,2,3)\n",
    "t2 = tuple(t1)\n",
    "print(t1 == t2)\n",
    "print(t1 is t2)"
   ]
  },
  {
   "cell_type": "code",
   "execution_count": 34,
   "metadata": {
    "ExecuteTime": {
     "end_time": "2019-08-19T07:48:45.749490Z",
     "start_time": "2019-08-19T07:48:45.721376Z"
    }
   },
   "outputs": [
    {
     "name": "stdout",
     "output_type": "stream",
     "text": [
      "True\n",
      "139848792516552 139848792455432\n",
      "False\n",
      "True\n",
      "[[1, 2, 3], (30, 40), 100]\n",
      "[[1, 2, 3], (30, 40)]\n",
      "[[1, 2, 3], (30, 40, 50, 60), 100]\n",
      "[[1, 2, 3], (30, 40)]\n"
     ]
    }
   ],
   "source": [
    "# 浅拷贝，是指重新分配一块内存，创建一个新的对象，里面的元素都是对原对象中子对象的引用\n",
    "# 因此，如果原对象中的元素不可变，那倒无所谓，但如果元素可变，浅拷贝会带来一些副作用，\n",
    "# 尤其需要注意，对于浅拷贝，会共同指向同一个列表，但元组不可变，会重新创建一个新的元组，会指向不同的地址\n",
    "l1 = [[1,2],(30,40)]\n",
    "l2 = list(l1)\n",
    "print(l1==l2)\n",
    "print(id(l1),id(l2))\n",
    "print(l1 is l2)\n",
    "print(l1[-1] is l2[-1])\n",
    "l1.append(100)\n",
    "l1[0].append(3)\n",
    "print(l1)\n",
    "print(l2)\n",
    "l1[1] += (50,60)\n",
    "print(l1)\n",
    "print(l2)"
   ]
  },
  {
   "cell_type": "code",
   "execution_count": 35,
   "metadata": {
    "ExecuteTime": {
     "end_time": "2019-08-19T09:01:19.575281Z",
     "start_time": "2019-08-19T09:01:19.571357Z"
    },
    "collapsed": true
   },
   "outputs": [],
   "source": [
    "# 上述案例可知，浅拷贝会影响我们的对象，如果想要避免这种副作用\n",
    "# 完整的拷贝一个对象，就需要深拷贝\n",
    "# 深拷贝，所谓深拷贝，是指重现分配一块内存，创建一个对象，并且将源对象中\n",
    "# 的元素，以递归的方式，赋值在新对象。"
   ]
  },
  {
   "cell_type": "markdown",
   "metadata": {},
   "source": [
    "# 4.深拷贝"
   ]
  },
  {
   "cell_type": "code",
   "execution_count": 38,
   "metadata": {
    "ExecuteTime": {
     "end_time": "2019-08-19T09:04:03.096072Z",
     "start_time": "2019-08-19T09:04:03.083032Z"
    }
   },
   "outputs": [
    {
     "name": "stdout",
     "output_type": "stream",
     "text": [
      "139848792912328 139848792540680\n",
      "[[1, 2], (30, 40)] [[1, 2], (30, 40)]\n",
      "[[1, 2, 3], (30, 40), 100] [[1, 2], (30, 40)]\n"
     ]
    }
   ],
   "source": [
    "l1 = [[1,2],(30,40)]\n",
    "l2 = copy.deepcopy(l1)\n",
    "print(id(l1),id(l2))\n",
    "print(l1,l2)\n",
    "l1.append(100)\n",
    "l1[0].append(3)\n",
    "print(l1,l2)"
   ]
  },
  {
   "cell_type": "markdown",
   "metadata": {},
   "source": [
    "# 5.最终思考"
   ]
  },
  {
   "cell_type": "code",
   "execution_count": 44,
   "metadata": {
    "ExecuteTime": {
     "end_time": "2019-08-19T09:07:43.136882Z",
     "start_time": "2019-08-19T09:07:43.114628Z"
    }
   },
   "outputs": [
    {
     "name": "stdout",
     "output_type": "stream",
     "text": [
      "[1, [...]]\n",
      "[1, [...]]\n"
     ]
    },
    {
     "ename": "RecursionError",
     "evalue": "maximum recursion depth exceeded in comparison",
     "output_type": "error",
     "traceback": [
      "\u001b[1;31m---------------------------------------------------------------------------\u001b[0m",
      "\u001b[1;31mRecursionError\u001b[0m                            Traceback (most recent call last)",
      "\u001b[1;32m<ipython-input-44-e850a493190b>\u001b[0m in \u001b[0;36m<module>\u001b[1;34m()\u001b[0m\n\u001b[0;32m      8\u001b[0m \u001b[0my\u001b[0m \u001b[1;33m=\u001b[0m \u001b[0mcopy\u001b[0m\u001b[1;33m.\u001b[0m\u001b[0mdeepcopy\u001b[0m\u001b[1;33m(\u001b[0m\u001b[0mx\u001b[0m\u001b[1;33m)\u001b[0m\u001b[1;33m\u001b[0m\u001b[0m\n\u001b[0;32m      9\u001b[0m \u001b[0mprint\u001b[0m\u001b[1;33m(\u001b[0m\u001b[0my\u001b[0m\u001b[1;33m)\u001b[0m\u001b[1;33m\u001b[0m\u001b[0m\n\u001b[1;32m---> 10\u001b[1;33m \u001b[0mprint\u001b[0m\u001b[1;33m(\u001b[0m\u001b[0mx\u001b[0m \u001b[1;33m==\u001b[0m \u001b[0my\u001b[0m\u001b[1;33m)\u001b[0m\u001b[1;33m\u001b[0m\u001b[0m\n\u001b[0m",
      "\u001b[1;31mRecursionError\u001b[0m: maximum recursion depth exceeded in comparison"
     ]
    }
   ],
   "source": [
    "# 当列表指向自身引用时，会产生一个无限嵌套的列表，测试之后，发现没有出现\n",
    "# stack overf 因为深度拷贝函数会维护一个字典，记录已经拷贝的对象及其ID\n",
    "# 拷贝过程中，如果字典已经存储了拷贝对象，则会从字典直接返回\n",
    "x = [1]\n",
    "x.append(x)\n",
    "print(x)\n",
    "\n",
    "y = copy.deepcopy(x)\n",
    "print(y)\n",
    "print(x == y)"
   ]
  },
  {
   "cell_type": "code",
   "execution_count": null,
   "metadata": {
    "collapsed": true
   },
   "outputs": [],
   "source": []
  }
 ],
 "metadata": {
  "kernelspec": {
   "display_name": "Python 3",
   "language": "python",
   "name": "python3"
  },
  "language_info": {
   "codemirror_mode": {
    "name": "ipython",
    "version": 3
   },
   "file_extension": ".py",
   "mimetype": "text/x-python",
   "name": "python",
   "nbconvert_exporter": "python",
   "pygments_lexer": "ipython3",
   "version": "3.5.4"
  },
  "toc": {
   "base_numbering": 1,
   "nav_menu": {},
   "number_sections": false,
   "sideBar": true,
   "skip_h1_title": false,
   "title_cell": "Table of Contents",
   "title_sidebar": "Contents",
   "toc_cell": false,
   "toc_position": {
    "height": "calc(100% - 180px)",
    "left": "10px",
    "top": "150px",
    "width": "165px"
   },
   "toc_section_display": true,
   "toc_window_display": true
  },
  "varInspector": {
   "cols": {
    "lenName": 16,
    "lenType": 16,
    "lenVar": 40
   },
   "kernels_config": {
    "python": {
     "delete_cmd_postfix": "",
     "delete_cmd_prefix": "del ",
     "library": "var_list.py",
     "varRefreshCmd": "print(var_dic_list())"
    },
    "r": {
     "delete_cmd_postfix": ") ",
     "delete_cmd_prefix": "rm(",
     "library": "var_list.r",
     "varRefreshCmd": "cat(var_dic_list()) "
    }
   },
   "types_to_exclude": [
    "module",
    "function",
    "builtin_function_or_method",
    "instance",
    "_Feature"
   ],
   "window_display": false
  }
 },
 "nbformat": 4,
 "nbformat_minor": 2
}
